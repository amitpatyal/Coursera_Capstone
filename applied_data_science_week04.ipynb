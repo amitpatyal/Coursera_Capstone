{
 "cells": [
  {
   "cell_type": "markdown",
   "metadata": {},
   "source": [
    "# Capstone Project - The Battle of the Neighborhoods (Week 1)\n",
    "### Applied Data Science Capstone by IBM/Coursera"
   ]
  },
  {
   "cell_type": "markdown",
   "metadata": {},
   "source": [
    "## Table of contents\n",
    "* [Introduction: Business Problem](#introduction)\n",
    "* [Data](#data)\n",
    "* [Methodology](#methodology)\n",
    "* [Analysis](#analysis)\n",
    "* [Results and Discussion](#results)\n",
    "* [Conclusion](#conclusion)"
   ]
  },
  {
   "cell_type": "markdown",
   "metadata": {},
   "source": [
    "## Introduction: Business Problem  <a name=\"introduction\"></a>##"
   ]
  },
  {
   "cell_type": "markdown",
   "metadata": {},
   "source": [
    "#### Prospects of starting a Restaurant cum Catering service by inspecting the Zones of Chennai ####"
   ]
  },
  {
   "cell_type": "markdown",
   "metadata": {},
   "source": [
    "Chennai being one of the metropolitan areas, is one of the growing IT hubs of India. With a population of 8.7 million people (86,96,010) in an area of 426 $km^2$, the city of Chennai also has a lot of leading industries including automobile, textile, petrochemicals, and hardware manufacturing. All of this makes it a potential place to start a new business. \n",
    "\n",
    "While looking for places to open a business, we need to select the busiest zones in Chennai where a constant crowd is guaranteed. In a city like Chennai there will be a huge competition for businesses. Keeping this in mind, the surrounding of the selected zones should not have a lot of similar businesses as ours. Analyzing the office areas of the zones, it is expected that there will be a lot of restaurants. But a catering service is an idea which is not much explored in these areas. So, opening up a catering service which will also operate as a restaurant will be a brilliant idea to try.\n",
    "\n",
    "While looking for places to open a business, we need to select the busiest zones in Chennai where a constant crowd is guaranteed. In a city like Chennai there will be a huge competition for businesses. Keeping this in mind, the surrounding of the selected zones should not have a lot of similar businesses as ours. Analyzing the office areas of the zones, it is expected that there will be a lot of restaurants. But a catering service is an idea which is not much explored in these areas. So, opening up a catering service which will also operate as a restaurant will be a brilliant idea to try."
   ]
  },
  {
   "cell_type": "markdown",
   "metadata": {},
   "source": [
    "The Business Problem can be stated as:\n",
    "\n",
    "#### What is the best place to open a Restaurant-cum-Catering Service in Chennai?###"
   ]
  },
  {
   "cell_type": "markdown",
   "metadata": {},
   "source": [
    "<img src='http://www.hcmadras.tn.nic.in/image/mhc-twilight-view.jpg'/>"
   ]
  },
  {
   "cell_type": "markdown",
   "metadata": {},
   "source": [
    "#### Target Audience: ####\n",
    "\n",
    "* The primary target audience for this project are definitely the entrepreneurs who want to open up a new business\n",
    "* Investors who want to invest in good business ideas\n",
    "* Offices in the locality of the business who will be interested in a contract-based catering service or employees who are interested in placing a catering order\n",
    "* Students who are exploring Data Science and are trying to learn the art of telling a story by training, analyzing and learning from a data"
   ]
  },
  {
   "cell_type": "markdown",
   "metadata": {},
   "source": [
    "## Data: Requirements and collection   <a name=\"data\"></a>##\n",
    "To open a business in an area, one needs to analyze the area, based on the average land prices, housing prices, most frequent venues, target audience, the competition and many other factors. \n",
    "In this project, the data requirements and collection are as below:"
   ]
  },
  {
   "cell_type": "markdown",
   "metadata": {},
   "source": [
    "### Zones Data (along with Coordinates) ###\n",
    "\n",
    "\n",
    "*    **Requirement:** There are 15 zones in Chennai with a total of 200 wards. The basic data required to start this project is the names of all these Zones along with their coordinates\n",
    "*    **ollection:** Web scape the data of Zones of Chennai using **‘BeautifulSoup’**. Use **‘Python Geocoder’** to get the latitude and longitude values of these zones."
   ]
  },
  {
   "cell_type": "markdown",
   "metadata": {},
   "source": [
    "### Professional Venue Data ###\n",
    "\n",
    "\n",
    "*   **Requirement:** From these 15 zones we need to find out which zones have the most professional venues like offices, hospitals, industries, factories etc. In other words, we need to know in which zones we will have a constant flow of people (customers).\n",
    "*   **Collection:** Using **‘Foursquare’** by giving a specific category ID we can find the most frequent professional venues in these 15 zones."
   ]
  },
  {
   "cell_type": "markdown",
   "metadata": {},
   "source": [
    "### Nearby Venues Data ###\n",
    "\n",
    "\n",
    "*   **Requirement:** We need to have an idea about the competition before we open a business. So, we need data about the most frequent venues nearby each selected zone.\n",
    "*   **Collection:** Explore the zones using **‘Foursquare’**"
   ]
  },
  {
   "cell_type": "markdown",
   "metadata": {},
   "source": [
    "### Pricing Data ###\n",
    "\n",
    "\n",
    "*    **Requirement:** Pricing data will help us in two ways:\n",
    "By giving us an estimate of the price values if you want to buy the land or rent it for the business.\n",
    "By giving us an idea about what kind of resident customers we are dealing with\n",
    "*    **Collection:** Websites have pricing data for all zones of Chennai. (It is generally difficult to find accurate pricing data.)"
   ]
  },
  {
   "cell_type": "markdown",
   "metadata": {},
   "source": [
    "## Step by step lets collect the data. ##"
   ]
  },
  {
   "cell_type": "markdown",
   "metadata": {},
   "source": [
    "#### Zones Data (along with Coordinates) ####"
   ]
  },
  {
   "cell_type": "markdown",
   "metadata": {},
   "source": [
    "Data about the zones of Chennai can be obtained [<b>from this website</b>](https://en.wikipedia.org/wiki/List_of_Chennai_Corporation_zones) using Web scraping. [<b>BeautifulSoup</b>](https://beautiful-soup-4.readthedocs.io/en/latest/) is a python library used to scrape data from HTML and XML files. It works along with a parser (lxml parser is being used here)."
   ]
  },
  {
   "cell_type": "code",
   "execution_count": 1,
   "metadata": {},
   "outputs": [],
   "source": [
    "from bs4 import BeautifulSoup\n",
    "import requests\n",
    "import pandas as pd\n",
    "import folium"
   ]
  },
  {
   "cell_type": "markdown",
   "metadata": {},
   "source": [
    " ##### Get the  data and parse this to Lxml #####"
   ]
  },
  {
   "cell_type": "code",
   "execution_count": 2,
   "metadata": {},
   "outputs": [],
   "source": [
    "source = requests.get('https://en.wikipedia.org/wiki/List_of_Chennai_Corporation_zones').text\n",
    "soup = BeautifulSoup(source, 'lxml')"
   ]
  },
  {
   "cell_type": "markdown",
   "metadata": {},
   "source": [
    "##### 'find' method can be used to find the required table with the class = 'wikitable sortable'. In this table, using the inspect feature of the browser, we can see that the rows are under a 'tr' tag. To get all the rows in the table we use 'find_all' method. #####"
   ]
  },
  {
   "cell_type": "code",
   "execution_count": 3,
   "metadata": {},
   "outputs": [],
   "source": [
    "table = soup.find('table', class_ = 'wikitable sortable')\n",
    "rows = table.find_all('tr')"
   ]
  },
  {
   "cell_type": "markdown",
   "metadata": {},
   "source": [
    "##### In each row, each column text is under the tag 'td'. So we strip the text out of the column as follows.#####"
   ]
  },
  {
   "cell_type": "code",
   "execution_count": 4,
   "metadata": {},
   "outputs": [],
   "source": [
    "locations = []\n",
    "for row in rows:\n",
    "    col = row.find_all('td')\n",
    "    col = [x.text.strip() for x in col]\n",
    "    try:\n",
    "        locations.append(col[1])\n",
    "    except:\n",
    "        locations.append(0)\n",
    "del locations[0]"
   ]
  },
  {
   "cell_type": "markdown",
   "metadata": {},
   "source": [
    "##### Create an empty Data Frame and add the above generated columns to it #####"
   ]
  },
  {
   "cell_type": "code",
   "execution_count": 5,
   "metadata": {},
   "outputs": [
    {
     "data": {
      "text/html": [
       "<div>\n",
       "<style scoped>\n",
       "    .dataframe tbody tr th:only-of-type {\n",
       "        vertical-align: middle;\n",
       "    }\n",
       "\n",
       "    .dataframe tbody tr th {\n",
       "        vertical-align: top;\n",
       "    }\n",
       "\n",
       "    .dataframe thead th {\n",
       "        text-align: right;\n",
       "    }\n",
       "</style>\n",
       "<table border=\"1\" class=\"dataframe\">\n",
       "  <thead>\n",
       "    <tr style=\"text-align: right;\">\n",
       "      <th></th>\n",
       "      <th>Location</th>\n",
       "    </tr>\n",
       "  </thead>\n",
       "  <tbody>\n",
       "    <tr>\n",
       "      <th>0</th>\n",
       "      <td>Thiruvottiyur</td>\n",
       "    </tr>\n",
       "    <tr>\n",
       "      <th>1</th>\n",
       "      <td>Manali</td>\n",
       "    </tr>\n",
       "    <tr>\n",
       "      <th>2</th>\n",
       "      <td>Madhavaram</td>\n",
       "    </tr>\n",
       "    <tr>\n",
       "      <th>3</th>\n",
       "      <td>Tondiarpet</td>\n",
       "    </tr>\n",
       "    <tr>\n",
       "      <th>4</th>\n",
       "      <td>Royapuram</td>\n",
       "    </tr>\n",
       "  </tbody>\n",
       "</table>\n",
       "</div>"
      ],
      "text/plain": [
       "        Location\n",
       "0  Thiruvottiyur\n",
       "1         Manali\n",
       "2     Madhavaram\n",
       "3     Tondiarpet\n",
       "4      Royapuram"
      ]
     },
     "execution_count": 5,
     "metadata": {},
     "output_type": "execute_result"
    }
   ],
   "source": [
    "df_chennai = pd.DataFrame()\n",
    "df_chennai['Location'] = locations\n",
    "df_chennai.head()"
   ]
  },
  {
   "cell_type": "markdown",
   "metadata": {},
   "source": [
    "##### We now got all the zone names. Inorder to get the coordinates of these zones we will use 'Geocoders'. #####"
   ]
  },
  {
   "cell_type": "code",
   "execution_count": 6,
   "metadata": {},
   "outputs": [],
   "source": [
    "from geopy.geocoders import Nominatim\n",
    "geolocator = Nominatim(user_agent=\"Chennai_explorer\")\n",
    "df_chennai['Latitude']= df_chennai['Location'].apply(geolocator.geocode).apply(lambda x: (x.latitude))"
   ]
  },
  {
   "cell_type": "code",
   "execution_count": 7,
   "metadata": {},
   "outputs": [
    {
     "data": {
      "text/html": [
       "<div>\n",
       "<style scoped>\n",
       "    .dataframe tbody tr th:only-of-type {\n",
       "        vertical-align: middle;\n",
       "    }\n",
       "\n",
       "    .dataframe tbody tr th {\n",
       "        vertical-align: top;\n",
       "    }\n",
       "\n",
       "    .dataframe thead th {\n",
       "        text-align: right;\n",
       "    }\n",
       "</style>\n",
       "<table border=\"1\" class=\"dataframe\">\n",
       "  <thead>\n",
       "    <tr style=\"text-align: right;\">\n",
       "      <th></th>\n",
       "      <th>Location</th>\n",
       "      <th>Latitude</th>\n",
       "      <th>Longitude</th>\n",
       "    </tr>\n",
       "  </thead>\n",
       "  <tbody>\n",
       "    <tr>\n",
       "      <th>0</th>\n",
       "      <td>Thiruvottiyur</td>\n",
       "      <td>13.172222</td>\n",
       "      <td>80.304585</td>\n",
       "    </tr>\n",
       "    <tr>\n",
       "      <th>1</th>\n",
       "      <td>Manali</td>\n",
       "      <td>32.245461</td>\n",
       "      <td>77.187293</td>\n",
       "    </tr>\n",
       "    <tr>\n",
       "      <th>2</th>\n",
       "      <td>Madhavaram</td>\n",
       "      <td>13.142931</td>\n",
       "      <td>80.232517</td>\n",
       "    </tr>\n",
       "    <tr>\n",
       "      <th>3</th>\n",
       "      <td>Tondiarpet</td>\n",
       "      <td>13.127767</td>\n",
       "      <td>80.289585</td>\n",
       "    </tr>\n",
       "    <tr>\n",
       "      <th>4</th>\n",
       "      <td>Royapuram</td>\n",
       "      <td>13.114619</td>\n",
       "      <td>80.294028</td>\n",
       "    </tr>\n",
       "  </tbody>\n",
       "</table>\n",
       "</div>"
      ],
      "text/plain": [
       "        Location   Latitude  Longitude\n",
       "0  Thiruvottiyur  13.172222  80.304585\n",
       "1         Manali  32.245461  77.187293\n",
       "2     Madhavaram  13.142931  80.232517\n",
       "3     Tondiarpet  13.127767  80.289585\n",
       "4      Royapuram  13.114619  80.294028"
      ]
     },
     "execution_count": 7,
     "metadata": {},
     "output_type": "execute_result"
    }
   ],
   "source": [
    "df_chennai['Longitude']= df_chennai['Location'].apply(geolocator.geocode).apply(lambda x: (x.longitude))\n",
    "df_chennai.head()"
   ]
  },
  {
   "cell_type": "markdown",
   "metadata": {},
   "source": [
    "#### Professional Venue Data ####\n",
    "Lets use Foursquare to find out which areas have the most professional venues. \n",
    "To do this, lets get all the professional venues in a radies of 1km from the each zone by using the Profesional venues [<b>category ID</b>](https://developer.foursquare.com/docs/resources/categories). "
   ]
  },
  {
   "cell_type": "markdown",
   "metadata": {},
   "source": [
    "##### To get access about the venues in the neighbourhoods we use Foursquare through the client details. #####"
   ]
  },
  {
   "cell_type": "code",
   "execution_count": 8,
   "metadata": {},
   "outputs": [],
   "source": [
    "CLIENT_ID = 'Your Foursquare ID' # your Foursquare ID\n",
    "CLIENT_SECRET = 'Your Foursquare Secret' # your Foursquare Secret\n",
    "VERSION = '20180605' # Foursquare API version"
   ]
  },
  {
   "cell_type": "code",
   "execution_count": 9,
   "metadata": {},
   "outputs": [],
   "source": [
    "Professional_category = '4d4b7105d754a06375d81259'\n",
    "RADIUS = 1000\n",
    "LIMIT = 100\n",
    "\n",
    "def getNearbyProfVenues(names, latitudes, longitudes, radius=RADIUS):\n",
    "    \n",
    "    venues_list=[]\n",
    "    for name, lat, lng in zip(names, latitudes, longitudes):\n",
    "        \n",
    "        # create the API request URL\n",
    "        url = 'https://api.foursquare.com/v2/venues/search?categoryId={}&client_id={}&client_secret={}&v={}&ll={},{}&radius={}&limit={}'.format(\n",
    "            Professional_category,\n",
    "            CLIENT_ID, \n",
    "            CLIENT_SECRET, \n",
    "            VERSION, \n",
    "            lat, \n",
    "            lng, \n",
    "            radius, \n",
    "            LIMIT)\n",
    "        try:    \n",
    "        # make the GET request\n",
    "            results = requests.get(url).json()[\"response\"]['venues']\n",
    "        \n",
    "            # return only relevant information for each nearby venue\n",
    "            venues_list.append([(\n",
    "                name, \n",
    "                lat, \n",
    "                lng, \n",
    "                v['name'], \n",
    "                v['location']['lat'], \n",
    "                v['location']['lng'],  \n",
    "                v['categories'][0]['name']) for v in results])\n",
    "        except:\n",
    "            results = requests.get(url).json()\n",
    "    nearby_venues = pd.DataFrame([item for venue_list in venues_list for item in venue_list])\n",
    "    nearby_venues.columns = ['Zone(Location)', \n",
    "                  'Latitude', \n",
    "                  'Longitude', \n",
    "                  'Venue', \n",
    "                  'Venue_Lat', \n",
    "                  'Venue_Long', \n",
    "                  'Venue_Category']\n",
    "        \n",
    "    return(nearby_venues)"
   ]
  },
  {
   "cell_type": "code",
   "execution_count": 10,
   "metadata": {},
   "outputs": [],
   "source": [
    "Chennai_Zones_ProfVenues = getNearbyProfVenues(names=df_chennai['Location'],\n",
    "                                   latitudes=df_chennai['Latitude'],\n",
    "                                   longitudes=df_chennai['Longitude']\n",
    "                                  )"
   ]
  },
  {
   "cell_type": "code",
   "execution_count": 11,
   "metadata": {},
   "outputs": [
    {
     "data": {
      "text/html": [
       "<div>\n",
       "<style scoped>\n",
       "    .dataframe tbody tr th:only-of-type {\n",
       "        vertical-align: middle;\n",
       "    }\n",
       "\n",
       "    .dataframe tbody tr th {\n",
       "        vertical-align: top;\n",
       "    }\n",
       "\n",
       "    .dataframe thead th {\n",
       "        text-align: right;\n",
       "    }\n",
       "</style>\n",
       "<table border=\"1\" class=\"dataframe\">\n",
       "  <thead>\n",
       "    <tr style=\"text-align: right;\">\n",
       "      <th></th>\n",
       "      <th>Zone(Location)</th>\n",
       "      <th>Latitude</th>\n",
       "      <th>Longitude</th>\n",
       "      <th>Venue</th>\n",
       "      <th>Venue_Lat</th>\n",
       "      <th>Venue_Long</th>\n",
       "      <th>Venue_Category</th>\n",
       "    </tr>\n",
       "  </thead>\n",
       "  <tbody>\n",
       "    <tr>\n",
       "      <th>0</th>\n",
       "      <td>Thiruvottiyur</td>\n",
       "      <td>13.172222</td>\n",
       "      <td>80.304585</td>\n",
       "      <td>Aakash Hospital</td>\n",
       "      <td>13.171589</td>\n",
       "      <td>80.304123</td>\n",
       "      <td>Hospital</td>\n",
       "    </tr>\n",
       "    <tr>\n",
       "      <th>1</th>\n",
       "      <td>Thiruvottiyur</td>\n",
       "      <td>13.172222</td>\n",
       "      <td>80.304585</td>\n",
       "      <td>Sri Anjaneyar Temple</td>\n",
       "      <td>13.168089</td>\n",
       "      <td>80.310348</td>\n",
       "      <td>Temple</td>\n",
       "    </tr>\n",
       "    <tr>\n",
       "      <th>2</th>\n",
       "      <td>Thiruvottiyur</td>\n",
       "      <td>13.172222</td>\n",
       "      <td>80.304585</td>\n",
       "      <td>Sri Pattinathar Temple</td>\n",
       "      <td>13.163456</td>\n",
       "      <td>80.307246</td>\n",
       "      <td>Temple</td>\n",
       "    </tr>\n",
       "    <tr>\n",
       "      <th>3</th>\n",
       "      <td>Thiruvottiyur</td>\n",
       "      <td>13.172222</td>\n",
       "      <td>80.304585</td>\n",
       "      <td>Royal Enfield</td>\n",
       "      <td>13.173354</td>\n",
       "      <td>80.307790</td>\n",
       "      <td>Factory</td>\n",
       "    </tr>\n",
       "    <tr>\n",
       "      <th>4</th>\n",
       "      <td>Thiruvottiyur</td>\n",
       "      <td>13.172222</td>\n",
       "      <td>80.304585</td>\n",
       "      <td>Angel Broking</td>\n",
       "      <td>13.167497</td>\n",
       "      <td>80.302412</td>\n",
       "      <td>Office</td>\n",
       "    </tr>\n",
       "  </tbody>\n",
       "</table>\n",
       "</div>"
      ],
      "text/plain": [
       "  Zone(Location)   Latitude  Longitude                   Venue  Venue_Lat  \\\n",
       "0  Thiruvottiyur  13.172222  80.304585         Aakash Hospital  13.171589   \n",
       "1  Thiruvottiyur  13.172222  80.304585    Sri Anjaneyar Temple  13.168089   \n",
       "2  Thiruvottiyur  13.172222  80.304585  Sri Pattinathar Temple  13.163456   \n",
       "3  Thiruvottiyur  13.172222  80.304585           Royal Enfield  13.173354   \n",
       "4  Thiruvottiyur  13.172222  80.304585           Angel Broking  13.167497   \n",
       "\n",
       "   Venue_Long Venue_Category  \n",
       "0   80.304123       Hospital  \n",
       "1   80.310348         Temple  \n",
       "2   80.307246         Temple  \n",
       "3   80.307790        Factory  \n",
       "4   80.302412         Office  "
      ]
     },
     "execution_count": 11,
     "metadata": {},
     "output_type": "execute_result"
    }
   ],
   "source": [
    "Chennai_Zones_ProfVenues.head()"
   ]
  },
  {
   "cell_type": "code",
   "execution_count": 12,
   "metadata": {},
   "outputs": [
    {
     "data": {
      "text/plain": [
       "(498, 7)"
      ]
     },
     "execution_count": 12,
     "metadata": {},
     "output_type": "execute_result"
    }
   ],
   "source": [
    "Chennai_Zones_ProfVenues.shape"
   ]
  },
  {
   "cell_type": "markdown",
   "metadata": {},
   "source": [
    "#### let's visualize all these zones on a map using 'Folium' ####"
   ]
  },
  {
   "cell_type": "code",
   "execution_count": 13,
   "metadata": {},
   "outputs": [
    {
     "data": {
      "text/html": [
       "<div style=\"width:100%;\"><div style=\"position:relative;width:100%;height:0;padding-bottom:60%;\"><iframe src=\"data:text/html;charset=utf-8;base64,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\" style=\"position:absolute;width:100%;height:100%;left:0;top:0;border:none !important;\" allowfullscreen webkitallowfullscreen mozallowfullscreen></iframe></div></div>"
      ],
      "text/plain": [
       "<folium.folium.Map at 0x7fa2f557c668>"
      ]
     },
     "execution_count": 13,
     "metadata": {},
     "output_type": "execute_result"
    }
   ],
   "source": [
    "#Chennai Lat long\n",
    "Chennai_centre =[13.0827, 80.2707]\n",
    "\n",
    "Chennai_Zones = folium.Map(location=Chennai_centre, zoom_start=12)\n",
    "folium.Marker(Chennai_centre, popup='Chennai').add_to(Chennai_Zones)\n",
    "# add markers to map\n",
    "for lat, lng, label in zip(df_chennai['Latitude'], df_chennai['Longitude'], \n",
    "                           df_chennai['Location']):\n",
    "    label = folium.Popup(label, parse_html=True)\n",
    "    folium.CircleMarker(\n",
    "        [lat, lng],\n",
    "        radius=9,\n",
    "        popup=label,\n",
    "        color='blue',\n",
    "        fill=True,\n",
    "        fill_color='yellow',\n",
    "        fill_opacity=0.7).add_to(Chennai_Zones)  \n",
    "    \n",
    "Chennai_Zones"
   ]
  },
  {
   "cell_type": "code",
   "execution_count": null,
   "metadata": {},
   "outputs": [],
   "source": []
  }
 ],
 "metadata": {
  "kernelspec": {
   "display_name": "Python",
   "language": "python",
   "name": "conda-env-python-py"
  },
  "language_info": {
   "codemirror_mode": {
    "name": "ipython",
    "version": 3
   },
   "file_extension": ".py",
   "mimetype": "text/x-python",
   "name": "python",
   "nbconvert_exporter": "python",
   "pygments_lexer": "ipython3",
   "version": "3.6.7"
  }
 },
 "nbformat": 4,
 "nbformat_minor": 4
}
