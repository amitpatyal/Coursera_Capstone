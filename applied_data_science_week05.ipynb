{
 "cells": [
  {
   "cell_type": "markdown",
   "metadata": {},
   "source": [
    "# Capstone Project - The Battle of the Neighborhoods (Week 2)\n",
    "### Applied Data Science Capstone by IBM/Coursera"
   ]
  },
  {
   "cell_type": "markdown",
   "metadata": {},
   "source": [
    "## Table of contents\n",
    "* [Introduction: Business Problem](#introduction)\n",
    "* [Data](#data)\n",
    "* [Methodology](#methodology)\n",
    "* [Analysis](#analysis)\n",
    "* [Results and Discussion](#results)\n",
    "* [Conclusion](#conclusion)"
   ]
  },
  {
   "cell_type": "markdown",
   "metadata": {},
   "source": [
    "## Introduction: Business Problem  <a name=\"introduction\"></a>##"
   ]
  },
  {
   "cell_type": "markdown",
   "metadata": {},
   "source": [
    "#### Prospects of starting a Restaurant cum Catering service by inspecting the Zones of Chennai ####"
   ]
  },
  {
   "cell_type": "markdown",
   "metadata": {},
   "source": [
    "Chennai being one of the metropolitan areas, is one of the growing IT hubs of India. With a population of 8.7 million people (86,96,010) in an area of 426 $km^2$, the city of Chennai also has a lot of leading industries including automobile, textile, petrochemicals, and hardware manufacturing. All of this makes it a potential place to start a new business. \n",
    "\n",
    "While looking for places to open a business, we need to select the busiest zones in Chennai where a constant crowd is guaranteed. In a city like Chennai there will be a huge competition for businesses. Keeping this in mind, the surrounding of the selected zones should not have a lot of similar businesses as ours. Analyzing the office areas of the zones, it is expected that there will be a lot of restaurants. But a catering service is an idea which is not much explored in these areas. So, opening up a catering service which will also operate as a restaurant will be a brilliant idea to try.\n",
    "\n",
    "While looking for places to open a business, we need to select the busiest zones in Chennai where a constant crowd is guaranteed. In a city like Chennai there will be a huge competition for businesses. Keeping this in mind, the surrounding of the selected zones should not have a lot of similar businesses as ours. Analyzing the office areas of the zones, it is expected that there will be a lot of restaurants. But a catering service is an idea which is not much explored in these areas. So, opening up a catering service which will also operate as a restaurant will be a brilliant idea to try."
   ]
  },
  {
   "cell_type": "markdown",
   "metadata": {},
   "source": [
    "The Business Problem can be stated as:\n",
    "\n",
    "#### What is the best place to open a Restaurant-cum-Catering Service in Chennai?###"
   ]
  },
  {
   "cell_type": "markdown",
   "metadata": {},
   "source": [
    "<img src='http://www.hcmadras.tn.nic.in/image/mhc-twilight-view.jpg'/>"
   ]
  },
  {
   "cell_type": "markdown",
   "metadata": {},
   "source": [
    "#### Target Audience: ####\n",
    "\n",
    "* The primary target audience for this project are definitely the entrepreneurs who want to open up a new business\n",
    "* Investors who want to invest in good business ideas\n",
    "* Offices in the locality of the business who will be interested in a contract-based catering service or employees who are interested in placing a catering order\n",
    "* Students who are exploring Data Science and are trying to learn the art of telling a story by training, analyzing and learning from a data"
   ]
  },
  {
   "cell_type": "markdown",
   "metadata": {},
   "source": [
    "## Data: Requirements and collection   <a name=\"data\"></a>##\n",
    "To open a business in an area, one needs to analyze the area, based on the average land prices, housing prices, most frequent venues, target audience, the competition and many other factors. \n",
    "In this project, the data requirements and collection are as below:"
   ]
  },
  {
   "cell_type": "markdown",
   "metadata": {},
   "source": [
    "### Zones Data (along with Coordinates) ###\n",
    "\n",
    "\n",
    "*    **Requirement:** There are 15 zones in Chennai with a total of 200 wards. The basic data required to start this project is the names of all these Zones along with their coordinates\n",
    "*    **ollection:** Web scape the data of Zones of Chennai using **‘BeautifulSoup’**. Use **‘Python Geocoder’** to get the latitude and longitude values of these zones."
   ]
  },
  {
   "cell_type": "markdown",
   "metadata": {},
   "source": [
    "### Professional Venue Data ###\n",
    "\n",
    "\n",
    "*   **Requirement:** From these 15 zones we need to find out which zones have the most professional venues like offices, hospitals, industries, factories etc. In other words, we need to know in which zones we will have a constant flow of people (customers).\n",
    "*   **Collection:** Using **‘Foursquare’** by giving a specific category ID we can find the most frequent professional venues in these 15 zones."
   ]
  },
  {
   "cell_type": "markdown",
   "metadata": {},
   "source": [
    "### Nearby Venues Data ###\n",
    "\n",
    "\n",
    "*   **Requirement:** We need to have an idea about the competition before we open a business. So, we need data about the most frequent venues nearby each selected zone.\n",
    "*   **Collection:** Explore the zones using **‘Foursquare’**"
   ]
  },
  {
   "cell_type": "markdown",
   "metadata": {},
   "source": [
    "### Pricing Data ###\n",
    "\n",
    "\n",
    "*    **Requirement:** Pricing data will help us in two ways: \n",
    "        * By giving us an estimate of the price values if you want to buy the land or rent it for the business.\n",
    "        * By giving us an idea about what kind of resident customers we are dealing with\n",
    "*    **Collection:** Websites have pricing data for all zones of Chennai. (It is generally difficult to find accurate pricing data.)"
   ]
  },
  {
   "cell_type": "markdown",
   "metadata": {},
   "source": [
    "## Step by step lets understand the data. ##"
   ]
  },
  {
   "cell_type": "markdown",
   "metadata": {},
   "source": [
    "#### Zones Data (along with Coordinates) ####"
   ]
  },
  {
   "cell_type": "markdown",
   "metadata": {},
   "source": [
    "Data about the zones of Chennai can be obtained [<b>from this website</b>](https://en.wikipedia.org/wiki/List_of_Chennai_Corporation_zones) using Web scraping. [<b>BeautifulSoup</b>](https://beautiful-soup-4.readthedocs.io/en/latest/) is a python library used to scrape data from HTML and XML files. It works along with a parser (lxml parser is being used here)."
   ]
  },
  {
   "cell_type": "code",
   "execution_count": 1,
   "metadata": {},
   "outputs": [],
   "source": [
    "from bs4 import BeautifulSoup\n",
    "import requests\n",
    "import pandas as pd\n",
    "import numpy as np\n",
    "import folium\n",
    "import seaborn as sns\n",
    "import matplotlib.pyplot as plt"
   ]
  },
  {
   "cell_type": "markdown",
   "metadata": {},
   "source": [
    " ##### Get the  data and parse this to Lxml #####"
   ]
  },
  {
   "cell_type": "code",
   "execution_count": 2,
   "metadata": {},
   "outputs": [],
   "source": [
    "source = requests.get('https://en.wikipedia.org/wiki/List_of_Chennai_Corporation_zones').text\n",
    "soup = BeautifulSoup(source, 'lxml')"
   ]
  },
  {
   "cell_type": "markdown",
   "metadata": {},
   "source": [
    "##### 'find' method can be used to find the required table with the class = 'wikitable sortable'. In this table, using the inspect feature of the browser, we can see that the rows are under a 'tr' tag. To get all the rows in the table we use 'find_all' method. #####"
   ]
  },
  {
   "cell_type": "code",
   "execution_count": 3,
   "metadata": {},
   "outputs": [],
   "source": [
    "table = soup.find('table', class_ = 'wikitable sortable')\n",
    "rows = table.find_all('tr')"
   ]
  },
  {
   "cell_type": "markdown",
   "metadata": {},
   "source": [
    "##### In each row, each column text is under the tag 'td'. So we strip the text out of the column as follows.#####"
   ]
  },
  {
   "cell_type": "code",
   "execution_count": 4,
   "metadata": {},
   "outputs": [],
   "source": [
    "locations = []\n",
    "for row in rows:\n",
    "    col = row.find_all('td')\n",
    "    col = [x.text.strip() for x in col]\n",
    "    try:\n",
    "        locations.append(col[1])\n",
    "    except:\n",
    "        locations.append(0)\n",
    "del locations[0]"
   ]
  },
  {
   "cell_type": "markdown",
   "metadata": {},
   "source": [
    "##### Create an empty Data Frame and add the above generated columns to it #####"
   ]
  },
  {
   "cell_type": "code",
   "execution_count": 5,
   "metadata": {},
   "outputs": [
    {
     "data": {
      "text/html": [
       "<div>\n",
       "<style scoped>\n",
       "    .dataframe tbody tr th:only-of-type {\n",
       "        vertical-align: middle;\n",
       "    }\n",
       "\n",
       "    .dataframe tbody tr th {\n",
       "        vertical-align: top;\n",
       "    }\n",
       "\n",
       "    .dataframe thead th {\n",
       "        text-align: right;\n",
       "    }\n",
       "</style>\n",
       "<table border=\"1\" class=\"dataframe\">\n",
       "  <thead>\n",
       "    <tr style=\"text-align: right;\">\n",
       "      <th></th>\n",
       "      <th>Location</th>\n",
       "    </tr>\n",
       "  </thead>\n",
       "  <tbody>\n",
       "    <tr>\n",
       "      <th>0</th>\n",
       "      <td>Thiruvottiyur</td>\n",
       "    </tr>\n",
       "    <tr>\n",
       "      <th>1</th>\n",
       "      <td>Manali</td>\n",
       "    </tr>\n",
       "    <tr>\n",
       "      <th>2</th>\n",
       "      <td>Madhavaram</td>\n",
       "    </tr>\n",
       "    <tr>\n",
       "      <th>3</th>\n",
       "      <td>Tondiarpet</td>\n",
       "    </tr>\n",
       "    <tr>\n",
       "      <th>4</th>\n",
       "      <td>Royapuram</td>\n",
       "    </tr>\n",
       "  </tbody>\n",
       "</table>\n",
       "</div>"
      ],
      "text/plain": [
       "        Location\n",
       "0  Thiruvottiyur\n",
       "1         Manali\n",
       "2     Madhavaram\n",
       "3     Tondiarpet\n",
       "4      Royapuram"
      ]
     },
     "execution_count": 5,
     "metadata": {},
     "output_type": "execute_result"
    }
   ],
   "source": [
    "df_chennai = pd.DataFrame()\n",
    "df_chennai['Location'] = locations\n",
    "df_chennai.head()"
   ]
  },
  {
   "cell_type": "code",
   "execution_count": 6,
   "metadata": {},
   "outputs": [
    {
     "data": {
      "text/plain": [
       "(15, 1)"
      ]
     },
     "execution_count": 6,
     "metadata": {},
     "output_type": "execute_result"
    }
   ],
   "source": [
    "df_chennai.shape"
   ]
  },
  {
   "cell_type": "markdown",
   "metadata": {},
   "source": [
    "##### We now got all the zone names. Inorder to get the coordinates of these zones we will use 'Geocoders'. #####"
   ]
  },
  {
   "cell_type": "code",
   "execution_count": 7,
   "metadata": {},
   "outputs": [],
   "source": [
    "from geopy.geocoders import Nominatim\n",
    "geolocator = Nominatim(user_agent=\"Chennai_explorer\")\n",
    "df_chennai['Latitude']= df_chennai['Location'].apply(geolocator.geocode).apply(lambda x: (x.latitude))"
   ]
  },
  {
   "cell_type": "code",
   "execution_count": 8,
   "metadata": {},
   "outputs": [
    {
     "data": {
      "text/html": [
       "<div>\n",
       "<style scoped>\n",
       "    .dataframe tbody tr th:only-of-type {\n",
       "        vertical-align: middle;\n",
       "    }\n",
       "\n",
       "    .dataframe tbody tr th {\n",
       "        vertical-align: top;\n",
       "    }\n",
       "\n",
       "    .dataframe thead th {\n",
       "        text-align: right;\n",
       "    }\n",
       "</style>\n",
       "<table border=\"1\" class=\"dataframe\">\n",
       "  <thead>\n",
       "    <tr style=\"text-align: right;\">\n",
       "      <th></th>\n",
       "      <th>Location</th>\n",
       "      <th>Latitude</th>\n",
       "      <th>Longitude</th>\n",
       "    </tr>\n",
       "  </thead>\n",
       "  <tbody>\n",
       "    <tr>\n",
       "      <th>0</th>\n",
       "      <td>Thiruvottiyur</td>\n",
       "      <td>13.172222</td>\n",
       "      <td>80.304585</td>\n",
       "    </tr>\n",
       "    <tr>\n",
       "      <th>1</th>\n",
       "      <td>Manali</td>\n",
       "      <td>32.245461</td>\n",
       "      <td>77.187293</td>\n",
       "    </tr>\n",
       "    <tr>\n",
       "      <th>2</th>\n",
       "      <td>Madhavaram</td>\n",
       "      <td>13.142931</td>\n",
       "      <td>80.232517</td>\n",
       "    </tr>\n",
       "    <tr>\n",
       "      <th>3</th>\n",
       "      <td>Tondiarpet</td>\n",
       "      <td>13.127767</td>\n",
       "      <td>80.289585</td>\n",
       "    </tr>\n",
       "    <tr>\n",
       "      <th>4</th>\n",
       "      <td>Royapuram</td>\n",
       "      <td>13.114619</td>\n",
       "      <td>80.294028</td>\n",
       "    </tr>\n",
       "  </tbody>\n",
       "</table>\n",
       "</div>"
      ],
      "text/plain": [
       "        Location   Latitude  Longitude\n",
       "0  Thiruvottiyur  13.172222  80.304585\n",
       "1         Manali  32.245461  77.187293\n",
       "2     Madhavaram  13.142931  80.232517\n",
       "3     Tondiarpet  13.127767  80.289585\n",
       "4      Royapuram  13.114619  80.294028"
      ]
     },
     "execution_count": 8,
     "metadata": {},
     "output_type": "execute_result"
    }
   ],
   "source": [
    "df_chennai['Longitude']= df_chennai['Location'].apply(geolocator.geocode).apply(lambda x: (x.longitude))\n",
    "df_chennai.head()"
   ]
  },
  {
   "cell_type": "code",
   "execution_count": 9,
   "metadata": {},
   "outputs": [
    {
     "data": {
      "text/plain": [
       "(15, 3)"
      ]
     },
     "execution_count": 9,
     "metadata": {},
     "output_type": "execute_result"
    }
   ],
   "source": [
    "df_chennai.shape"
   ]
  },
  {
   "cell_type": "markdown",
   "metadata": {},
   "source": [
    "#### let's visualize all these zones on a map using 'Folium' ####"
   ]
  },
  {
   "cell_type": "code",
   "execution_count": 10,
   "metadata": {},
   "outputs": [
    {
     "data": {
      "text/html": [
       "<div style=\"width:100%;\"><div style=\"position:relative;width:100%;height:0;padding-bottom:60%;\"><iframe src=\"data:text/html;charset=utf-8;base64,PCFET0NUWVBFIGh0bWw+CjxoZWFkPiAgICAKICAgIDxtZXRhIGh0dHAtZXF1aXY9ImNvbnRlbnQtdHlwZSIgY29udGVudD0idGV4dC9odG1sOyBjaGFyc2V0PVVURi04IiAvPgogICAgPHNjcmlwdD5MX1BSRUZFUl9DQU5WQVMgPSBmYWxzZTsgTF9OT19UT1VDSCA9IGZhbHNlOyBMX0RJU0FCTEVfM0QgPSBmYWxzZTs8L3NjcmlwdD4KICAgIDxzY3JpcHQgc3JjPSJodHRwczovL2Nkbi5qc2RlbGl2ci5uZXQvbnBtL2xlYWZsZXRAMS4yLjAvZGlzdC9sZWFmbGV0LmpzIj48L3NjcmlwdD4KICAgIDxzY3JpcHQgc3JjPSJodHRwczovL2FqYXguZ29vZ2xlYXBpcy5jb20vYWpheC9saWJzL2pxdWVyeS8xLjExLjEvanF1ZXJ5Lm1pbi5qcyI+PC9zY3JpcHQ+CiAgICA8c2NyaXB0IHNyYz0iaHR0cHM6Ly9tYXhjZG4uYm9vdHN0cmFwY2RuLmNvbS9ib290c3RyYXAvMy4yLjAvanMvYm9vdHN0cmFwLm1pbi5qcyI+PC9zY3JpcHQ+CiAgICA8c2NyaXB0IHNyYz0iaHR0cHM6Ly9jZG5qcy5jbG91ZGZsYXJlLmNvbS9hamF4L2xpYnMvTGVhZmxldC5hd2Vzb21lLW1hcmtlcnMvMi4wLjIvbGVhZmxldC5hd2Vzb21lLW1hcmtlcnMuanMiPjwvc2NyaXB0PgogICAgPGxpbmsgcmVsPSJzdHlsZXNoZWV0IiBocmVmPSJodHRwczovL2Nkbi5qc2RlbGl2ci5uZXQvbnBtL2xlYWZsZXRAMS4yLjAvZGlzdC9sZWFmbGV0LmNzcyIvPgogICAgPGxpbmsgcmVsPSJzdHlsZXNoZWV0IiBocmVmPSJodHRwczovL21heGNkbi5ib290c3RyYXBjZG4uY29tL2Jvb3RzdHJhcC8zLjIuMC9jc3MvYm9vdHN0cmFwLm1pbi5jc3MiLz4KICAgIDxsaW5rIHJlbD0ic3R5bGVzaGVldCIgaHJlZj0iaHR0cHM6Ly9tYXhjZG4uYm9vdHN0cmFwY2RuLmNvbS9ib290c3RyYXAvMy4yLjAvY3NzL2Jvb3RzdHJhcC10aGVtZS5taW4uY3NzIi8+CiAgICA8bGluayByZWw9InN0eWxlc2hlZXQiIGhyZWY9Imh0dHBzOi8vbWF4Y2RuLmJvb3RzdHJhcGNkbi5jb20vZm9udC1hd2Vzb21lLzQuNi4zL2Nzcy9mb250LWF3ZXNvbWUubWluLmNzcyIvPgogICAgPGxpbmsgcmVsPSJzdHlsZXNoZWV0IiBocmVmPSJodHRwczovL2NkbmpzLmNsb3VkZmxhcmUuY29tL2FqYXgvbGlicy9MZWFmbGV0LmF3ZXNvbWUtbWFya2Vycy8yLjAuMi9sZWFmbGV0LmF3ZXNvbWUtbWFya2Vycy5jc3MiLz4KICAgIDxsaW5rIHJlbD0ic3R5bGVzaGVldCIgaHJlZj0iaHR0cHM6Ly9yYXdnaXQuY29tL3B5dGhvbi12aXN1YWxpemF0aW9uL2ZvbGl1bS9tYXN0ZXIvZm9saXVtL3RlbXBsYXRlcy9sZWFmbGV0LmF3ZXNvbWUucm90YXRlLmNzcyIvPgogICAgPHN0eWxlPmh0bWwsIGJvZHkge3dpZHRoOiAxMDAlO2hlaWdodDogMTAwJTttYXJnaW46IDA7cGFkZGluZzogMDt9PC9zdHlsZT4KICAgIDxzdHlsZT4jbWFwIHtwb3NpdGlvbjphYnNvbHV0ZTt0b3A6MDtib3R0b206MDtyaWdodDowO2xlZnQ6MDt9PC9zdHlsZT4KICAgIAogICAgICAgICAgICA8c3R5bGU+ICNtYXBfZDNhYTUyMDMyMTgzNDU1YWFjYThkNTJmNzc0ZTAyZGUgewogICAgICAgICAgICAgICAgcG9zaXRpb24gOiByZWxhdGl2ZTsKICAgICAgICAgICAgICAgIHdpZHRoIDogMTAwLjAlOwogICAgICAgICAgICAgICAgaGVpZ2h0OiAxMDAuMCU7CiAgICAgICAgICAgICAgICBsZWZ0OiAwLjAlOwogICAgICAgICAgICAgICAgdG9wOiAwLjAlOwogICAgICAgICAgICAgICAgfQogICAgICAgICAgICA8L3N0eWxlPgogICAgICAgIAo8L2hlYWQ+Cjxib2R5PiAgICAKICAgIAogICAgICAgICAgICA8ZGl2IGNsYXNzPSJmb2xpdW0tbWFwIiBpZD0ibWFwX2QzYWE1MjAzMjE4MzQ1NWFhY2E4ZDUyZjc3NGUwMmRlIiA+PC9kaXY+CiAgICAgICAgCjwvYm9keT4KPHNjcmlwdD4gICAgCiAgICAKCiAgICAgICAgICAgIAogICAgICAgICAgICAgICAgdmFyIGJvdW5kcyA9IG51bGw7CiAgICAgICAgICAgIAoKICAgICAgICAgICAgdmFyIG1hcF9kM2FhNTIwMzIxODM0NTVhYWNhOGQ1MmY3NzRlMDJkZSA9IEwubWFwKAogICAgICAgICAgICAgICAgICAgICAgICAgICAgICAgICAgJ21hcF9kM2FhNTIwMzIxODM0NTVhYWNhOGQ1MmY3NzRlMDJkZScsCiAgICAgICAgICAgICAgICAgICAgICAgICAgICAgICAgICB7Y2VudGVyOiBbMTMuMDgyNyw4MC4yNzA3XSwKICAgICAgICAgICAgICAgICAgICAgICAgICAgICAgICAgIHpvb206IDEyLAogICAgICAgICAgICAgICAgICAgICAgICAgICAgICAgICAgbWF4Qm91bmRzOiBib3VuZHMsCiAgICAgICAgICAgICAgICAgICAgICAgICAgICAgICAgICBsYXllcnM6IFtdLAogICAgICAgICAgICAgICAgICAgICAgICAgICAgICAgICAgd29ybGRDb3B5SnVtcDogZmFsc2UsCiAgICAgICAgICAgICAgICAgICAgICAgICAgICAgICAgICBjcnM6IEwuQ1JTLkVQU0czODU3CiAgICAgICAgICAgICAgICAgICAgICAgICAgICAgICAgIH0pOwogICAgICAgICAgICAKICAgICAgICAKICAgIAogICAgICAgICAgICB2YXIgdGlsZV9sYXllcl9mZTZiODIzNDIyYzU0MTZlOTA0ZDc5MzBhNDk2M2ZjZSA9IEwudGlsZUxheWVyKAogICAgICAgICAgICAgICAgJ2h0dHBzOi8ve3N9LnRpbGUub3BlbnN0cmVldG1hcC5vcmcve3p9L3t4fS97eX0ucG5nJywKICAgICAgICAgICAgICAgIHsKICAiYXR0cmlidXRpb24iOiBudWxsLAogICJkZXRlY3RSZXRpbmEiOiBmYWxzZSwKICAibWF4Wm9vbSI6IDE4LAogICJtaW5ab29tIjogMSwKICAibm9XcmFwIjogZmFsc2UsCiAgInN1YmRvbWFpbnMiOiAiYWJjIgp9CiAgICAgICAgICAgICAgICApLmFkZFRvKG1hcF9kM2FhNTIwMzIxODM0NTVhYWNhOGQ1MmY3NzRlMDJkZSk7CiAgICAgICAgCiAgICAKCiAgICAgICAgICAgIHZhciBtYXJrZXJfNTQ0NDU2NzNkMDNkNDhlYTlmNzExN2M5M2NhNDIyNzggPSBMLm1hcmtlcigKICAgICAgICAgICAgICAgIFsxMy4wODI3LDgwLjI3MDddLAogICAgICAgICAgICAgICAgewogICAgICAgICAgICAgICAgICAgIGljb246IG5ldyBMLkljb24uRGVmYXVsdCgpCiAgICAgICAgICAgICAgICAgICAgfQogICAgICAgICAgICAgICAgKQogICAgICAgICAgICAgICAgLmFkZFRvKG1hcF9kM2FhNTIwMzIxODM0NTVhYWNhOGQ1MmY3NzRlMDJkZSk7CiAgICAgICAgICAgIAogICAgCiAgICAgICAgICAgIHZhciBwb3B1cF9mODUwNWMwZThhYjA0ZTU4YWEwNWQwZGU0NjRiZmIzMiA9IEwucG9wdXAoe21heFdpZHRoOiAnMzAwJ30pOwoKICAgICAgICAgICAgCiAgICAgICAgICAgICAgICB2YXIgaHRtbF81MjBmOTc2MTU5ZGQ0MGViYTg3ZGYxOWQxMWFhYWNkMCA9ICQoJzxkaXYgaWQ9Imh0bWxfNTIwZjk3NjE1OWRkNDBlYmE4N2RmMTlkMTFhYWFjZDAiIHN0eWxlPSJ3aWR0aDogMTAwLjAlOyBoZWlnaHQ6IDEwMC4wJTsiPkNoZW5uYWk8L2Rpdj4nKVswXTsKICAgICAgICAgICAgICAgIHBvcHVwX2Y4NTA1YzBlOGFiMDRlNThhYTA1ZDBkZTQ2NGJmYjMyLnNldENvbnRlbnQoaHRtbF81MjBmOTc2MTU5ZGQ0MGViYTg3ZGYxOWQxMWFhYWNkMCk7CiAgICAgICAgICAgIAoKICAgICAgICAgICAgbWFya2VyXzU0NDQ1NjczZDAzZDQ4ZWE5ZjcxMTdjOTNjYTQyMjc4LmJpbmRQb3B1cChwb3B1cF9mODUwNWMwZThhYjA0ZTU4YWEwNWQwZGU0NjRiZmIzMik7CgogICAgICAgICAgICAKICAgICAgICAKICAgIAogICAgICAgICAgICB2YXIgY2lyY2xlX21hcmtlcl9hOGMyNmNlMDhkZjc0M2UxOGNhODMyNDQ0MzA2NTNiNyA9IEwuY2lyY2xlTWFya2VyKAogICAgICAgICAgICAgICAgWzEzLjE3MjIyMjEsODAuMzA0NTg1NDMyNjc5MV0sCiAgICAgICAgICAgICAgICB7CiAgImJ1YmJsaW5nTW91c2VFdmVudHMiOiB0cnVlLAogICJjb2xvciI6ICJibHVlIiwKICAiZGFzaEFycmF5IjogbnVsbCwKICAiZGFzaE9mZnNldCI6IG51bGwsCiAgImZpbGwiOiB0cnVlLAogICJmaWxsQ29sb3IiOiAieWVsbG93IiwKICAiZmlsbE9wYWNpdHkiOiAwLjcsCiAgImZpbGxSdWxlIjogImV2ZW5vZGQiLAogICJsaW5lQ2FwIjogInJvdW5kIiwKICAibGluZUpvaW4iOiAicm91bmQiLAogICJvcGFjaXR5IjogMS4wLAogICJyYWRpdXMiOiA5LAogICJzdHJva2UiOiB0cnVlLAogICJ3ZWlnaHQiOiAzCn0KICAgICAgICAgICAgICAgICkuYWRkVG8obWFwX2QzYWE1MjAzMjE4MzQ1NWFhY2E4ZDUyZjc3NGUwMmRlKTsKICAgICAgICAgICAgCiAgICAKICAgICAgICAgICAgdmFyIHBvcHVwX2JmNjU5MTBlMTYzYTQ0ZDk4NGQ3MDVjMjQ1ZjdmZDNjID0gTC5wb3B1cCh7bWF4V2lkdGg6ICczMDAnfSk7CgogICAgICAgICAgICAKICAgICAgICAgICAgICAgIHZhciBodG1sXzc5ZjM1MzFjNWU1NjQ4MDFiMzVjYTFlOWFiNzNiOTIyID0gJCgnPGRpdiBpZD0iaHRtbF83OWYzNTMxYzVlNTY0ODAxYjM1Y2ExZTlhYjczYjkyMiIgc3R5bGU9IndpZHRoOiAxMDAuMCU7IGhlaWdodDogMTAwLjAlOyI+VGhpcnV2b3R0aXl1cjwvZGl2PicpWzBdOwogICAgICAgICAgICAgICAgcG9wdXBfYmY2NTkxMGUxNjNhNDRkOTg0ZDcwNWMyNDVmN2ZkM2Muc2V0Q29udGVudChodG1sXzc5ZjM1MzFjNWU1NjQ4MDFiMzVjYTFlOWFiNzNiOTIyKTsKICAgICAgICAgICAgCgogICAgICAgICAgICBjaXJjbGVfbWFya2VyX2E4YzI2Y2UwOGRmNzQzZTE4Y2E4MzI0NDQzMDY1M2I3LmJpbmRQb3B1cChwb3B1cF9iZjY1OTEwZTE2M2E0NGQ5ODRkNzA1YzI0NWY3ZmQzYyk7CgogICAgICAgICAgICAKICAgICAgICAKICAgIAogICAgICAgICAgICB2YXIgY2lyY2xlX21hcmtlcl9iOTkyYjM4MWNjMTM0MGIzYWUyNTM4Zjg4M2EwZGRlZSA9IEwuY2lyY2xlTWFya2VyKAogICAgICAgICAgICAgICAgWzMyLjI0NTQ2MDgsNzcuMTg3MjkyNl0sCiAgICAgICAgICAgICAgICB7CiAgImJ1YmJsaW5nTW91c2VFdmVudHMiOiB0cnVlLAogICJjb2xvciI6ICJibHVlIiwKICAiZGFzaEFycmF5IjogbnVsbCwKICAiZGFzaE9mZnNldCI6IG51bGwsCiAgImZpbGwiOiB0cnVlLAogICJmaWxsQ29sb3IiOiAieWVsbG93IiwKICAiZmlsbE9wYWNpdHkiOiAwLjcsCiAgImZpbGxSdWxlIjogImV2ZW5vZGQiLAogICJsaW5lQ2FwIjogInJvdW5kIiwKICAibGluZUpvaW4iOiAicm91bmQiLAogICJvcGFjaXR5IjogMS4wLAogICJyYWRpdXMiOiA5LAogICJzdHJva2UiOiB0cnVlLAogICJ3ZWlnaHQiOiAzCn0KICAgICAgICAgICAgICAgICkuYWRkVG8obWFwX2QzYWE1MjAzMjE4MzQ1NWFhY2E4ZDUyZjc3NGUwMmRlKTsKICAgICAgICAgICAgCiAgICAKICAgICAgICAgICAgdmFyIHBvcHVwXzMyZDdiMGE5MDM1YTQ4M2VhMTRhMmFjMDlhNmFmNDBjID0gTC5wb3B1cCh7bWF4V2lkdGg6ICczMDAnfSk7CgogICAgICAgICAgICAKICAgICAgICAgICAgICAgIHZhciBodG1sXzlmMTVlNzdiMmMwMjRiYzliYTQ5ZGI0YWRjOTgyNzJhID0gJCgnPGRpdiBpZD0iaHRtbF85ZjE1ZTc3YjJjMDI0YmM5YmE0OWRiNGFkYzk4MjcyYSIgc3R5bGU9IndpZHRoOiAxMDAuMCU7IGhlaWdodDogMTAwLjAlOyI+TWFuYWxpPC9kaXY+JylbMF07CiAgICAgICAgICAgICAgICBwb3B1cF8zMmQ3YjBhOTAzNWE0ODNlYTE0YTJhYzA5YTZhZjQwYy5zZXRDb250ZW50KGh0bWxfOWYxNWU3N2IyYzAyNGJjOWJhNDlkYjRhZGM5ODI3MmEpOwogICAgICAgICAgICAKCiAgICAgICAgICAgIGNpcmNsZV9tYXJrZXJfYjk5MmIzODFjYzEzNDBiM2FlMjUzOGY4ODNhMGRkZWUuYmluZFBvcHVwKHBvcHVwXzMyZDdiMGE5MDM1YTQ4M2VhMTRhMmFjMDlhNmFmNDBjKTsKCiAgICAgICAgICAgIAogICAgICAgIAogICAgCiAgICAgICAgICAgIHZhciBjaXJjbGVfbWFya2VyX2FjYjk2MDMyNmZmNTQwZDE4OTk0NDdhNWY1ODQ5ZDY1ID0gTC5jaXJjbGVNYXJrZXIoCiAgICAgICAgICAgICAgICBbMTMuMTQyOTMxMyw4MC4yMzI1MTY2XSwKICAgICAgICAgICAgICAgIHsKICAiYnViYmxpbmdNb3VzZUV2ZW50cyI6IHRydWUsCiAgImNvbG9yIjogImJsdWUiLAogICJkYXNoQXJyYXkiOiBudWxsLAogICJkYXNoT2Zmc2V0IjogbnVsbCwKICAiZmlsbCI6IHRydWUsCiAgImZpbGxDb2xvciI6ICJ5ZWxsb3ciLAogICJmaWxsT3BhY2l0eSI6IDAuNywKICAiZmlsbFJ1bGUiOiAiZXZlbm9kZCIsCiAgImxpbmVDYXAiOiAicm91bmQiLAogICJsaW5lSm9pbiI6ICJyb3VuZCIsCiAgIm9wYWNpdHkiOiAxLjAsCiAgInJhZGl1cyI6IDksCiAgInN0cm9rZSI6IHRydWUsCiAgIndlaWdodCI6IDMKfQogICAgICAgICAgICAgICAgKS5hZGRUbyhtYXBfZDNhYTUyMDMyMTgzNDU1YWFjYThkNTJmNzc0ZTAyZGUpOwogICAgICAgICAgICAKICAgIAogICAgICAgICAgICB2YXIgcG9wdXBfMjYyNWNhNWM3ZDc5NDM5Mjk0NzE2YTUyZWY1MDFlYzcgPSBMLnBvcHVwKHttYXhXaWR0aDogJzMwMCd9KTsKCiAgICAgICAgICAgIAogICAgICAgICAgICAgICAgdmFyIGh0bWxfNDRhMjMxZDc4NGJlNGI1N2I4OTg3ZmRlZDc1ODY0YWQgPSAkKCc8ZGl2IGlkPSJodG1sXzQ0YTIzMWQ3ODRiZTRiNTdiODk4N2ZkZWQ3NTg2NGFkIiBzdHlsZT0id2lkdGg6IDEwMC4wJTsgaGVpZ2h0OiAxMDAuMCU7Ij5NYWRoYXZhcmFtPC9kaXY+JylbMF07CiAgICAgICAgICAgICAgICBwb3B1cF8yNjI1Y2E1YzdkNzk0MzkyOTQ3MTZhNTJlZjUwMWVjNy5zZXRDb250ZW50KGh0bWxfNDRhMjMxZDc4NGJlNGI1N2I4OTg3ZmRlZDc1ODY0YWQpOwogICAgICAgICAgICAKCiAgICAgICAgICAgIGNpcmNsZV9tYXJrZXJfYWNiOTYwMzI2ZmY1NDBkMTg5OTQ0N2E1ZjU4NDlkNjUuYmluZFBvcHVwKHBvcHVwXzI2MjVjYTVjN2Q3OTQzOTI5NDcxNmE1MmVmNTAxZWM3KTsKCiAgICAgICAgICAgIAogICAgICAgIAogICAgCiAgICAgICAgICAgIHZhciBjaXJjbGVfbWFya2VyX2ZiZjg4ZTdmZjcxMDQ0MTJhNDY0YTllYzQ5MmZiYjRiID0gTC5jaXJjbGVNYXJrZXIoCiAgICAgICAgICAgICAgICBbMTMuMTI3NzY2OSw4MC4yODk1ODQ1XSwKICAgICAgICAgICAgICAgIHsKICAiYnViYmxpbmdNb3VzZUV2ZW50cyI6IHRydWUsCiAgImNvbG9yIjogImJsdWUiLAogICJkYXNoQXJyYXkiOiBudWxsLAogICJkYXNoT2Zmc2V0IjogbnVsbCwKICAiZmlsbCI6IHRydWUsCiAgImZpbGxDb2xvciI6ICJ5ZWxsb3ciLAogICJmaWxsT3BhY2l0eSI6IDAuNywKICAiZmlsbFJ1bGUiOiAiZXZlbm9kZCIsCiAgImxpbmVDYXAiOiAicm91bmQiLAogICJsaW5lSm9pbiI6ICJyb3VuZCIsCiAgIm9wYWNpdHkiOiAxLjAsCiAgInJhZGl1cyI6IDksCiAgInN0cm9rZSI6IHRydWUsCiAgIndlaWdodCI6IDMKfQogICAgICAgICAgICAgICAgKS5hZGRUbyhtYXBfZDNhYTUyMDMyMTgzNDU1YWFjYThkNTJmNzc0ZTAyZGUpOwogICAgICAgICAgICAKICAgIAogICAgICAgICAgICB2YXIgcG9wdXBfZTkwNDdhOGQ3MjcyNDljNjhmMDcxYzcxMjAxYmNkNTggPSBMLnBvcHVwKHttYXhXaWR0aDogJzMwMCd9KTsKCiAgICAgICAgICAgIAogICAgICAgICAgICAgICAgdmFyIGh0bWxfZjliOWViNTMzMTc5NDk2Yzg5YTYxNWUwY2M0NTY2NjUgPSAkKCc8ZGl2IGlkPSJodG1sX2Y5YjllYjUzMzE3OTQ5NmM4OWE2MTVlMGNjNDU2NjY1IiBzdHlsZT0id2lkdGg6IDEwMC4wJTsgaGVpZ2h0OiAxMDAuMCU7Ij5Ub25kaWFycGV0PC9kaXY+JylbMF07CiAgICAgICAgICAgICAgICBwb3B1cF9lOTA0N2E4ZDcyNzI0OWM2OGYwNzFjNzEyMDFiY2Q1OC5zZXRDb250ZW50KGh0bWxfZjliOWViNTMzMTc5NDk2Yzg5YTYxNWUwY2M0NTY2NjUpOwogICAgICAgICAgICAKCiAgICAgICAgICAgIGNpcmNsZV9tYXJrZXJfZmJmODhlN2ZmNzEwNDQxMmE0NjRhOWVjNDkyZmJiNGIuYmluZFBvcHVwKHBvcHVwX2U5MDQ3YThkNzI3MjQ5YzY4ZjA3MWM3MTIwMWJjZDU4KTsKCiAgICAgICAgICAgIAogICAgICAgIAogICAgCiAgICAgICAgICAgIHZhciBjaXJjbGVfbWFya2VyX2E2OWU2ZjhiM2VhNzQ0YzFhM2Y1NDM3MmMzYTdhNTQyID0gTC5jaXJjbGVNYXJrZXIoCiAgICAgICAgICAgICAgICBbMTMuMTE0NjE5NSw4MC4yOTQwMjc5XSwKICAgICAgICAgICAgICAgIHsKICAiYnViYmxpbmdNb3VzZUV2ZW50cyI6IHRydWUsCiAgImNvbG9yIjogImJsdWUiLAogICJkYXNoQXJyYXkiOiBudWxsLAogICJkYXNoT2Zmc2V0IjogbnVsbCwKICAiZmlsbCI6IHRydWUsCiAgImZpbGxDb2xvciI6ICJ5ZWxsb3ciLAogICJmaWxsT3BhY2l0eSI6IDAuNywKICAiZmlsbFJ1bGUiOiAiZXZlbm9kZCIsCiAgImxpbmVDYXAiOiAicm91bmQiLAogICJsaW5lSm9pbiI6ICJyb3VuZCIsCiAgIm9wYWNpdHkiOiAxLjAsCiAgInJhZGl1cyI6IDksCiAgInN0cm9rZSI6IHRydWUsCiAgIndlaWdodCI6IDMKfQogICAgICAgICAgICAgICAgKS5hZGRUbyhtYXBfZDNhYTUyMDMyMTgzNDU1YWFjYThkNTJmNzc0ZTAyZGUpOwogICAgICAgICAgICAKICAgIAogICAgICAgICAgICB2YXIgcG9wdXBfYWJlNzk4MmJiMmRmNDczYjgyZjY3MWViYjU3MGFmMzcgPSBMLnBvcHVwKHttYXhXaWR0aDogJzMwMCd9KTsKCiAgICAgICAgICAgIAogICAgICAgICAgICAgICAgdmFyIGh0bWxfOTNjNjM5YjZhNGY3NGVkOThjYWY2MTg3ODEyMWRjMDAgPSAkKCc8ZGl2IGlkPSJodG1sXzkzYzYzOWI2YTRmNzRlZDk4Y2FmNjE4NzgxMjFkYzAwIiBzdHlsZT0id2lkdGg6IDEwMC4wJTsgaGVpZ2h0OiAxMDAuMCU7Ij5Sb3lhcHVyYW08L2Rpdj4nKVswXTsKICAgICAgICAgICAgICAgIHBvcHVwX2FiZTc5ODJiYjJkZjQ3M2I4MmY2NzFlYmI1NzBhZjM3LnNldENvbnRlbnQoaHRtbF85M2M2MzliNmE0Zjc0ZWQ5OGNhZjYxODc4MTIxZGMwMCk7CiAgICAgICAgICAgIAoKICAgICAgICAgICAgY2lyY2xlX21hcmtlcl9hNjllNmY4YjNlYTc0NGMxYTNmNTQzNzJjM2E3YTU0Mi5iaW5kUG9wdXAocG9wdXBfYWJlNzk4MmJiMmRmNDczYjgyZjY3MWViYjU3MGFmMzcpOwoKICAgICAgICAgICAgCiAgICAgICAgCiAgICAKICAgICAgICAgICAgdmFyIGNpcmNsZV9tYXJrZXJfOGIzOTMxNTcyYzFmNDYwOTg2MGJhYWJhZjkzN2QwNGUgPSBMLmNpcmNsZU1hcmtlcigKICAgICAgICAgICAgICAgIFsxMy4xMDg0NzIwNSw4MC4yNDgxNDQzNzk3OTEyXSwKICAgICAgICAgICAgICAgIHsKICAiYnViYmxpbmdNb3VzZUV2ZW50cyI6IHRydWUsCiAgImNvbG9yIjogImJsdWUiLAogICJkYXNoQXJyYXkiOiBudWxsLAogICJkYXNoT2Zmc2V0IjogbnVsbCwKICAiZmlsbCI6IHRydWUsCiAgImZpbGxDb2xvciI6ICJ5ZWxsb3ciLAogICJmaWxsT3BhY2l0eSI6IDAuNywKICAiZmlsbFJ1bGUiOiAiZXZlbm9kZCIsCiAgImxpbmVDYXAiOiAicm91bmQiLAogICJsaW5lSm9pbiI6ICJyb3VuZCIsCiAgIm9wYWNpdHkiOiAxLjAsCiAgInJhZGl1cyI6IDksCiAgInN0cm9rZSI6IHRydWUsCiAgIndlaWdodCI6IDMKfQogICAgICAgICAgICAgICAgKS5hZGRUbyhtYXBfZDNhYTUyMDMyMTgzNDU1YWFjYThkNTJmNzc0ZTAyZGUpOwogICAgICAgICAgICAKICAgIAogICAgICAgICAgICB2YXIgcG9wdXBfZTI0NWFiZWJjNzBhNDJiYjkzNWI4ZTFmODIwMjJlNmMgPSBMLnBvcHVwKHttYXhXaWR0aDogJzMwMCd9KTsKCiAgICAgICAgICAgIAogICAgICAgICAgICAgICAgdmFyIGh0bWxfZDNkZmEzMjkxN2QxNGUzYTlhOWIyYWRkNTNkYWIyODkgPSAkKCc8ZGl2IGlkPSJodG1sX2QzZGZhMzI5MTdkMTRlM2E5YTliMmFkZDUzZGFiMjg5IiBzdHlsZT0id2lkdGg6IDEwMC4wJTsgaGVpZ2h0OiAxMDAuMCU7Ij5UaGlydS4gVmkuIEthLiBOYWdhcjwvZGl2PicpWzBdOwogICAgICAgICAgICAgICAgcG9wdXBfZTI0NWFiZWJjNzBhNDJiYjkzNWI4ZTFmODIwMjJlNmMuc2V0Q29udGVudChodG1sX2QzZGZhMzI5MTdkMTRlM2E5YTliMmFkZDUzZGFiMjg5KTsKICAgICAgICAgICAgCgogICAgICAgICAgICBjaXJjbGVfbWFya2VyXzhiMzkzMTU3MmMxZjQ2MDk4NjBiYWFiYWY5MzdkMDRlLmJpbmRQb3B1cChwb3B1cF9lMjQ1YWJlYmM3MGE0MmJiOTM1YjhlMWY4MjAyMmU2Yyk7CgogICAgICAgICAgICAKICAgICAgICAKICAgIAogICAgICAgICAgICB2YXIgY2lyY2xlX21hcmtlcl82YjM1OTU1MjE0Yjg0MTkyYTNhZWYwZTJiZjMwZTE1YSA9IEwuY2lyY2xlTWFya2VyKAogICAgICAgICAgICAgICAgWzEzLjExOTM3NDYsODAuMTUwNzY0OF0sCiAgICAgICAgICAgICAgICB7CiAgImJ1YmJsaW5nTW91c2VFdmVudHMiOiB0cnVlLAogICJjb2xvciI6ICJibHVlIiwKICAiZGFzaEFycmF5IjogbnVsbCwKICAiZGFzaE9mZnNldCI6IG51bGwsCiAgImZpbGwiOiB0cnVlLAogICJmaWxsQ29sb3IiOiAieWVsbG93IiwKICAiZmlsbE9wYWNpdHkiOiAwLjcsCiAgImZpbGxSdWxlIjogImV2ZW5vZGQiLAogICJsaW5lQ2FwIjogInJvdW5kIiwKICAibGluZUpvaW4iOiAicm91bmQiLAogICJvcGFjaXR5IjogMS4wLAogICJyYWRpdXMiOiA5LAogICJzdHJva2UiOiB0cnVlLAogICJ3ZWlnaHQiOiAzCn0KICAgICAgICAgICAgICAgICkuYWRkVG8obWFwX2QzYWE1MjAzMjE4MzQ1NWFhY2E4ZDUyZjc3NGUwMmRlKTsKICAgICAgICAgICAgCiAgICAKICAgICAgICAgICAgdmFyIHBvcHVwX2Y5MTEwMGExMjY5NzQ5OTM4MjRhMjc3Mjc0NWUyOTlhID0gTC5wb3B1cCh7bWF4V2lkdGg6ICczMDAnfSk7CgogICAgICAgICAgICAKICAgICAgICAgICAgICAgIHZhciBodG1sX2ViZjZkODQ5YThhMTRkYTJiOWJmZjg0NDk3YzQzNTg3ID0gJCgnPGRpdiBpZD0iaHRtbF9lYmY2ZDg0OWE4YTE0ZGEyYjliZmY4NDQ5N2M0MzU4NyIgc3R5bGU9IndpZHRoOiAxMDAuMCU7IGhlaWdodDogMTAwLjAlOyI+QW1iYXR0dXI8L2Rpdj4nKVswXTsKICAgICAgICAgICAgICAgIHBvcHVwX2Y5MTEwMGExMjY5NzQ5OTM4MjRhMjc3Mjc0NWUyOTlhLnNldENvbnRlbnQoaHRtbF9lYmY2ZDg0OWE4YTE0ZGEyYjliZmY4NDQ5N2M0MzU4Nyk7CiAgICAgICAgICAgIAoKICAgICAgICAgICAgY2lyY2xlX21hcmtlcl82YjM1OTU1MjE0Yjg0MTkyYTNhZWYwZTJiZjMwZTE1YS5iaW5kUG9wdXAocG9wdXBfZjkxMTAwYTEyNjk3NDk5MzgyNGEyNzcyNzQ1ZTI5OWEpOwoKICAgICAgICAgICAgCiAgICAgICAgCiAgICAKICAgICAgICAgICAgdmFyIGNpcmNsZV9tYXJrZXJfNWJiMGQ5MTgyYWJkNGRhMmJhNTVhMTJiYTQ5M2JjZDEgPSBMLmNpcmNsZU1hcmtlcigKICAgICAgICAgICAgICAgIFsxMS4xNzAzNDksNzcuMzUxMTE0MV0sCiAgICAgICAgICAgICAgICB7CiAgImJ1YmJsaW5nTW91c2VFdmVudHMiOiB0cnVlLAogICJjb2xvciI6ICJibHVlIiwKICAiZGFzaEFycmF5IjogbnVsbCwKICAiZGFzaE9mZnNldCI6IG51bGwsCiAgImZpbGwiOiB0cnVlLAogICJmaWxsQ29sb3IiOiAieWVsbG93IiwKICAiZmlsbE9wYWNpdHkiOiAwLjcsCiAgImZpbGxSdWxlIjogImV2ZW5vZGQiLAogICJsaW5lQ2FwIjogInJvdW5kIiwKICAibGluZUpvaW4iOiAicm91bmQiLAogICJvcGFjaXR5IjogMS4wLAogICJyYWRpdXMiOiA5LAogICJzdHJva2UiOiB0cnVlLAogICJ3ZWlnaHQiOiAzCn0KICAgICAgICAgICAgICAgICkuYWRkVG8obWFwX2QzYWE1MjAzMjE4MzQ1NWFhY2E4ZDUyZjc3NGUwMmRlKTsKICAgICAgICAgICAgCiAgICAKICAgICAgICAgICAgdmFyIHBvcHVwXzA0ZjgyNTA3MDNiZjRhZGFiNjIxODkxZWFhMjY0ODA4ID0gTC5wb3B1cCh7bWF4V2lkdGg6ICczMDAnfSk7CgogICAgICAgICAgICAKICAgICAgICAgICAgICAgIHZhciBodG1sXzgwMjRlZmY1MGU0ZTQ1OTliNTE4MTk1OWY5NTdhZWVjID0gJCgnPGRpdiBpZD0iaHRtbF84MDI0ZWZmNTBlNGU0NTk5YjUxODE5NTlmOTU3YWVlYyIgc3R5bGU9IndpZHRoOiAxMDAuMCU7IGhlaWdodDogMTAwLjAlOyI+QW5uYSBOYWdhcjwvZGl2PicpWzBdOwogICAgICAgICAgICAgICAgcG9wdXBfMDRmODI1MDcwM2JmNGFkYWI2MjE4OTFlYWEyNjQ4MDguc2V0Q29udGVudChodG1sXzgwMjRlZmY1MGU0ZTQ1OTliNTE4MTk1OWY5NTdhZWVjKTsKICAgICAgICAgICAgCgogICAgICAgICAgICBjaXJjbGVfbWFya2VyXzViYjBkOTE4MmFiZDRkYTJiYTU1YTEyYmE0OTNiY2QxLmJpbmRQb3B1cChwb3B1cF8wNGY4MjUwNzAzYmY0YWRhYjYyMTg5MWVhYTI2NDgwOCk7CgogICAgICAgICAgICAKICAgICAgICAKICAgIAogICAgICAgICAgICB2YXIgY2lyY2xlX21hcmtlcl9mZjExZDk3YTA2MzA0NzIxOWIzMTc4NWIyYzFhYTg1OSA9IEwuY2lyY2xlTWFya2VyKAogICAgICAgICAgICAgICAgWzEzLjA0NDMyMzcsODAuMjQ5ODQ1NV0sCiAgICAgICAgICAgICAgICB7CiAgImJ1YmJsaW5nTW91c2VFdmVudHMiOiB0cnVlLAogICJjb2xvciI6ICJibHVlIiwKICAiZGFzaEFycmF5IjogbnVsbCwKICAiZGFzaE9mZnNldCI6IG51bGwsCiAgImZpbGwiOiB0cnVlLAogICJmaWxsQ29sb3IiOiAieWVsbG93IiwKICAiZmlsbE9wYWNpdHkiOiAwLjcsCiAgImZpbGxSdWxlIjogImV2ZW5vZGQiLAogICJsaW5lQ2FwIjogInJvdW5kIiwKICAibGluZUpvaW4iOiAicm91bmQiLAogICJvcGFjaXR5IjogMS4wLAogICJyYWRpdXMiOiA5LAogICJzdHJva2UiOiB0cnVlLAogICJ3ZWlnaHQiOiAzCn0KICAgICAgICAgICAgICAgICkuYWRkVG8obWFwX2QzYWE1MjAzMjE4MzQ1NWFhY2E4ZDUyZjc3NGUwMmRlKTsKICAgICAgICAgICAgCiAgICAKICAgICAgICAgICAgdmFyIHBvcHVwXzNmN2I1NWJhZTg0OTRhNWViYWI1NDU5YTYwMTI3OWI3ID0gTC5wb3B1cCh7bWF4V2lkdGg6ICczMDAnfSk7CgogICAgICAgICAgICAKICAgICAgICAgICAgICAgIHZhciBodG1sXzJjMDU1ZjViYjM4MDQ0Nzg4MWU4ZDlhNjVlNmMyZDQ5ID0gJCgnPGRpdiBpZD0iaHRtbF8yYzA1NWY1YmIzODA0NDc4ODFlOGQ5YTY1ZTZjMmQ0OSIgc3R5bGU9IndpZHRoOiAxMDAuMCU7IGhlaWdodDogMTAwLjAlOyI+VGV5bmFtcGV0PC9kaXY+JylbMF07CiAgICAgICAgICAgICAgICBwb3B1cF8zZjdiNTViYWU4NDk0YTVlYmFiNTQ1OWE2MDEyNzliNy5zZXRDb250ZW50KGh0bWxfMmMwNTVmNWJiMzgwNDQ3ODgxZThkOWE2NWU2YzJkNDkpOwogICAgICAgICAgICAKCiAgICAgICAgICAgIGNpcmNsZV9tYXJrZXJfZmYxMWQ5N2EwNjMwNDcyMTliMzE3ODViMmMxYWE4NTkuYmluZFBvcHVwKHBvcHVwXzNmN2I1NWJhZTg0OTRhNWViYWI1NDU5YTYwMTI3OWI3KTsKCiAgICAgICAgICAgIAogICAgICAgIAogICAgCiAgICAgICAgICAgIHZhciBjaXJjbGVfbWFya2VyXzEwNjJlZjc3ZDc2YTQwOWQ5NDI0YjAxZjFhMmI0YjNkID0gTC5jaXJjbGVNYXJrZXIoCiAgICAgICAgICAgICAgICBbMTMuMDQ5MjA3LDgwLjIyNDI4MjldLAogICAgICAgICAgICAgICAgewogICJidWJibGluZ01vdXNlRXZlbnRzIjogdHJ1ZSwKICAiY29sb3IiOiAiYmx1ZSIsCiAgImRhc2hBcnJheSI6IG51bGwsCiAgImRhc2hPZmZzZXQiOiBudWxsLAogICJmaWxsIjogdHJ1ZSwKICAiZmlsbENvbG9yIjogInllbGxvdyIsCiAgImZpbGxPcGFjaXR5IjogMC43LAogICJmaWxsUnVsZSI6ICJldmVub2RkIiwKICAibGluZUNhcCI6ICJyb3VuZCIsCiAgImxpbmVKb2luIjogInJvdW5kIiwKICAib3BhY2l0eSI6IDEuMCwKICAicmFkaXVzIjogOSwKICAic3Ryb2tlIjogdHJ1ZSwKICAid2VpZ2h0IjogMwp9CiAgICAgICAgICAgICAgICApLmFkZFRvKG1hcF9kM2FhNTIwMzIxODM0NTVhYWNhOGQ1MmY3NzRlMDJkZSk7CiAgICAgICAgICAgIAogICAgCiAgICAgICAgICAgIHZhciBwb3B1cF84NDViNmI4ODg2YTg0Y2VhYWUyZjVmZmNiYjMwZWExNiA9IEwucG9wdXAoe21heFdpZHRoOiAnMzAwJ30pOwoKICAgICAgICAgICAgCiAgICAgICAgICAgICAgICB2YXIgaHRtbF8yYWU0NTQ2ZTViM2M0YzAyOGUzZjAxZTgxY2FiYWMyYiA9ICQoJzxkaXYgaWQ9Imh0bWxfMmFlNDU0NmU1YjNjNGMwMjhlM2YwMWU4MWNhYmFjMmIiIHN0eWxlPSJ3aWR0aDogMTAwLjAlOyBoZWlnaHQ6IDEwMC4wJTsiPktvZGFtYmFra2FtPC9kaXY+JylbMF07CiAgICAgICAgICAgICAgICBwb3B1cF84NDViNmI4ODg2YTg0Y2VhYWUyZjVmZmNiYjMwZWExNi5zZXRDb250ZW50KGh0bWxfMmFlNDU0NmU1YjNjNGMwMjhlM2YwMWU4MWNhYmFjMmIpOwogICAgICAgICAgICAKCiAgICAgICAgICAgIGNpcmNsZV9tYXJrZXJfMTA2MmVmNzdkNzZhNDA5ZDk0MjRiMDFmMWEyYjRiM2QuYmluZFBvcHVwKHBvcHVwXzg0NWI2Yjg4ODZhODRjZWFhZTJmNWZmY2JiMzBlYTE2KTsKCiAgICAgICAgICAgIAogICAgICAgIAogICAgCiAgICAgICAgICAgIHZhciBjaXJjbGVfbWFya2VyX2NlYTNiMTg1NjI2ZDQ1ZjQ4ZmYxYmUzNjRlOTI3YWIwID0gTC5jaXJjbGVNYXJrZXIoCiAgICAgICAgICAgICAgICBbMTMuMDQxMDE2NCw4MC4xNzIxNjgyXSwKICAgICAgICAgICAgICAgIHsKICAiYnViYmxpbmdNb3VzZUV2ZW50cyI6IHRydWUsCiAgImNvbG9yIjogImJsdWUiLAogICJkYXNoQXJyYXkiOiBudWxsLAogICJkYXNoT2Zmc2V0IjogbnVsbCwKICAiZmlsbCI6IHRydWUsCiAgImZpbGxDb2xvciI6ICJ5ZWxsb3ciLAogICJmaWxsT3BhY2l0eSI6IDAuNywKICAiZmlsbFJ1bGUiOiAiZXZlbm9kZCIsCiAgImxpbmVDYXAiOiAicm91bmQiLAogICJsaW5lSm9pbiI6ICJyb3VuZCIsCiAgIm9wYWNpdHkiOiAxLjAsCiAgInJhZGl1cyI6IDksCiAgInN0cm9rZSI6IHRydWUsCiAgIndlaWdodCI6IDMKfQogICAgICAgICAgICAgICAgKS5hZGRUbyhtYXBfZDNhYTUyMDMyMTgzNDU1YWFjYThkNTJmNzc0ZTAyZGUpOwogICAgICAgICAgICAKICAgIAogICAgICAgICAgICB2YXIgcG9wdXBfYTUzZTQ3OGRmYjAxNDlhMmIwNTc1YjU1YWFmZmM3NjUgPSBMLnBvcHVwKHttYXhXaWR0aDogJzMwMCd9KTsKCiAgICAgICAgICAgIAogICAgICAgICAgICAgICAgdmFyIGh0bWxfNzE5YzhhOGYyYTg1NDM5OWFjMzU3OGFkZmRiMTE1YzQgPSAkKCc8ZGl2IGlkPSJodG1sXzcxOWM4YThmMmE4NTQzOTlhYzM1NzhhZGZkYjExNWM0IiBzdHlsZT0id2lkdGg6IDEwMC4wJTsgaGVpZ2h0OiAxMDAuMCU7Ij5WYWxhc2FyYXZha2thbTwvZGl2PicpWzBdOwogICAgICAgICAgICAgICAgcG9wdXBfYTUzZTQ3OGRmYjAxNDlhMmIwNTc1YjU1YWFmZmM3NjUuc2V0Q29udGVudChodG1sXzcxOWM4YThmMmE4NTQzOTlhYzM1NzhhZGZkYjExNWM0KTsKICAgICAgICAgICAgCgogICAgICAgICAgICBjaXJjbGVfbWFya2VyX2NlYTNiMTg1NjI2ZDQ1ZjQ4ZmYxYmUzNjRlOTI3YWIwLmJpbmRQb3B1cChwb3B1cF9hNTNlNDc4ZGZiMDE0OWEyYjA1NzViNTVhYWZmYzc2NSk7CgogICAgICAgICAgICAKICAgICAgICAKICAgIAogICAgICAgICAgICB2YXIgY2lyY2xlX21hcmtlcl8xMTgzYjY4ODg4NzI0MTUzYWE4ODJlMDg0OTM5MDk5NyA9IEwuY2lyY2xlTWFya2VyKAogICAgICAgICAgICAgICAgWzEyLjk5NDM3MjksODAuMTk0MjgzN10sCiAgICAgICAgICAgICAgICB7CiAgImJ1YmJsaW5nTW91c2VFdmVudHMiOiB0cnVlLAogICJjb2xvciI6ICJibHVlIiwKICAiZGFzaEFycmF5IjogbnVsbCwKICAiZGFzaE9mZnNldCI6IG51bGwsCiAgImZpbGwiOiB0cnVlLAogICJmaWxsQ29sb3IiOiAieWVsbG93IiwKICAiZmlsbE9wYWNpdHkiOiAwLjcsCiAgImZpbGxSdWxlIjogImV2ZW5vZGQiLAogICJsaW5lQ2FwIjogInJvdW5kIiwKICAibGluZUpvaW4iOiAicm91bmQiLAogICJvcGFjaXR5IjogMS4wLAogICJyYWRpdXMiOiA5LAogICJzdHJva2UiOiB0cnVlLAogICJ3ZWlnaHQiOiAzCn0KICAgICAgICAgICAgICAgICkuYWRkVG8obWFwX2QzYWE1MjAzMjE4MzQ1NWFhY2E4ZDUyZjc3NGUwMmRlKTsKICAgICAgICAgICAgCiAgICAKICAgICAgICAgICAgdmFyIHBvcHVwX2Q1ZDk1MDc2ODEwNzQ3MDhhOTE2Nzg0YjQ2YjdiYWMwID0gTC5wb3B1cCh7bWF4V2lkdGg6ICczMDAnfSk7CgogICAgICAgICAgICAKICAgICAgICAgICAgICAgIHZhciBodG1sXzc0ZWQ1YzZlZTY1ZDRhZDQ4MzllNGJkMjczNDJjYmMwID0gJCgnPGRpdiBpZD0iaHRtbF83NGVkNWM2ZWU2NWQ0YWQ0ODM5ZTRiZDI3MzQyY2JjMCIgc3R5bGU9IndpZHRoOiAxMDAuMCU7IGhlaWdodDogMTAwLjAlOyI+QWxhbmR1cjwvZGl2PicpWzBdOwogICAgICAgICAgICAgICAgcG9wdXBfZDVkOTUwNzY4MTA3NDcwOGE5MTY3ODRiNDZiN2JhYzAuc2V0Q29udGVudChodG1sXzc0ZWQ1YzZlZTY1ZDRhZDQ4MzllNGJkMjczNDJjYmMwKTsKICAgICAgICAgICAgCgogICAgICAgICAgICBjaXJjbGVfbWFya2VyXzExODNiNjg4ODg3MjQxNTNhYTg4MmUwODQ5MzkwOTk3LmJpbmRQb3B1cChwb3B1cF9kNWQ5NTA3NjgxMDc0NzA4YTkxNjc4NGI0NmI3YmFjMCk7CgogICAgICAgICAgICAKICAgICAgICAKICAgIAogICAgICAgICAgICB2YXIgY2lyY2xlX21hcmtlcl8zMjhhMmIwMGE2MGQ0OTlmOTBjYzJlNDk5NmE2MmE4MyA9IEwuY2lyY2xlTWFya2VyKAogICAgICAgICAgICAgICAgWzEzLjAwNjQ1LDgwLjI1Nzc3OTFdLAogICAgICAgICAgICAgICAgewogICJidWJibGluZ01vdXNlRXZlbnRzIjogdHJ1ZSwKICAiY29sb3IiOiAiYmx1ZSIsCiAgImRhc2hBcnJheSI6IG51bGwsCiAgImRhc2hPZmZzZXQiOiBudWxsLAogICJmaWxsIjogdHJ1ZSwKICAiZmlsbENvbG9yIjogInllbGxvdyIsCiAgImZpbGxPcGFjaXR5IjogMC43LAogICJmaWxsUnVsZSI6ICJldmVub2RkIiwKICAibGluZUNhcCI6ICJyb3VuZCIsCiAgImxpbmVKb2luIjogInJvdW5kIiwKICAib3BhY2l0eSI6IDEuMCwKICAicmFkaXVzIjogOSwKICAic3Ryb2tlIjogdHJ1ZSwKICAid2VpZ2h0IjogMwp9CiAgICAgICAgICAgICAgICApLmFkZFRvKG1hcF9kM2FhNTIwMzIxODM0NTVhYWNhOGQ1MmY3NzRlMDJkZSk7CiAgICAgICAgICAgIAogICAgCiAgICAgICAgICAgIHZhciBwb3B1cF9iZGQ1MDdiYzU1MTY0NjZjODJiOTMzZjgzNDJlNTllMSA9IEwucG9wdXAoe21heFdpZHRoOiAnMzAwJ30pOwoKICAgICAgICAgICAgCiAgICAgICAgICAgICAgICB2YXIgaHRtbF83ZjFkOGZlZmYzOTI0YTk5ODFhZGNhNDAwNDhhNDcwOSA9ICQoJzxkaXYgaWQ9Imh0bWxfN2YxZDhmZWZmMzkyNGE5OTgxYWRjYTQwMDQ4YTQ3MDkiIHN0eWxlPSJ3aWR0aDogMTAwLjAlOyBoZWlnaHQ6IDEwMC4wJTsiPkFkeWFyPC9kaXY+JylbMF07CiAgICAgICAgICAgICAgICBwb3B1cF9iZGQ1MDdiYzU1MTY0NjZjODJiOTMzZjgzNDJlNTllMS5zZXRDb250ZW50KGh0bWxfN2YxZDhmZWZmMzkyNGE5OTgxYWRjYTQwMDQ4YTQ3MDkpOwogICAgICAgICAgICAKCiAgICAgICAgICAgIGNpcmNsZV9tYXJrZXJfMzI4YTJiMDBhNjBkNDk5ZjkwY2MyZTQ5OTZhNjJhODMuYmluZFBvcHVwKHBvcHVwX2JkZDUwN2JjNTUxNjQ2NmM4MmI5MzNmODM0MmU1OWUxKTsKCiAgICAgICAgICAgIAogICAgICAgIAogICAgCiAgICAgICAgICAgIHZhciBjaXJjbGVfbWFya2VyX2E4ODllOGIzMTQ4ZjQ4YTJiYzZkNmU1M2I3ZDQxMDEzID0gTC5jaXJjbGVNYXJrZXIoCiAgICAgICAgICAgICAgICBbMTIuOTcxMDIzOSw4MC4yNDE4MDUxXSwKICAgICAgICAgICAgICAgIHsKICAiYnViYmxpbmdNb3VzZUV2ZW50cyI6IHRydWUsCiAgImNvbG9yIjogImJsdWUiLAogICJkYXNoQXJyYXkiOiBudWxsLAogICJkYXNoT2Zmc2V0IjogbnVsbCwKICAiZmlsbCI6IHRydWUsCiAgImZpbGxDb2xvciI6ICJ5ZWxsb3ciLAogICJmaWxsT3BhY2l0eSI6IDAuNywKICAiZmlsbFJ1bGUiOiAiZXZlbm9kZCIsCiAgImxpbmVDYXAiOiAicm91bmQiLAogICJsaW5lSm9pbiI6ICJyb3VuZCIsCiAgIm9wYWNpdHkiOiAxLjAsCiAgInJhZGl1cyI6IDksCiAgInN0cm9rZSI6IHRydWUsCiAgIndlaWdodCI6IDMKfQogICAgICAgICAgICAgICAgKS5hZGRUbyhtYXBfZDNhYTUyMDMyMTgzNDU1YWFjYThkNTJmNzc0ZTAyZGUpOwogICAgICAgICAgICAKICAgIAogICAgICAgICAgICB2YXIgcG9wdXBfYzQ5YmVkZGNiNjFkNGNhNjhlNGE3MGMxNWUwN2I4ZGUgPSBMLnBvcHVwKHttYXhXaWR0aDogJzMwMCd9KTsKCiAgICAgICAgICAgIAogICAgICAgICAgICAgICAgdmFyIGh0bWxfNGRmZTBmOGRkYWZiNGYyODhmZGVhNDQzNDczZTljMTggPSAkKCc8ZGl2IGlkPSJodG1sXzRkZmUwZjhkZGFmYjRmMjg4ZmRlYTQ0MzQ3M2U5YzE4IiBzdHlsZT0id2lkdGg6IDEwMC4wJTsgaGVpZ2h0OiAxMDAuMCU7Ij5QZXJ1bmd1ZGk8L2Rpdj4nKVswXTsKICAgICAgICAgICAgICAgIHBvcHVwX2M0OWJlZGRjYjYxZDRjYTY4ZTRhNzBjMTVlMDdiOGRlLnNldENvbnRlbnQoaHRtbF80ZGZlMGY4ZGRhZmI0ZjI4OGZkZWE0NDM0NzNlOWMxOCk7CiAgICAgICAgICAgIAoKICAgICAgICAgICAgY2lyY2xlX21hcmtlcl9hODg5ZThiMzE0OGY0OGEyYmM2ZDZlNTNiN2Q0MTAxMy5iaW5kUG9wdXAocG9wdXBfYzQ5YmVkZGNiNjFkNGNhNjhlNGE3MGMxNWUwN2I4ZGUpOwoKICAgICAgICAgICAgCiAgICAgICAgCiAgICAKICAgICAgICAgICAgdmFyIGNpcmNsZV9tYXJrZXJfYWY1YzE4NDMxNGU0NDYyNThlMjNiMjllZDU3NDA5NGYgPSBMLmNpcmNsZU1hcmtlcigKICAgICAgICAgICAgICAgIFsxMi44OTM1MzU2LDgwLjIzMjA2MzRdLAogICAgICAgICAgICAgICAgewogICJidWJibGluZ01vdXNlRXZlbnRzIjogdHJ1ZSwKICAiY29sb3IiOiAiYmx1ZSIsCiAgImRhc2hBcnJheSI6IG51bGwsCiAgImRhc2hPZmZzZXQiOiBudWxsLAogICJmaWxsIjogdHJ1ZSwKICAiZmlsbENvbG9yIjogInllbGxvdyIsCiAgImZpbGxPcGFjaXR5IjogMC43LAogICJmaWxsUnVsZSI6ICJldmVub2RkIiwKICAibGluZUNhcCI6ICJyb3VuZCIsCiAgImxpbmVKb2luIjogInJvdW5kIiwKICAib3BhY2l0eSI6IDEuMCwKICAicmFkaXVzIjogOSwKICAic3Ryb2tlIjogdHJ1ZSwKICAid2VpZ2h0IjogMwp9CiAgICAgICAgICAgICAgICApLmFkZFRvKG1hcF9kM2FhNTIwMzIxODM0NTVhYWNhOGQ1MmY3NzRlMDJkZSk7CiAgICAgICAgICAgIAogICAgCiAgICAgICAgICAgIHZhciBwb3B1cF81MjUyZDUzMzc1YTY0NGE0YTc2MjE3ZDZiMTVhYjUxMCA9IEwucG9wdXAoe21heFdpZHRoOiAnMzAwJ30pOwoKICAgICAgICAgICAgCiAgICAgICAgICAgICAgICB2YXIgaHRtbF9jNWIzNmU3MjNmOTI0Mjk5YjllZmY4NjJjYjdiZTRkOCA9ICQoJzxkaXYgaWQ9Imh0bWxfYzViMzZlNzIzZjkyNDI5OWI5ZWZmODYyY2I3YmU0ZDgiIHN0eWxlPSJ3aWR0aDogMTAwLjAlOyBoZWlnaHQ6IDEwMC4wJTsiPlNob2xpbmdhbmFsbHVyPC9kaXY+JylbMF07CiAgICAgICAgICAgICAgICBwb3B1cF81MjUyZDUzMzc1YTY0NGE0YTc2MjE3ZDZiMTVhYjUxMC5zZXRDb250ZW50KGh0bWxfYzViMzZlNzIzZjkyNDI5OWI5ZWZmODYyY2I3YmU0ZDgpOwogICAgICAgICAgICAKCiAgICAgICAgICAgIGNpcmNsZV9tYXJrZXJfYWY1YzE4NDMxNGU0NDYyNThlMjNiMjllZDU3NDA5NGYuYmluZFBvcHVwKHBvcHVwXzUyNTJkNTMzNzVhNjQ0YTRhNzYyMTdkNmIxNWFiNTEwKTsKCiAgICAgICAgICAgIAogICAgICAgIAo8L3NjcmlwdD4=\" style=\"position:absolute;width:100%;height:100%;left:0;top:0;border:none !important;\" allowfullscreen webkitallowfullscreen mozallowfullscreen></iframe></div></div>"
      ],
      "text/plain": [
       "<folium.folium.Map at 0x7f8140f3c668>"
      ]
     },
     "execution_count": 10,
     "metadata": {},
     "output_type": "execute_result"
    }
   ],
   "source": [
    "#Chennai Lat long\n",
    "Chennai_centre =[13.0827, 80.2707]\n",
    "\n",
    "Chennai_Zones = folium.Map(location=Chennai_centre, zoom_start=12)\n",
    "folium.Marker(Chennai_centre, popup='Chennai').add_to(Chennai_Zones)\n",
    "# add markers to map\n",
    "for lat, lng, label in zip(df_chennai['Latitude'], df_chennai['Longitude'], \n",
    "                           df_chennai['Location']):\n",
    "    label = folium.Popup(label, parse_html=True)\n",
    "    folium.CircleMarker(\n",
    "        [lat, lng],\n",
    "        radius=9,\n",
    "        popup=label,\n",
    "        color='blue',\n",
    "        fill=True,\n",
    "        fill_color='yellow',\n",
    "        fill_opacity=0.7).add_to(Chennai_Zones)  \n",
    "    \n",
    "Chennai_Zones"
   ]
  },
  {
   "cell_type": "markdown",
   "metadata": {},
   "source": [
    "#### Professional Venue Data ####\n",
    "Lets use Foursquare to find out which areas have the most professional venues. \n",
    "To do this, lets get all the professional venues in a radies of 1km from the each zone by using the Profesional venues [<b>category ID</b>](https://developer.foursquare.com/docs/resources/categories). "
   ]
  },
  {
   "cell_type": "markdown",
   "metadata": {},
   "source": [
    "##### To get access about the venues in the neighbourhoods we use Foursquare through the client details. #####"
   ]
  },
  {
   "cell_type": "code",
   "execution_count": 11,
   "metadata": {},
   "outputs": [],
   "source": [
    "CLIENT_ID = 'Your Foursquare ID' # your Foursquare ID\n",
    "CLIENT_SECRET = 'Your Foursquare Secret' # your Foursquare Secret\n",
    "VERSION = '20180605' # Foursquare API version"
   ]
  },
  {
   "cell_type": "code",
   "execution_count": 12,
   "metadata": {},
   "outputs": [],
   "source": [
    "Professional_category = '4d4b7105d754a06375d81259'\n",
    "RADIUS = 1000\n",
    "LIMIT = 100\n",
    "\n",
    "def getNearbyProfVenues(names, latitudes, longitudes, radius=RADIUS):\n",
    "    \n",
    "    venues_list=[]\n",
    "    for name, lat, lng in zip(names, latitudes, longitudes):\n",
    "        \n",
    "        # create the API request URL\n",
    "        url = 'https://api.foursquare.com/v2/venues/search?categoryId={}&client_id={}&client_secret={}&v={}&ll={},{}&radius={}&limit={}'.format(\n",
    "            Professional_category,\n",
    "            CLIENT_ID, \n",
    "            CLIENT_SECRET, \n",
    "            VERSION, \n",
    "            lat, \n",
    "            lng, \n",
    "            radius, \n",
    "            LIMIT)\n",
    "        try:    \n",
    "        # make the GET request\n",
    "            results = requests.get(url).json()[\"response\"]['venues']\n",
    "        \n",
    "            # return only relevant information for each nearby venue\n",
    "            venues_list.append([(\n",
    "                name, \n",
    "                lat, \n",
    "                lng, \n",
    "                v['name'], \n",
    "                v['location']['lat'], \n",
    "                v['location']['lng'],  \n",
    "                v['categories'][0]['name']) for v in results])\n",
    "        except:\n",
    "            results = requests.get(url).json()\n",
    "    nearby_venues = pd.DataFrame([item for venue_list in venues_list for item in venue_list])\n",
    "    nearby_venues.columns = ['Zone(Location)', \n",
    "                  'Latitude', \n",
    "                  'Longitude', \n",
    "                  'Venue', \n",
    "                  'Venue_Lat', \n",
    "                  'Venue_Long', \n",
    "                  'Venue_Category']\n",
    "        \n",
    "    return(nearby_venues)"
   ]
  },
  {
   "cell_type": "code",
   "execution_count": 13,
   "metadata": {},
   "outputs": [],
   "source": [
    "Chennai_Zones_ProfVenues = getNearbyProfVenues(names=df_chennai['Location'],\n",
    "                                   latitudes=df_chennai['Latitude'],\n",
    "                                   longitudes=df_chennai['Longitude']\n",
    "                                  )"
   ]
  },
  {
   "cell_type": "code",
   "execution_count": 14,
   "metadata": {},
   "outputs": [
    {
     "data": {
      "text/html": [
       "<div>\n",
       "<style scoped>\n",
       "    .dataframe tbody tr th:only-of-type {\n",
       "        vertical-align: middle;\n",
       "    }\n",
       "\n",
       "    .dataframe tbody tr th {\n",
       "        vertical-align: top;\n",
       "    }\n",
       "\n",
       "    .dataframe thead th {\n",
       "        text-align: right;\n",
       "    }\n",
       "</style>\n",
       "<table border=\"1\" class=\"dataframe\">\n",
       "  <thead>\n",
       "    <tr style=\"text-align: right;\">\n",
       "      <th></th>\n",
       "      <th>Zone(Location)</th>\n",
       "      <th>Latitude</th>\n",
       "      <th>Longitude</th>\n",
       "      <th>Venue</th>\n",
       "      <th>Venue_Lat</th>\n",
       "      <th>Venue_Long</th>\n",
       "      <th>Venue_Category</th>\n",
       "    </tr>\n",
       "  </thead>\n",
       "  <tbody>\n",
       "    <tr>\n",
       "      <th>0</th>\n",
       "      <td>Thiruvottiyur</td>\n",
       "      <td>13.172222</td>\n",
       "      <td>80.304585</td>\n",
       "      <td>Aakash Hospital</td>\n",
       "      <td>13.171589</td>\n",
       "      <td>80.304123</td>\n",
       "      <td>Hospital</td>\n",
       "    </tr>\n",
       "    <tr>\n",
       "      <th>1</th>\n",
       "      <td>Thiruvottiyur</td>\n",
       "      <td>13.172222</td>\n",
       "      <td>80.304585</td>\n",
       "      <td>Sri Anjaneyar Temple</td>\n",
       "      <td>13.168089</td>\n",
       "      <td>80.310348</td>\n",
       "      <td>Temple</td>\n",
       "    </tr>\n",
       "    <tr>\n",
       "      <th>2</th>\n",
       "      <td>Thiruvottiyur</td>\n",
       "      <td>13.172222</td>\n",
       "      <td>80.304585</td>\n",
       "      <td>Sri Pattinathar Temple</td>\n",
       "      <td>13.163456</td>\n",
       "      <td>80.307246</td>\n",
       "      <td>Temple</td>\n",
       "    </tr>\n",
       "    <tr>\n",
       "      <th>3</th>\n",
       "      <td>Thiruvottiyur</td>\n",
       "      <td>13.172222</td>\n",
       "      <td>80.304585</td>\n",
       "      <td>Royal Enfield</td>\n",
       "      <td>13.173354</td>\n",
       "      <td>80.307790</td>\n",
       "      <td>Factory</td>\n",
       "    </tr>\n",
       "    <tr>\n",
       "      <th>4</th>\n",
       "      <td>Thiruvottiyur</td>\n",
       "      <td>13.172222</td>\n",
       "      <td>80.304585</td>\n",
       "      <td>Angel Broking</td>\n",
       "      <td>13.167497</td>\n",
       "      <td>80.302412</td>\n",
       "      <td>Office</td>\n",
       "    </tr>\n",
       "  </tbody>\n",
       "</table>\n",
       "</div>"
      ],
      "text/plain": [
       "  Zone(Location)   Latitude  Longitude                   Venue  Venue_Lat  \\\n",
       "0  Thiruvottiyur  13.172222  80.304585         Aakash Hospital  13.171589   \n",
       "1  Thiruvottiyur  13.172222  80.304585    Sri Anjaneyar Temple  13.168089   \n",
       "2  Thiruvottiyur  13.172222  80.304585  Sri Pattinathar Temple  13.163456   \n",
       "3  Thiruvottiyur  13.172222  80.304585           Royal Enfield  13.173354   \n",
       "4  Thiruvottiyur  13.172222  80.304585           Angel Broking  13.167497   \n",
       "\n",
       "   Venue_Long Venue_Category  \n",
       "0   80.304123       Hospital  \n",
       "1   80.310348         Temple  \n",
       "2   80.307246         Temple  \n",
       "3   80.307790        Factory  \n",
       "4   80.302412         Office  "
      ]
     },
     "execution_count": 14,
     "metadata": {},
     "output_type": "execute_result"
    }
   ],
   "source": [
    "Chennai_Zones_ProfVenues.head()"
   ]
  },
  {
   "cell_type": "code",
   "execution_count": 15,
   "metadata": {},
   "outputs": [
    {
     "data": {
      "text/plain": [
       "(498, 7)"
      ]
     },
     "execution_count": 15,
     "metadata": {},
     "output_type": "execute_result"
    }
   ],
   "source": [
    "Chennai_Zones_ProfVenues.shape"
   ]
  },
  {
   "cell_type": "code",
   "execution_count": 16,
   "metadata": {},
   "outputs": [
    {
     "data": {
      "text/html": [
       "<div>\n",
       "<style scoped>\n",
       "    .dataframe tbody tr th:only-of-type {\n",
       "        vertical-align: middle;\n",
       "    }\n",
       "\n",
       "    .dataframe tbody tr th {\n",
       "        vertical-align: top;\n",
       "    }\n",
       "\n",
       "    .dataframe thead th {\n",
       "        text-align: right;\n",
       "    }\n",
       "</style>\n",
       "<table border=\"1\" class=\"dataframe\">\n",
       "  <thead>\n",
       "    <tr style=\"text-align: right;\">\n",
       "      <th></th>\n",
       "      <th>Venue_Category</th>\n",
       "      <th>Count</th>\n",
       "    </tr>\n",
       "  </thead>\n",
       "  <tbody>\n",
       "    <tr>\n",
       "      <th>0</th>\n",
       "      <td>Office</td>\n",
       "      <td>87</td>\n",
       "    </tr>\n",
       "    <tr>\n",
       "      <th>1</th>\n",
       "      <td>Hospital</td>\n",
       "      <td>52</td>\n",
       "    </tr>\n",
       "    <tr>\n",
       "      <th>2</th>\n",
       "      <td>Building</td>\n",
       "      <td>36</td>\n",
       "    </tr>\n",
       "    <tr>\n",
       "      <th>3</th>\n",
       "      <td>Temple</td>\n",
       "      <td>28</td>\n",
       "    </tr>\n",
       "    <tr>\n",
       "      <th>4</th>\n",
       "      <td>Factory</td>\n",
       "      <td>24</td>\n",
       "    </tr>\n",
       "  </tbody>\n",
       "</table>\n",
       "</div>"
      ],
      "text/plain": [
       "  Venue_Category  Count\n",
       "0         Office     87\n",
       "1       Hospital     52\n",
       "2       Building     36\n",
       "3         Temple     28\n",
       "4        Factory     24"
      ]
     },
     "execution_count": 16,
     "metadata": {},
     "output_type": "execute_result"
    }
   ],
   "source": [
    "df_prof_venues = pd.DataFrame(Chennai_Zones_ProfVenues['Venue_Category'].value_counts())\n",
    "\n",
    "df_prof_venues = df_prof_venues.reset_index()\n",
    "df_prof_venues.columns = ['Venue_Category','Count']\n",
    "df_prof_venues.head()"
   ]
  },
  {
   "cell_type": "code",
   "execution_count": 17,
   "metadata": {},
   "outputs": [
    {
     "data": {
      "text/plain": [
       "(59, 2)"
      ]
     },
     "execution_count": 17,
     "metadata": {},
     "output_type": "execute_result"
    }
   ],
   "source": [
    "df_prof_venues.shape"
   ]
  },
  {
   "cell_type": "code",
   "execution_count": 18,
   "metadata": {},
   "outputs": [
    {
     "data": {
      "text/html": [
       "<div>\n",
       "<style scoped>\n",
       "    .dataframe tbody tr th:only-of-type {\n",
       "        vertical-align: middle;\n",
       "    }\n",
       "\n",
       "    .dataframe tbody tr th {\n",
       "        vertical-align: top;\n",
       "    }\n",
       "\n",
       "    .dataframe thead th {\n",
       "        text-align: right;\n",
       "    }\n",
       "</style>\n",
       "<table border=\"1\" class=\"dataframe\">\n",
       "  <thead>\n",
       "    <tr style=\"text-align: right;\">\n",
       "      <th></th>\n",
       "      <th>Zone(Location)</th>\n",
       "      <th>Count</th>\n",
       "    </tr>\n",
       "  </thead>\n",
       "  <tbody>\n",
       "    <tr>\n",
       "      <th>0</th>\n",
       "      <td>Alandur</td>\n",
       "      <td>50</td>\n",
       "    </tr>\n",
       "    <tr>\n",
       "      <th>1</th>\n",
       "      <td>Perungudi</td>\n",
       "      <td>50</td>\n",
       "    </tr>\n",
       "    <tr>\n",
       "      <th>2</th>\n",
       "      <td>Ambattur</td>\n",
       "      <td>49</td>\n",
       "    </tr>\n",
       "    <tr>\n",
       "      <th>3</th>\n",
       "      <td>Teynampet</td>\n",
       "      <td>48</td>\n",
       "    </tr>\n",
       "    <tr>\n",
       "      <th>4</th>\n",
       "      <td>Adyar</td>\n",
       "      <td>46</td>\n",
       "    </tr>\n",
       "  </tbody>\n",
       "</table>\n",
       "</div>"
      ],
      "text/plain": [
       "  Zone(Location)  Count\n",
       "0        Alandur     50\n",
       "1      Perungudi     50\n",
       "2       Ambattur     49\n",
       "3      Teynampet     48\n",
       "4          Adyar     46"
      ]
     },
     "execution_count": 18,
     "metadata": {},
     "output_type": "execute_result"
    }
   ],
   "source": [
    "df_zone_count = pd.DataFrame(Chennai_Zones_ProfVenues['Zone(Location)'].value_counts())\n",
    "df_zone_count = df_zone_count.reset_index()\n",
    "df_zone_count.columns = ['Zone(Location)','Count']\n",
    "df_zone_count.head()"
   ]
  },
  {
   "cell_type": "code",
   "execution_count": 19,
   "metadata": {},
   "outputs": [
    {
     "data": {
      "text/plain": [
       "(15, 2)"
      ]
     },
     "execution_count": 19,
     "metadata": {},
     "output_type": "execute_result"
    }
   ],
   "source": [
    "df_zone_count.shape"
   ]
  },
  {
   "cell_type": "markdown",
   "metadata": {},
   "source": [
    "##### We can see the count of professional venues obtained from each zone. Most of these venues are offices. So we will select the top 5 zones with a maximum frequency of professional venues. #####"
   ]
  },
  {
   "cell_type": "code",
   "execution_count": 20,
   "metadata": {},
   "outputs": [
    {
     "data": {
      "text/html": [
       "<div>\n",
       "<style scoped>\n",
       "    .dataframe tbody tr th:only-of-type {\n",
       "        vertical-align: middle;\n",
       "    }\n",
       "\n",
       "    .dataframe tbody tr th {\n",
       "        vertical-align: top;\n",
       "    }\n",
       "\n",
       "    .dataframe thead th {\n",
       "        text-align: right;\n",
       "    }\n",
       "</style>\n",
       "<table border=\"1\" class=\"dataframe\">\n",
       "  <thead>\n",
       "    <tr style=\"text-align: right;\">\n",
       "      <th></th>\n",
       "      <th>Location</th>\n",
       "      <th>Latitude</th>\n",
       "      <th>Longitude</th>\n",
       "    </tr>\n",
       "  </thead>\n",
       "  <tbody>\n",
       "    <tr>\n",
       "      <th>0</th>\n",
       "      <td>Adyar</td>\n",
       "      <td>13.006450</td>\n",
       "      <td>80.257779</td>\n",
       "    </tr>\n",
       "    <tr>\n",
       "      <th>1</th>\n",
       "      <td>Alandur</td>\n",
       "      <td>12.994373</td>\n",
       "      <td>80.194284</td>\n",
       "    </tr>\n",
       "    <tr>\n",
       "      <th>2</th>\n",
       "      <td>Ambattur</td>\n",
       "      <td>13.119375</td>\n",
       "      <td>80.150765</td>\n",
       "    </tr>\n",
       "    <tr>\n",
       "      <th>3</th>\n",
       "      <td>Perungudi</td>\n",
       "      <td>12.971024</td>\n",
       "      <td>80.241805</td>\n",
       "    </tr>\n",
       "    <tr>\n",
       "      <th>4</th>\n",
       "      <td>Teynampet</td>\n",
       "      <td>13.044324</td>\n",
       "      <td>80.249846</td>\n",
       "    </tr>\n",
       "  </tbody>\n",
       "</table>\n",
       "</div>"
      ],
      "text/plain": [
       "    Location   Latitude  Longitude\n",
       "0      Adyar  13.006450  80.257779\n",
       "1    Alandur  12.994373  80.194284\n",
       "2   Ambattur  13.119375  80.150765\n",
       "3  Perungudi  12.971024  80.241805\n",
       "4  Teynampet  13.044324  80.249846"
      ]
     },
     "execution_count": 20,
     "metadata": {},
     "output_type": "execute_result"
    }
   ],
   "source": [
    "zone_list = list(df_zone_count['Zone(Location)'][0:5])\n",
    "selected_zones_df = df_chennai.loc[df_chennai['Location'].isin(zone_list)]\n",
    "selected_zones_df = selected_zones_df.sort_values(by=['Location'])\n",
    "selected_zones_df = selected_zones_df.reset_index(drop=True)\n",
    "\n",
    "selected_zones_df.head()"
   ]
  },
  {
   "cell_type": "code",
   "execution_count": 21,
   "metadata": {},
   "outputs": [
    {
     "data": {
      "text/plain": [
       "(5, 3)"
      ]
     },
     "execution_count": 21,
     "metadata": {},
     "output_type": "execute_result"
    }
   ],
   "source": [
    "selected_zones_df.shape"
   ]
  },
  {
   "cell_type": "markdown",
   "metadata": {},
   "source": [
    "##### Lets visualize these selected zones. #####"
   ]
  },
  {
   "cell_type": "code",
   "execution_count": 22,
   "metadata": {},
   "outputs": [
    {
     "data": {
      "text/html": [
       "<div style=\"width:100%;\"><div style=\"position:relative;width:100%;height:0;padding-bottom:60%;\"><iframe src=\"data:text/html;charset=utf-8;base64,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\" style=\"position:absolute;width:100%;height:100%;left:0;top:0;border:none !important;\" allowfullscreen webkitallowfullscreen mozallowfullscreen></iframe></div></div>"
      ],
      "text/plain": [
       "<folium.folium.Map at 0x7f8140b18630>"
      ]
     },
     "execution_count": 22,
     "metadata": {},
     "output_type": "execute_result"
    }
   ],
   "source": [
    "#Chennai Lat long\n",
    "chennai_centre =[13.0827, 80.2707]\n",
    "\n",
    "chennai_zones_map = folium.Map(location=chennai_centre, zoom_start=12)\n",
    "folium.Marker(chennai_centre, popup='Chennai').add_to(chennai_zones_map)\n",
    "# add markers to map\n",
    "for lat, lng, label in zip(selected_zones_df['Latitude'], selected_zones_df['Longitude'], \n",
    "                           selected_zones_df['Location']):\n",
    "    label = folium.Popup(label, parse_html=True)\n",
    "    folium.CircleMarker(\n",
    "        [lat, lng],\n",
    "        radius=9,\n",
    "        popup=label,\n",
    "        color='blue',\n",
    "        fill=True,\n",
    "        fill_color='yellow',\n",
    "        fill_opacity=0.7).add_to(chennai_zones_map)  \n",
    "    \n",
    "chennai_zones_map"
   ]
  },
  {
   "cell_type": "markdown",
   "metadata": {},
   "source": [
    "#### Nearby Venues Data ####\n",
    "Like we did early, lets use foursquare to explore 1km around the selected zones and collect venue details."
   ]
  },
  {
   "cell_type": "code",
   "execution_count": 23,
   "metadata": {},
   "outputs": [],
   "source": [
    "def getNearbyVenues(names, latitudes, longitudes, radius=RADIUS):\n",
    "    \n",
    "    venues_list=[]\n",
    "    for name, lat, lng in zip(names, latitudes, longitudes):\n",
    "        \n",
    "        # create the API request URL\n",
    "        url = 'https://api.foursquare.com/v2/venues/explore?&client_id={}&client_secret={}&v={}&ll={},{}&radius={}&limit={}'.format(\n",
    "            CLIENT_ID, \n",
    "            CLIENT_SECRET, \n",
    "            VERSION, \n",
    "            lat, \n",
    "            lng, \n",
    "            radius, \n",
    "            LIMIT)\n",
    "            \n",
    "        # make the GET request\n",
    "        results = requests.get(url).json()[\"response\"]['groups'][0]['items']\n",
    "        \n",
    "        # return only relevant information for each nearby venue\n",
    "        venues_list.append([(\n",
    "            name, \n",
    "            lat, \n",
    "            lng, \n",
    "            v['venue']['name'], \n",
    "            v['venue']['location']['lat'], \n",
    "            v['venue']['location']['lng'],  \n",
    "            v['venue']['categories'][0]['name']) for v in results])\n",
    "    nearby_venues = pd.DataFrame([item for venue_list in venues_list for item in venue_list])\n",
    "    nearby_venues.columns = ['Zone(Location)', \n",
    "                  'Latitude', \n",
    "                  'Longitude', \n",
    "                  'Venue', \n",
    "                  'Venue_Lat', \n",
    "                  'Venue_Long', \n",
    "                  'Venue_Category']\n",
    "        \n",
    "    return(nearby_venues)"
   ]
  },
  {
   "cell_type": "code",
   "execution_count": 24,
   "metadata": {},
   "outputs": [],
   "source": [
    "chennai_5zones_venues = getNearbyVenues(names=selected_zones_df['Location'],\n",
    "                                   latitudes=selected_zones_df['Latitude'],\n",
    "                                   longitudes=selected_zones_df['Longitude']\n",
    "                                  )"
   ]
  },
  {
   "cell_type": "code",
   "execution_count": 25,
   "metadata": {},
   "outputs": [
    {
     "data": {
      "text/html": [
       "<div>\n",
       "<style scoped>\n",
       "    .dataframe tbody tr th:only-of-type {\n",
       "        vertical-align: middle;\n",
       "    }\n",
       "\n",
       "    .dataframe tbody tr th {\n",
       "        vertical-align: top;\n",
       "    }\n",
       "\n",
       "    .dataframe thead th {\n",
       "        text-align: right;\n",
       "    }\n",
       "</style>\n",
       "<table border=\"1\" class=\"dataframe\">\n",
       "  <thead>\n",
       "    <tr style=\"text-align: right;\">\n",
       "      <th></th>\n",
       "      <th>Zone(Location)</th>\n",
       "      <th>Latitude</th>\n",
       "      <th>Longitude</th>\n",
       "      <th>Venue</th>\n",
       "      <th>Venue_Lat</th>\n",
       "      <th>Venue_Long</th>\n",
       "      <th>Venue_Category</th>\n",
       "    </tr>\n",
       "  </thead>\n",
       "  <tbody>\n",
       "    <tr>\n",
       "      <th>0</th>\n",
       "      <td>Adyar</td>\n",
       "      <td>13.00645</td>\n",
       "      <td>80.257779</td>\n",
       "      <td>Bombay Brassiere</td>\n",
       "      <td>13.006961</td>\n",
       "      <td>80.256419</td>\n",
       "      <td>North Indian Restaurant</td>\n",
       "    </tr>\n",
       "    <tr>\n",
       "      <th>1</th>\n",
       "      <td>Adyar</td>\n",
       "      <td>13.00645</td>\n",
       "      <td>80.257779</td>\n",
       "      <td>Cool Biz</td>\n",
       "      <td>13.006632</td>\n",
       "      <td>80.257275</td>\n",
       "      <td>Juice Bar</td>\n",
       "    </tr>\n",
       "    <tr>\n",
       "      <th>2</th>\n",
       "      <td>Adyar</td>\n",
       "      <td>13.00645</td>\n",
       "      <td>80.257779</td>\n",
       "      <td>McDonald's</td>\n",
       "      <td>13.006632</td>\n",
       "      <td>80.254255</td>\n",
       "      <td>Burger Joint</td>\n",
       "    </tr>\n",
       "    <tr>\n",
       "      <th>3</th>\n",
       "      <td>Adyar</td>\n",
       "      <td>13.00645</td>\n",
       "      <td>80.257779</td>\n",
       "      <td>Prems Graama Bhojanam</td>\n",
       "      <td>13.006345</td>\n",
       "      <td>80.253995</td>\n",
       "      <td>Vegetarian / Vegan Restaurant</td>\n",
       "    </tr>\n",
       "    <tr>\n",
       "      <th>4</th>\n",
       "      <td>Adyar</td>\n",
       "      <td>13.00645</td>\n",
       "      <td>80.257779</td>\n",
       "      <td>Adyar Ananda Bhavan</td>\n",
       "      <td>13.005824</td>\n",
       "      <td>80.257368</td>\n",
       "      <td>Indian Restaurant</td>\n",
       "    </tr>\n",
       "  </tbody>\n",
       "</table>\n",
       "</div>"
      ],
      "text/plain": [
       "  Zone(Location)  Latitude  Longitude                  Venue  Venue_Lat  \\\n",
       "0          Adyar  13.00645  80.257779       Bombay Brassiere  13.006961   \n",
       "1          Adyar  13.00645  80.257779               Cool Biz  13.006632   \n",
       "2          Adyar  13.00645  80.257779             McDonald's  13.006632   \n",
       "3          Adyar  13.00645  80.257779  Prems Graama Bhojanam  13.006345   \n",
       "4          Adyar  13.00645  80.257779    Adyar Ananda Bhavan  13.005824   \n",
       "\n",
       "   Venue_Long                 Venue_Category  \n",
       "0   80.256419        North Indian Restaurant  \n",
       "1   80.257275                      Juice Bar  \n",
       "2   80.254255                   Burger Joint  \n",
       "3   80.253995  Vegetarian / Vegan Restaurant  \n",
       "4   80.257368              Indian Restaurant  "
      ]
     },
     "execution_count": 25,
     "metadata": {},
     "output_type": "execute_result"
    }
   ],
   "source": [
    "chennai_5zones_venues.head()"
   ]
  },
  {
   "cell_type": "code",
   "execution_count": 26,
   "metadata": {},
   "outputs": [
    {
     "data": {
      "text/plain": [
       "(209, 7)"
      ]
     },
     "execution_count": 26,
     "metadata": {},
     "output_type": "execute_result"
    }
   ],
   "source": [
    "chennai_5zones_venues.shape"
   ]
  },
  {
   "cell_type": "code",
   "execution_count": 27,
   "metadata": {},
   "outputs": [
    {
     "data": {
      "text/html": [
       "<div>\n",
       "<style scoped>\n",
       "    .dataframe tbody tr th:only-of-type {\n",
       "        vertical-align: middle;\n",
       "    }\n",
       "\n",
       "    .dataframe tbody tr th {\n",
       "        vertical-align: top;\n",
       "    }\n",
       "\n",
       "    .dataframe thead th {\n",
       "        text-align: right;\n",
       "    }\n",
       "</style>\n",
       "<table border=\"1\" class=\"dataframe\">\n",
       "  <thead>\n",
       "    <tr style=\"text-align: right;\">\n",
       "      <th></th>\n",
       "      <th>Venue_Category</th>\n",
       "      <th>Count</th>\n",
       "    </tr>\n",
       "  </thead>\n",
       "  <tbody>\n",
       "    <tr>\n",
       "      <th>0</th>\n",
       "      <td>Indian Restaurant</td>\n",
       "      <td>43</td>\n",
       "    </tr>\n",
       "    <tr>\n",
       "      <th>1</th>\n",
       "      <td>Hotel</td>\n",
       "      <td>14</td>\n",
       "    </tr>\n",
       "    <tr>\n",
       "      <th>2</th>\n",
       "      <td>Café</td>\n",
       "      <td>12</td>\n",
       "    </tr>\n",
       "    <tr>\n",
       "      <th>3</th>\n",
       "      <td>Pizza Place</td>\n",
       "      <td>11</td>\n",
       "    </tr>\n",
       "    <tr>\n",
       "      <th>4</th>\n",
       "      <td>Lounge</td>\n",
       "      <td>7</td>\n",
       "    </tr>\n",
       "  </tbody>\n",
       "</table>\n",
       "</div>"
      ],
      "text/plain": [
       "      Venue_Category  Count\n",
       "0  Indian Restaurant     43\n",
       "1              Hotel     14\n",
       "2               Café     12\n",
       "3        Pizza Place     11\n",
       "4             Lounge      7"
      ]
     },
     "execution_count": 27,
     "metadata": {},
     "output_type": "execute_result"
    }
   ],
   "source": [
    "df_5zones_venues = pd.DataFrame(chennai_5zones_venues['Venue_Category'].value_counts()[0:10])\n",
    "df_5zones_venues = df_5zones_venues.reset_index()\n",
    "df_5zones_venues.columns=['Venue_Category', 'Count']\n",
    "\n",
    "df_5zones_venues.head()"
   ]
  },
  {
   "cell_type": "code",
   "execution_count": 28,
   "metadata": {},
   "outputs": [
    {
     "data": {
      "text/plain": [
       "(10, 2)"
      ]
     },
     "execution_count": 28,
     "metadata": {},
     "output_type": "execute_result"
    }
   ],
   "source": [
    "df_5zones_venues.shape"
   ]
  },
  {
   "cell_type": "markdown",
   "metadata": {},
   "source": [
    "##### We can see that venues data in the zones. To get a better understanding let's plot a Bar graph for this data #####"
   ]
  },
  {
   "cell_type": "code",
   "execution_count": 29,
   "metadata": {},
   "outputs": [
    {
     "data": {
      "image/png": "[encoded data removed]",
      "text/plain": [
       "<Figure size 1080x432 with 1 Axes>"
      ]
     },
     "metadata": {
      "needs_background": "light"
     },
     "output_type": "display_data"
    }
   ],
   "source": [
    "fig = plt.figure(figsize=(15,6))\n",
    "s=sns.barplot(x=\"Venue_Category\", y=\"Count\", data=df_5zones_venues)\n",
    "s.set_xticklabels(s.get_xticklabels(), rotation=90,fontsize=14)\n",
    "\n",
    "plt.title('10 Most Frequently Occuring Venues in the 5 Selected Zones of Chennai', fontsize=18)\n",
    "plt.xlabel(\"Venue Category\", fontsize=18)\n",
    "plt.ylabel (\"Frequency\", fontsize=18)\n",
    "\n",
    "plt.show()"
   ]
  },
  {
   "cell_type": "markdown",
   "metadata": {},
   "source": [
    "##### To check for other type of restaurants in the selected zones let's look at venues which have the word restaurant in their venue category. #####"
   ]
  },
  {
   "cell_type": "code",
   "execution_count": 30,
   "metadata": {},
   "outputs": [
    {
     "data": {
      "text/html": [
       "<div>\n",
       "<style scoped>\n",
       "    .dataframe tbody tr th:only-of-type {\n",
       "        vertical-align: middle;\n",
       "    }\n",
       "\n",
       "    .dataframe tbody tr th {\n",
       "        vertical-align: top;\n",
       "    }\n",
       "\n",
       "    .dataframe thead th {\n",
       "        text-align: right;\n",
       "    }\n",
       "</style>\n",
       "<table border=\"1\" class=\"dataframe\">\n",
       "  <thead>\n",
       "    <tr style=\"text-align: right;\">\n",
       "      <th></th>\n",
       "      <th>Zone(Location)</th>\n",
       "      <th>Latitude</th>\n",
       "      <th>Longitude</th>\n",
       "      <th>Venue</th>\n",
       "      <th>Venue_Lat</th>\n",
       "      <th>Venue_Long</th>\n",
       "      <th>Venue_Category</th>\n",
       "    </tr>\n",
       "  </thead>\n",
       "  <tbody>\n",
       "    <tr>\n",
       "      <th>0</th>\n",
       "      <td>Adyar</td>\n",
       "      <td>13.00645</td>\n",
       "      <td>80.257779</td>\n",
       "      <td>Bombay Brassiere</td>\n",
       "      <td>13.006961</td>\n",
       "      <td>80.256419</td>\n",
       "      <td>North Indian Restaurant</td>\n",
       "    </tr>\n",
       "    <tr>\n",
       "      <th>1</th>\n",
       "      <td>Adyar</td>\n",
       "      <td>13.00645</td>\n",
       "      <td>80.257779</td>\n",
       "      <td>Prems Graama Bhojanam</td>\n",
       "      <td>13.006345</td>\n",
       "      <td>80.253995</td>\n",
       "      <td>Vegetarian / Vegan Restaurant</td>\n",
       "    </tr>\n",
       "    <tr>\n",
       "      <th>2</th>\n",
       "      <td>Adyar</td>\n",
       "      <td>13.00645</td>\n",
       "      <td>80.257779</td>\n",
       "      <td>Adyar Ananda Bhavan</td>\n",
       "      <td>13.005824</td>\n",
       "      <td>80.257368</td>\n",
       "      <td>Indian Restaurant</td>\n",
       "    </tr>\n",
       "    <tr>\n",
       "      <th>3</th>\n",
       "      <td>Adyar</td>\n",
       "      <td>13.00645</td>\n",
       "      <td>80.257779</td>\n",
       "      <td>Daawat The Kebab Shop</td>\n",
       "      <td>13.006689</td>\n",
       "      <td>80.253728</td>\n",
       "      <td>North Indian Restaurant</td>\n",
       "    </tr>\n",
       "    <tr>\n",
       "      <th>4</th>\n",
       "      <td>Adyar</td>\n",
       "      <td>13.00645</td>\n",
       "      <td>80.257779</td>\n",
       "      <td>Rainforest Restaurant</td>\n",
       "      <td>13.006993</td>\n",
       "      <td>80.257767</td>\n",
       "      <td>Indian Restaurant</td>\n",
       "    </tr>\n",
       "  </tbody>\n",
       "</table>\n",
       "</div>"
      ],
      "text/plain": [
       "  Zone(Location)  Latitude  Longitude                  Venue  Venue_Lat  \\\n",
       "0          Adyar  13.00645  80.257779       Bombay Brassiere  13.006961   \n",
       "1          Adyar  13.00645  80.257779  Prems Graama Bhojanam  13.006345   \n",
       "2          Adyar  13.00645  80.257779    Adyar Ananda Bhavan  13.005824   \n",
       "3          Adyar  13.00645  80.257779  Daawat The Kebab Shop  13.006689   \n",
       "4          Adyar  13.00645  80.257779  Rainforest Restaurant  13.006993   \n",
       "\n",
       "   Venue_Long                 Venue_Category  \n",
       "0   80.256419        North Indian Restaurant  \n",
       "1   80.253995  Vegetarian / Vegan Restaurant  \n",
       "2   80.257368              Indian Restaurant  \n",
       "3   80.253728        North Indian Restaurant  \n",
       "4   80.257767              Indian Restaurant  "
      ]
     },
     "execution_count": 30,
     "metadata": {},
     "output_type": "execute_result"
    }
   ],
   "source": [
    "chennai_5zones_venues_only_restaurant = chennai_5zones_venues[chennai_5zones_venues['Venue_Category'].str.contains('Restaurant')].reset_index(drop=True)\n",
    "chennai_5zones_venues_only_restaurant.head()"
   ]
  },
  {
   "cell_type": "code",
   "execution_count": 31,
   "metadata": {},
   "outputs": [
    {
     "data": {
      "text/plain": [
       "(81, 7)"
      ]
     },
     "execution_count": 31,
     "metadata": {},
     "output_type": "execute_result"
    }
   ],
   "source": [
    "chennai_5zones_venues_only_restaurant.shape"
   ]
  },
  {
   "cell_type": "code",
   "execution_count": 32,
   "metadata": {},
   "outputs": [
    {
     "data": {
      "text/html": [
       "<div>\n",
       "<style scoped>\n",
       "    .dataframe tbody tr th:only-of-type {\n",
       "        vertical-align: middle;\n",
       "    }\n",
       "\n",
       "    .dataframe tbody tr th {\n",
       "        vertical-align: top;\n",
       "    }\n",
       "\n",
       "    .dataframe thead th {\n",
       "        text-align: right;\n",
       "    }\n",
       "</style>\n",
       "<table border=\"1\" class=\"dataframe\">\n",
       "  <thead>\n",
       "    <tr style=\"text-align: right;\">\n",
       "      <th></th>\n",
       "      <th>Restaurant</th>\n",
       "      <th>Count</th>\n",
       "    </tr>\n",
       "  </thead>\n",
       "  <tbody>\n",
       "    <tr>\n",
       "      <th>0</th>\n",
       "      <td>Indian Restaurant</td>\n",
       "      <td>43</td>\n",
       "    </tr>\n",
       "    <tr>\n",
       "      <th>1</th>\n",
       "      <td>Chinese Restaurant</td>\n",
       "      <td>5</td>\n",
       "    </tr>\n",
       "    <tr>\n",
       "      <th>2</th>\n",
       "      <td>Italian Restaurant</td>\n",
       "      <td>5</td>\n",
       "    </tr>\n",
       "    <tr>\n",
       "      <th>3</th>\n",
       "      <td>Fast Food Restaurant</td>\n",
       "      <td>5</td>\n",
       "    </tr>\n",
       "    <tr>\n",
       "      <th>4</th>\n",
       "      <td>South Indian Restaurant</td>\n",
       "      <td>3</td>\n",
       "    </tr>\n",
       "  </tbody>\n",
       "</table>\n",
       "</div>"
      ],
      "text/plain": [
       "                Restaurant  Count\n",
       "0        Indian Restaurant     43\n",
       "1       Chinese Restaurant      5\n",
       "2       Italian Restaurant      5\n",
       "3     Fast Food Restaurant      5\n",
       "4  South Indian Restaurant      3"
      ]
     },
     "execution_count": 32,
     "metadata": {},
     "output_type": "execute_result"
    }
   ],
   "source": [
    "df_venue_rest = pd.DataFrame(chennai_5zones_venues_only_restaurant['Venue_Category'].value_counts()[0:10])\n",
    "df_venue_rest = df_venue_rest.reset_index()\n",
    "df_venue_rest.columns = ['Restaurant', 'Count']\n",
    "df_venue_rest.head()"
   ]
  },
  {
   "cell_type": "code",
   "execution_count": 33,
   "metadata": {},
   "outputs": [
    {
     "data": {
      "text/plain": [
       "(10, 2)"
      ]
     },
     "execution_count": 33,
     "metadata": {},
     "output_type": "execute_result"
    }
   ],
   "source": [
    "df_venue_rest.shape"
   ]
  },
  {
   "cell_type": "markdown",
   "metadata": {},
   "source": [
    " ##### Indian Restaurants are the most frequent restaurants in the zones which implies that people prefer eating Indian food in these areas. #####"
   ]
  },
  {
   "cell_type": "code",
   "execution_count": 34,
   "metadata": {},
   "outputs": [
    {
     "data": {
      "image/png": "[encoded data removed]",
      "text/plain": [
       "<Figure size 1080x360 with 1 Axes>"
      ]
     },
     "metadata": {
      "needs_background": "light"
     },
     "output_type": "display_data"
    }
   ],
   "source": [
    "fig = plt.figure(figsize=(15,5))\n",
    "plot=sns.barplot(x=\"Restaurant\", y=\"Count\", data=df_venue_rest)\n",
    "plot.set_xticklabels(plot.get_xticklabels(), rotation=90,fontsize=14)\n",
    "\n",
    "plt.title('10 Most Frequently occuring Restaurants in the 5 Selected Zones of Chennai', fontsize=18)\n",
    "plt.xlabel(\"Restaurants\", fontsize=18)\n",
    "plt.ylabel (\"Frequency\", fontsize=18)\n",
    "\n",
    "plt.show()"
   ]
  },
  {
   "cell_type": "code",
   "execution_count": 35,
   "metadata": {},
   "outputs": [
    {
     "data": {
      "text/plain": [
       "Teynampet    32\n",
       "Adyar        27\n",
       "Alandur      10\n",
       "Perungudi     9\n",
       "Ambattur      3\n",
       "Name: Zone(Location), dtype: int64"
      ]
     },
     "execution_count": 35,
     "metadata": {},
     "output_type": "execute_result"
    }
   ],
   "source": [
    "chennai_5zones_venues_only_restaurant['Zone(Location)'].value_counts()"
   ]
  },
  {
   "cell_type": "markdown",
   "metadata": {},
   "source": [
    "##### Most of the restaurants are located in 'Teynampet'. Lets visualize this on a folium map. #####"
   ]
  },
  {
   "cell_type": "code",
   "execution_count": 36,
   "metadata": {},
   "outputs": [
    {
     "data": {
      "text/html": [
       "<div style=\"width:100%;\"><div style=\"position:relative;width:100%;height:0;padding-bottom:60%;\"><iframe src=\"data:text/html;charset=utf-8;base64,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\" style=\"position:absolute;width:100%;height:100%;left:0;top:0;border:none !important;\" allowfullscreen webkitallowfullscreen mozallowfullscreen></iframe></div></div>"
      ],
      "text/plain": [
       "<folium.folium.Map at 0x7f814072dd68>"
      ]
     },
     "execution_count": 36,
     "metadata": {},
     "output_type": "execute_result"
    }
   ],
   "source": [
    "chennai_zones_restaurants_map = folium.Map(location=Chennai_centre, zoom_start=12)\n",
    "folium.Marker(Chennai_centre, popup='Chennai').add_to(chennai_zones_restaurants_map)\n",
    "\n",
    "zone_list = ['Teynampet', 'Perungudi', 'Ambattur', 'Adyar', 'Kodambakkam', 'Alandur']\n",
    "\n",
    "colors = ['blue', 'red','black','green' ,'magenta','maroon']\n",
    "\n",
    "\n",
    "for lat, long, poi, zone in zip(chennai_5zones_venues_only_restaurant['Venue_Lat'], \n",
    "                                  chennai_5zones_venues_only_restaurant['Venue_Long'], \n",
    "                                  chennai_5zones_venues_only_restaurant['Venue_Category'], \n",
    "                                  chennai_5zones_venues_only_restaurant['Zone(Location)']):\n",
    "    label = folium.Popup(str(zone), parse_html=True)\n",
    "    folium.CircleMarker(\n",
    "        [lat, long],\n",
    "        radius=5,\n",
    "        popup=label,\n",
    "        color=colors[zone_list.index(zone)],\n",
    "        fill=True,\n",
    "        fill_color=colors[zone_list.index(zone)],\n",
    "        fill_opacity=0.3).add_to(chennai_zones_restaurants_map)\n",
    "\n",
    "chennai_zones_restaurants_map"
   ]
  },
  {
   "cell_type": "markdown",
   "metadata": {},
   "source": [
    "#### Pricing Data Average price per sqft in each selected zone is taken manually from [<b>this website </b>](https://www.99acres.com/property-rates-and-price-trends-in-chennai). ####"
   ]
  },
  {
   "cell_type": "code",
   "execution_count": 37,
   "metadata": {},
   "outputs": [
    {
     "data": {
      "text/html": [
       "<div>\n",
       "<style scoped>\n",
       "    .dataframe tbody tr th:only-of-type {\n",
       "        vertical-align: middle;\n",
       "    }\n",
       "\n",
       "    .dataframe tbody tr th {\n",
       "        vertical-align: top;\n",
       "    }\n",
       "\n",
       "    .dataframe thead th {\n",
       "        text-align: right;\n",
       "    }\n",
       "</style>\n",
       "<table border=\"1\" class=\"dataframe\">\n",
       "  <thead>\n",
       "    <tr style=\"text-align: right;\">\n",
       "      <th></th>\n",
       "      <th>Location</th>\n",
       "      <th>Avg Price per sqft</th>\n",
       "    </tr>\n",
       "  </thead>\n",
       "  <tbody>\n",
       "    <tr>\n",
       "      <th>0</th>\n",
       "      <td>Adyar</td>\n",
       "      <td>12325</td>\n",
       "    </tr>\n",
       "    <tr>\n",
       "      <th>1</th>\n",
       "      <td>Alandur</td>\n",
       "      <td>7607</td>\n",
       "    </tr>\n",
       "    <tr>\n",
       "      <th>2</th>\n",
       "      <td>Ambattur</td>\n",
       "      <td>4420</td>\n",
       "    </tr>\n",
       "    <tr>\n",
       "      <th>3</th>\n",
       "      <td>Kodambakkam</td>\n",
       "      <td>7607</td>\n",
       "    </tr>\n",
       "    <tr>\n",
       "      <th>4</th>\n",
       "      <td>Perungudi</td>\n",
       "      <td>6885</td>\n",
       "    </tr>\n",
       "  </tbody>\n",
       "</table>\n",
       "</div>"
      ],
      "text/plain": [
       "      Location  Avg Price per sqft\n",
       "0        Adyar               12325\n",
       "1      Alandur                7607\n",
       "2     Ambattur                4420\n",
       "3  Kodambakkam                7607\n",
       "4    Perungudi                6885"
      ]
     },
     "execution_count": 37,
     "metadata": {},
     "output_type": "execute_result"
    }
   ],
   "source": [
    "avg_price_per_sqft = {'Adyar':12325,'Alandur':7607,'Ambattur': 4420,'Kodambakkam':7607,'Perungudi':6885,'Teynampet':12792}\n",
    "avg_price_df= pd.DataFrame.from_dict(avg_price_per_sqft, orient='index')\n",
    "avg_price_df = avg_price_df.reset_index()\n",
    "avg_price_df.columns=['Location', 'Avg Price per sqft']\n",
    "\n",
    "avg_price_df.head()"
   ]
  },
  {
   "cell_type": "code",
   "execution_count": 38,
   "metadata": {},
   "outputs": [
    {
     "data": {
      "text/plain": [
       "(6, 2)"
      ]
     },
     "execution_count": 38,
     "metadata": {},
     "output_type": "execute_result"
    }
   ],
   "source": [
    "avg_price_df.shape"
   ]
  },
  {
   "cell_type": "markdown",
   "metadata": {},
   "source": [
    "##### To make more sense of the data, lets plot a bar plot of the data. #####"
   ]
  },
  {
   "cell_type": "code",
   "execution_count": 39,
   "metadata": {},
   "outputs": [
    {
     "data": {
      "image/png": "[encoded data removed]",
      "text/plain": [
       "<Figure size 648x432 with 1 Axes>"
      ]
     },
     "metadata": {
      "needs_background": "light"
     },
     "output_type": "display_data"
    }
   ],
   "source": [
    "fig = plt.figure(figsize=(9,6))\n",
    "price_bar = sns.barplot(x='Location',y ='Avg Price per sqft',data=avg_price_df)\n",
    "price_bar.set_xticklabels(price_bar.get_xticklabels(), rotation=90, fontsize=11)\n",
    "plt.xlabel('Zone in Chennai',fontsize=15)\n",
    "plt.ylabel('Avg Price per sqft',fontsize=15)\n",
    "plt.title('Avg Price comparison among the selected zones')\n",
    "\n",
    "plt.show()"
   ]
  },
  {
   "cell_type": "markdown",
   "metadata": {},
   "source": [
    "##### Merge this data into the selected zones data #####"
   ]
  },
  {
   "cell_type": "code",
   "execution_count": 40,
   "metadata": {},
   "outputs": [
    {
     "data": {
      "text/html": [
       "<div>\n",
       "<style scoped>\n",
       "    .dataframe tbody tr th:only-of-type {\n",
       "        vertical-align: middle;\n",
       "    }\n",
       "\n",
       "    .dataframe tbody tr th {\n",
       "        vertical-align: top;\n",
       "    }\n",
       "\n",
       "    .dataframe thead th {\n",
       "        text-align: right;\n",
       "    }\n",
       "</style>\n",
       "<table border=\"1\" class=\"dataframe\">\n",
       "  <thead>\n",
       "    <tr style=\"text-align: right;\">\n",
       "      <th></th>\n",
       "      <th>Location</th>\n",
       "      <th>Latitude</th>\n",
       "      <th>Longitude</th>\n",
       "      <th>Avg Price per sqft</th>\n",
       "    </tr>\n",
       "  </thead>\n",
       "  <tbody>\n",
       "    <tr>\n",
       "      <th>0</th>\n",
       "      <td>Adyar</td>\n",
       "      <td>13.006450</td>\n",
       "      <td>80.257779</td>\n",
       "      <td>12325</td>\n",
       "    </tr>\n",
       "    <tr>\n",
       "      <th>1</th>\n",
       "      <td>Alandur</td>\n",
       "      <td>12.994373</td>\n",
       "      <td>80.194284</td>\n",
       "      <td>7607</td>\n",
       "    </tr>\n",
       "    <tr>\n",
       "      <th>2</th>\n",
       "      <td>Ambattur</td>\n",
       "      <td>13.119375</td>\n",
       "      <td>80.150765</td>\n",
       "      <td>4420</td>\n",
       "    </tr>\n",
       "    <tr>\n",
       "      <th>3</th>\n",
       "      <td>Perungudi</td>\n",
       "      <td>12.971024</td>\n",
       "      <td>80.241805</td>\n",
       "      <td>6885</td>\n",
       "    </tr>\n",
       "    <tr>\n",
       "      <th>4</th>\n",
       "      <td>Teynampet</td>\n",
       "      <td>13.044324</td>\n",
       "      <td>80.249846</td>\n",
       "      <td>12792</td>\n",
       "    </tr>\n",
       "  </tbody>\n",
       "</table>\n",
       "</div>"
      ],
      "text/plain": [
       "    Location   Latitude  Longitude  Avg Price per sqft\n",
       "0      Adyar  13.006450  80.257779               12325\n",
       "1    Alandur  12.994373  80.194284                7607\n",
       "2   Ambattur  13.119375  80.150765                4420\n",
       "3  Perungudi  12.971024  80.241805                6885\n",
       "4  Teynampet  13.044324  80.249846               12792"
      ]
     },
     "execution_count": 40,
     "metadata": {},
     "output_type": "execute_result"
    }
   ],
   "source": [
    "df_merge = pd.merge(selected_zones_df, avg_price_df, how='right', on = 'Location')\n",
    "df_merge.head()"
   ]
  },
  {
   "cell_type": "code",
   "execution_count": 41,
   "metadata": {},
   "outputs": [
    {
     "data": {
      "text/plain": [
       "(6, 4)"
      ]
     },
     "execution_count": 41,
     "metadata": {},
     "output_type": "execute_result"
    }
   ],
   "source": [
    "df_merge.shape"
   ]
  },
  {
   "cell_type": "markdown",
   "metadata": {},
   "source": [
    "## Methodology  <a name=\"methodology\"></a>##\n",
    "\n",
    "This project requires us to find the business or professional zones of Chennai and explore these zones to find out the frequent venues of these zones. All of these is done so that we choose a zone which has more demand for our new business \n",
    "Firstly, we have collected all the required data and have done some exploratory data analysis to find the top 6 professional Zones of Chennai based on the professional venues’ frequency in that zone. We found that the most frequent Professional Venue in all the zones combined is an \"Office\". Frequent venues were explored in these selected zones and it was found that venue category of \"Indian Restaurant\" is the most frequent venue nearby these selected zones. From this it is clear who our potential customers are and what they prefer.\n",
    "Secondly, we need to analyze the data a little more to get insights into the venue category. This can be done by using one-hot encoding. Thirdly. We will use a machine learning method called K-Means Cluster to cluster the zones into groups depending how similar or dissimilar they are."
   ]
  },
  {
   "cell_type": "markdown",
   "metadata": {},
   "source": [
    "## Analysis  <a name=\"analysis\"></a>##\n",
    "\n",
    "First, let's make a dataframe which contains the selected zones and their nearby professional venues."
   ]
  },
  {
   "cell_type": "code",
   "execution_count": 42,
   "metadata": {},
   "outputs": [
    {
     "data": {
      "text/html": [
       "<div>\n",
       "<style scoped>\n",
       "    .dataframe tbody tr th:only-of-type {\n",
       "        vertical-align: middle;\n",
       "    }\n",
       "\n",
       "    .dataframe tbody tr th {\n",
       "        vertical-align: top;\n",
       "    }\n",
       "\n",
       "    .dataframe thead th {\n",
       "        text-align: right;\n",
       "    }\n",
       "</style>\n",
       "<table border=\"1\" class=\"dataframe\">\n",
       "  <thead>\n",
       "    <tr style=\"text-align: right;\">\n",
       "      <th></th>\n",
       "      <th>Zone(Location)</th>\n",
       "      <th>Latitude</th>\n",
       "      <th>Longitude</th>\n",
       "      <th>Venue</th>\n",
       "      <th>Venue_Lat</th>\n",
       "      <th>Venue_Long</th>\n",
       "      <th>Venue_Category</th>\n",
       "    </tr>\n",
       "  </thead>\n",
       "  <tbody>\n",
       "    <tr>\n",
       "      <th>0</th>\n",
       "      <td>Adyar</td>\n",
       "      <td>13.00645</td>\n",
       "      <td>80.257779</td>\n",
       "      <td>Sree Rama Lending Library</td>\n",
       "      <td>13.001400</td>\n",
       "      <td>80.258500</td>\n",
       "      <td>Library</td>\n",
       "    </tr>\n",
       "    <tr>\n",
       "      <th>1</th>\n",
       "      <td>Adyar</td>\n",
       "      <td>13.00645</td>\n",
       "      <td>80.257779</td>\n",
       "      <td>KRMM</td>\n",
       "      <td>13.010344</td>\n",
       "      <td>80.251171</td>\n",
       "      <td>High School</td>\n",
       "    </tr>\n",
       "    <tr>\n",
       "      <th>2</th>\n",
       "      <td>Adyar</td>\n",
       "      <td>13.00645</td>\n",
       "      <td>80.257779</td>\n",
       "      <td>Hindu Senior Secondary</td>\n",
       "      <td>12.998261</td>\n",
       "      <td>80.253654</td>\n",
       "      <td>High School</td>\n",
       "    </tr>\n",
       "    <tr>\n",
       "      <th>3</th>\n",
       "      <td>Adyar</td>\n",
       "      <td>13.00645</td>\n",
       "      <td>80.257779</td>\n",
       "      <td>Odyssey Ltd.</td>\n",
       "      <td>13.006865</td>\n",
       "      <td>80.253473</td>\n",
       "      <td>Building</td>\n",
       "    </tr>\n",
       "    <tr>\n",
       "      <th>4</th>\n",
       "      <td>Adyar</td>\n",
       "      <td>13.00645</td>\n",
       "      <td>80.257779</td>\n",
       "      <td>ilovereadin'</td>\n",
       "      <td>13.007550</td>\n",
       "      <td>80.264243</td>\n",
       "      <td>Library</td>\n",
       "    </tr>\n",
       "  </tbody>\n",
       "</table>\n",
       "</div>"
      ],
      "text/plain": [
       "  Zone(Location)  Latitude  Longitude                      Venue  Venue_Lat  \\\n",
       "0          Adyar  13.00645  80.257779  Sree Rama Lending Library  13.001400   \n",
       "1          Adyar  13.00645  80.257779                       KRMM  13.010344   \n",
       "2          Adyar  13.00645  80.257779     Hindu Senior Secondary  12.998261   \n",
       "3          Adyar  13.00645  80.257779               Odyssey Ltd.  13.006865   \n",
       "4          Adyar  13.00645  80.257779               ilovereadin'  13.007550   \n",
       "\n",
       "   Venue_Long Venue_Category  \n",
       "0   80.258500        Library  \n",
       "1   80.251171    High School  \n",
       "2   80.253654    High School  \n",
       "3   80.253473       Building  \n",
       "4   80.264243        Library  "
      ]
     },
     "execution_count": 42,
     "metadata": {},
     "output_type": "execute_result"
    }
   ],
   "source": [
    "prof_venue_list = list(df_prof_venues['Venue_Category'])\n",
    "selected_venues_df = Chennai_Zones_ProfVenues[Chennai_Zones_ProfVenues['Venue_Category'].isin(prof_venue_list)]\n",
    "selected_venues_df = selected_venues_df[selected_venues_df['Zone(Location)'].isin(zone_list)]\n",
    "selected_venues_df = selected_venues_df.sort_values(by=['Zone(Location)'])\n",
    "selected_venues_df = selected_venues_df.reset_index(drop=True)\n",
    "\n",
    "selected_venues_df.head()"
   ]
  },
  {
   "cell_type": "code",
   "execution_count": 43,
   "metadata": {},
   "outputs": [
    {
     "data": {
      "text/plain": [
       "(289, 7)"
      ]
     },
     "execution_count": 43,
     "metadata": {},
     "output_type": "execute_result"
    }
   ],
   "source": [
    "selected_venues_df.shape"
   ]
  },
  {
   "cell_type": "markdown",
   "metadata": {},
   "source": [
    "##### One hot encoding is done on the venue categories to better understand them.#####"
   ]
  },
  {
   "cell_type": "code",
   "execution_count": 44,
   "metadata": {},
   "outputs": [
    {
     "data": {
      "text/html": [
       "<div>\n",
       "<style scoped>\n",
       "    .dataframe tbody tr th:only-of-type {\n",
       "        vertical-align: middle;\n",
       "    }\n",
       "\n",
       "    .dataframe tbody tr th {\n",
       "        vertical-align: top;\n",
       "    }\n",
       "\n",
       "    .dataframe thead th {\n",
       "        text-align: right;\n",
       "    }\n",
       "</style>\n",
       "<table border=\"1\" class=\"dataframe\">\n",
       "  <thead>\n",
       "    <tr style=\"text-align: right;\">\n",
       "      <th></th>\n",
       "      <th>Zone(Location)</th>\n",
       "      <th>Adult Education Center</th>\n",
       "      <th>Advertising Agency</th>\n",
       "      <th>Amphitheater</th>\n",
       "      <th>Auditorium</th>\n",
       "      <th>Building</th>\n",
       "      <th>Business Center</th>\n",
       "      <th>Campaign Office</th>\n",
       "      <th>Church</th>\n",
       "      <th>City Hall</th>\n",
       "      <th>...</th>\n",
       "      <th>Post Office</th>\n",
       "      <th>Private School</th>\n",
       "      <th>Religious School</th>\n",
       "      <th>School</th>\n",
       "      <th>Social Club</th>\n",
       "      <th>Spiritual Center</th>\n",
       "      <th>Tech Startup</th>\n",
       "      <th>Temple</th>\n",
       "      <th>Waste Facility</th>\n",
       "      <th>Wedding Hall</th>\n",
       "    </tr>\n",
       "  </thead>\n",
       "  <tbody>\n",
       "    <tr>\n",
       "      <th>0</th>\n",
       "      <td>Adyar</td>\n",
       "      <td>0</td>\n",
       "      <td>0</td>\n",
       "      <td>0</td>\n",
       "      <td>0</td>\n",
       "      <td>0</td>\n",
       "      <td>0</td>\n",
       "      <td>0</td>\n",
       "      <td>0</td>\n",
       "      <td>0</td>\n",
       "      <td>...</td>\n",
       "      <td>0</td>\n",
       "      <td>0</td>\n",
       "      <td>0</td>\n",
       "      <td>0</td>\n",
       "      <td>0</td>\n",
       "      <td>0</td>\n",
       "      <td>0</td>\n",
       "      <td>0</td>\n",
       "      <td>0</td>\n",
       "      <td>0</td>\n",
       "    </tr>\n",
       "    <tr>\n",
       "      <th>1</th>\n",
       "      <td>Adyar</td>\n",
       "      <td>0</td>\n",
       "      <td>0</td>\n",
       "      <td>0</td>\n",
       "      <td>0</td>\n",
       "      <td>0</td>\n",
       "      <td>0</td>\n",
       "      <td>0</td>\n",
       "      <td>0</td>\n",
       "      <td>0</td>\n",
       "      <td>...</td>\n",
       "      <td>0</td>\n",
       "      <td>0</td>\n",
       "      <td>0</td>\n",
       "      <td>0</td>\n",
       "      <td>0</td>\n",
       "      <td>0</td>\n",
       "      <td>0</td>\n",
       "      <td>0</td>\n",
       "      <td>0</td>\n",
       "      <td>0</td>\n",
       "    </tr>\n",
       "    <tr>\n",
       "      <th>2</th>\n",
       "      <td>Adyar</td>\n",
       "      <td>0</td>\n",
       "      <td>0</td>\n",
       "      <td>0</td>\n",
       "      <td>0</td>\n",
       "      <td>0</td>\n",
       "      <td>0</td>\n",
       "      <td>0</td>\n",
       "      <td>0</td>\n",
       "      <td>0</td>\n",
       "      <td>...</td>\n",
       "      <td>0</td>\n",
       "      <td>0</td>\n",
       "      <td>0</td>\n",
       "      <td>0</td>\n",
       "      <td>0</td>\n",
       "      <td>0</td>\n",
       "      <td>0</td>\n",
       "      <td>0</td>\n",
       "      <td>0</td>\n",
       "      <td>0</td>\n",
       "    </tr>\n",
       "    <tr>\n",
       "      <th>3</th>\n",
       "      <td>Adyar</td>\n",
       "      <td>0</td>\n",
       "      <td>0</td>\n",
       "      <td>0</td>\n",
       "      <td>0</td>\n",
       "      <td>1</td>\n",
       "      <td>0</td>\n",
       "      <td>0</td>\n",
       "      <td>0</td>\n",
       "      <td>0</td>\n",
       "      <td>...</td>\n",
       "      <td>0</td>\n",
       "      <td>0</td>\n",
       "      <td>0</td>\n",
       "      <td>0</td>\n",
       "      <td>0</td>\n",
       "      <td>0</td>\n",
       "      <td>0</td>\n",
       "      <td>0</td>\n",
       "      <td>0</td>\n",
       "      <td>0</td>\n",
       "    </tr>\n",
       "    <tr>\n",
       "      <th>4</th>\n",
       "      <td>Adyar</td>\n",
       "      <td>0</td>\n",
       "      <td>0</td>\n",
       "      <td>0</td>\n",
       "      <td>0</td>\n",
       "      <td>0</td>\n",
       "      <td>0</td>\n",
       "      <td>0</td>\n",
       "      <td>0</td>\n",
       "      <td>0</td>\n",
       "      <td>...</td>\n",
       "      <td>0</td>\n",
       "      <td>0</td>\n",
       "      <td>0</td>\n",
       "      <td>0</td>\n",
       "      <td>0</td>\n",
       "      <td>0</td>\n",
       "      <td>0</td>\n",
       "      <td>0</td>\n",
       "      <td>0</td>\n",
       "      <td>0</td>\n",
       "    </tr>\n",
       "  </tbody>\n",
       "</table>\n",
       "<p>5 rows × 49 columns</p>\n",
       "</div>"
      ],
      "text/plain": [
       "  Zone(Location)  Adult Education Center  Advertising Agency  Amphitheater  \\\n",
       "0          Adyar                       0                   0             0   \n",
       "1          Adyar                       0                   0             0   \n",
       "2          Adyar                       0                   0             0   \n",
       "3          Adyar                       0                   0             0   \n",
       "4          Adyar                       0                   0             0   \n",
       "\n",
       "   Auditorium  Building  Business Center  Campaign Office  Church  City Hall  \\\n",
       "0           0         0                0                0       0          0   \n",
       "1           0         0                0                0       0          0   \n",
       "2           0         0                0                0       0          0   \n",
       "3           0         1                0                0       0          0   \n",
       "4           0         0                0                0       0          0   \n",
       "\n",
       "   ...  Post Office  Private School  Religious School  School  Social Club  \\\n",
       "0  ...            0               0                 0       0            0   \n",
       "1  ...            0               0                 0       0            0   \n",
       "2  ...            0               0                 0       0            0   \n",
       "3  ...            0               0                 0       0            0   \n",
       "4  ...            0               0                 0       0            0   \n",
       "\n",
       "   Spiritual Center  Tech Startup  Temple  Waste Facility  Wedding Hall  \n",
       "0                 0             0       0               0             0  \n",
       "1                 0             0       0               0             0  \n",
       "2                 0             0       0               0             0  \n",
       "3                 0             0       0               0             0  \n",
       "4                 0             0       0               0             0  \n",
       "\n",
       "[5 rows x 49 columns]"
      ]
     },
     "execution_count": 44,
     "metadata": {},
     "output_type": "execute_result"
    }
   ],
   "source": [
    "chennai_5zones_prof_venues_onehot = pd.get_dummies(selected_venues_df[['Venue_Category']], prefix=\"\", prefix_sep=\"\")\n",
    "\n",
    "#add district column back to dataframe\n",
    "chennai_5zones_prof_venues_onehot['Zone(Location)'] = selected_venues_df['Zone(Location)'] \n",
    "#move district column to the first column\n",
    "fixed_columns = [chennai_5zones_prof_venues_onehot.columns[-1]] + list(chennai_5zones_prof_venues_onehot.columns[:-1])\n",
    "chennai_5zones_prof_venues_onehot = chennai_5zones_prof_venues_onehot[fixed_columns]\n",
    "\n",
    "chennai_5zones_prof_venues_onehot.head()"
   ]
  },
  {
   "cell_type": "code",
   "execution_count": 45,
   "metadata": {},
   "outputs": [
    {
     "data": {
      "text/plain": [
       "(289, 49)"
      ]
     },
     "execution_count": 45,
     "metadata": {},
     "output_type": "execute_result"
    }
   ],
   "source": [
    "chennai_5zones_prof_venues_onehot.shape"
   ]
  },
  {
   "cell_type": "code",
   "execution_count": 46,
   "metadata": {},
   "outputs": [
    {
     "data": {
      "text/html": [
       "<div>\n",
       "<style scoped>\n",
       "    .dataframe tbody tr th:only-of-type {\n",
       "        vertical-align: middle;\n",
       "    }\n",
       "\n",
       "    .dataframe tbody tr th {\n",
       "        vertical-align: top;\n",
       "    }\n",
       "\n",
       "    .dataframe thead th {\n",
       "        text-align: right;\n",
       "    }\n",
       "</style>\n",
       "<table border=\"1\" class=\"dataframe\">\n",
       "  <thead>\n",
       "    <tr style=\"text-align: right;\">\n",
       "      <th></th>\n",
       "      <th>Zone(Location)</th>\n",
       "      <th>Adult Education Center</th>\n",
       "      <th>Advertising Agency</th>\n",
       "      <th>Amphitheater</th>\n",
       "      <th>Auditorium</th>\n",
       "      <th>Building</th>\n",
       "      <th>Business Center</th>\n",
       "      <th>Campaign Office</th>\n",
       "      <th>Church</th>\n",
       "      <th>City Hall</th>\n",
       "      <th>...</th>\n",
       "      <th>Post Office</th>\n",
       "      <th>Private School</th>\n",
       "      <th>Religious School</th>\n",
       "      <th>School</th>\n",
       "      <th>Social Club</th>\n",
       "      <th>Spiritual Center</th>\n",
       "      <th>Tech Startup</th>\n",
       "      <th>Temple</th>\n",
       "      <th>Waste Facility</th>\n",
       "      <th>Wedding Hall</th>\n",
       "    </tr>\n",
       "  </thead>\n",
       "  <tbody>\n",
       "    <tr>\n",
       "      <th>0</th>\n",
       "      <td>Adyar</td>\n",
       "      <td>0.00</td>\n",
       "      <td>0.0</td>\n",
       "      <td>0.00</td>\n",
       "      <td>0.021739</td>\n",
       "      <td>0.065217</td>\n",
       "      <td>0.000000</td>\n",
       "      <td>0.000000</td>\n",
       "      <td>0.021739</td>\n",
       "      <td>0.021739</td>\n",
       "      <td>...</td>\n",
       "      <td>0.043478</td>\n",
       "      <td>0.00</td>\n",
       "      <td>0.0</td>\n",
       "      <td>0.021739</td>\n",
       "      <td>0.00</td>\n",
       "      <td>0.021739</td>\n",
       "      <td>0.108696</td>\n",
       "      <td>0.065217</td>\n",
       "      <td>0.000000</td>\n",
       "      <td>0.000000</td>\n",
       "    </tr>\n",
       "    <tr>\n",
       "      <th>1</th>\n",
       "      <td>Alandur</td>\n",
       "      <td>0.00</td>\n",
       "      <td>0.0</td>\n",
       "      <td>0.00</td>\n",
       "      <td>0.020000</td>\n",
       "      <td>0.060000</td>\n",
       "      <td>0.000000</td>\n",
       "      <td>0.000000</td>\n",
       "      <td>0.040000</td>\n",
       "      <td>0.000000</td>\n",
       "      <td>...</td>\n",
       "      <td>0.100000</td>\n",
       "      <td>0.02</td>\n",
       "      <td>0.0</td>\n",
       "      <td>0.020000</td>\n",
       "      <td>0.02</td>\n",
       "      <td>0.000000</td>\n",
       "      <td>0.040000</td>\n",
       "      <td>0.120000</td>\n",
       "      <td>0.000000</td>\n",
       "      <td>0.000000</td>\n",
       "    </tr>\n",
       "    <tr>\n",
       "      <th>2</th>\n",
       "      <td>Ambattur</td>\n",
       "      <td>0.00</td>\n",
       "      <td>0.0</td>\n",
       "      <td>0.00</td>\n",
       "      <td>0.040816</td>\n",
       "      <td>0.122449</td>\n",
       "      <td>0.000000</td>\n",
       "      <td>0.000000</td>\n",
       "      <td>0.020408</td>\n",
       "      <td>0.000000</td>\n",
       "      <td>...</td>\n",
       "      <td>0.000000</td>\n",
       "      <td>0.00</td>\n",
       "      <td>0.0</td>\n",
       "      <td>0.000000</td>\n",
       "      <td>0.00</td>\n",
       "      <td>0.000000</td>\n",
       "      <td>0.040816</td>\n",
       "      <td>0.000000</td>\n",
       "      <td>0.000000</td>\n",
       "      <td>0.040816</td>\n",
       "    </tr>\n",
       "    <tr>\n",
       "      <th>3</th>\n",
       "      <td>Kodambakkam</td>\n",
       "      <td>0.00</td>\n",
       "      <td>0.0</td>\n",
       "      <td>0.00</td>\n",
       "      <td>0.000000</td>\n",
       "      <td>0.086957</td>\n",
       "      <td>0.021739</td>\n",
       "      <td>0.021739</td>\n",
       "      <td>0.021739</td>\n",
       "      <td>0.000000</td>\n",
       "      <td>...</td>\n",
       "      <td>0.000000</td>\n",
       "      <td>0.00</td>\n",
       "      <td>0.0</td>\n",
       "      <td>0.021739</td>\n",
       "      <td>0.00</td>\n",
       "      <td>0.021739</td>\n",
       "      <td>0.086957</td>\n",
       "      <td>0.043478</td>\n",
       "      <td>0.021739</td>\n",
       "      <td>0.000000</td>\n",
       "    </tr>\n",
       "    <tr>\n",
       "      <th>4</th>\n",
       "      <td>Perungudi</td>\n",
       "      <td>0.02</td>\n",
       "      <td>0.0</td>\n",
       "      <td>0.02</td>\n",
       "      <td>0.000000</td>\n",
       "      <td>0.080000</td>\n",
       "      <td>0.000000</td>\n",
       "      <td>0.000000</td>\n",
       "      <td>0.040000</td>\n",
       "      <td>0.000000</td>\n",
       "      <td>...</td>\n",
       "      <td>0.020000</td>\n",
       "      <td>0.00</td>\n",
       "      <td>0.0</td>\n",
       "      <td>0.000000</td>\n",
       "      <td>0.00</td>\n",
       "      <td>0.000000</td>\n",
       "      <td>0.060000</td>\n",
       "      <td>0.000000</td>\n",
       "      <td>0.000000</td>\n",
       "      <td>0.000000</td>\n",
       "    </tr>\n",
       "  </tbody>\n",
       "</table>\n",
       "<p>5 rows × 49 columns</p>\n",
       "</div>"
      ],
      "text/plain": [
       "  Zone(Location)  Adult Education Center  Advertising Agency  Amphitheater  \\\n",
       "0          Adyar                    0.00                 0.0          0.00   \n",
       "1        Alandur                    0.00                 0.0          0.00   \n",
       "2       Ambattur                    0.00                 0.0          0.00   \n",
       "3    Kodambakkam                    0.00                 0.0          0.00   \n",
       "4      Perungudi                    0.02                 0.0          0.02   \n",
       "\n",
       "   Auditorium  Building  Business Center  Campaign Office    Church  \\\n",
       "0    0.021739  0.065217         0.000000         0.000000  0.021739   \n",
       "1    0.020000  0.060000         0.000000         0.000000  0.040000   \n",
       "2    0.040816  0.122449         0.000000         0.000000  0.020408   \n",
       "3    0.000000  0.086957         0.021739         0.021739  0.021739   \n",
       "4    0.000000  0.080000         0.000000         0.000000  0.040000   \n",
       "\n",
       "   City Hall  ...  Post Office  Private School  Religious School    School  \\\n",
       "0   0.021739  ...     0.043478            0.00               0.0  0.021739   \n",
       "1   0.000000  ...     0.100000            0.02               0.0  0.020000   \n",
       "2   0.000000  ...     0.000000            0.00               0.0  0.000000   \n",
       "3   0.000000  ...     0.000000            0.00               0.0  0.021739   \n",
       "4   0.000000  ...     0.020000            0.00               0.0  0.000000   \n",
       "\n",
       "   Social Club  Spiritual Center  Tech Startup    Temple  Waste Facility  \\\n",
       "0         0.00          0.021739      0.108696  0.065217        0.000000   \n",
       "1         0.02          0.000000      0.040000  0.120000        0.000000   \n",
       "2         0.00          0.000000      0.040816  0.000000        0.000000   \n",
       "3         0.00          0.021739      0.086957  0.043478        0.021739   \n",
       "4         0.00          0.000000      0.060000  0.000000        0.000000   \n",
       "\n",
       "   Wedding Hall  \n",
       "0      0.000000  \n",
       "1      0.000000  \n",
       "2      0.040816  \n",
       "3      0.000000  \n",
       "4      0.000000  \n",
       "\n",
       "[5 rows x 49 columns]"
      ]
     },
     "execution_count": 46,
     "metadata": {},
     "output_type": "execute_result"
    }
   ],
   "source": [
    "chennai_5zones_prof_venues_grouped = chennai_5zones_prof_venues_onehot.groupby('Zone(Location)').mean().reset_index()\n",
    "\n",
    "chennai_5zones_prof_venues_grouped.head()"
   ]
  },
  {
   "cell_type": "code",
   "execution_count": 47,
   "metadata": {},
   "outputs": [
    {
     "data": {
      "text/plain": [
       "(6, 49)"
      ]
     },
     "execution_count": 47,
     "metadata": {},
     "output_type": "execute_result"
    }
   ],
   "source": [
    "chennai_5zones_prof_venues_grouped.shape"
   ]
  },
  {
   "cell_type": "markdown",
   "metadata": {},
   "source": [
    "##### Let's now find the top 5 frequent venues in all the selected zone. #####"
   ]
  },
  {
   "cell_type": "code",
   "execution_count": 48,
   "metadata": {},
   "outputs": [
    {
     "name": "stdout",
     "output_type": "stream",
     "text": [
      "=========Adyar=========\n",
      "          Venue  Freq\n",
      "0        Office  0.20\n",
      "1  Tech Startup  0.11\n",
      "2      Hospital  0.09\n",
      "3   High School  0.09\n",
      "4        Temple  0.07\n",
      "\n",
      "\n",
      "=========Alandur=========\n",
      "          Venue  Freq\n",
      "0        Temple  0.12\n",
      "1   Post Office  0.10\n",
      "2      Hospital  0.08\n",
      "3        Office  0.08\n",
      "4  Hindu Temple  0.06\n",
      "\n",
      "\n",
      "=========Ambattur=========\n",
      "          Venue  Freq\n",
      "0      Hospital  0.20\n",
      "1        Office  0.12\n",
      "2      Building  0.12\n",
      "3   Event Space  0.08\n",
      "4  Hindu Temple  0.08\n",
      "\n",
      "\n",
      "=========Kodambakkam=========\n",
      "          Venue  Freq\n",
      "0        Office  0.22\n",
      "1   Event Space  0.09\n",
      "2      Building  0.09\n",
      "3  Tech Startup  0.09\n",
      "4        Temple  0.04\n",
      "\n",
      "\n",
      "=========Perungudi=========\n",
      "             Venue  Freq\n",
      "0           Office  0.36\n",
      "1  Conference Room  0.16\n",
      "2     Meeting Room  0.12\n",
      "3         Building  0.08\n",
      "4  Coworking Space  0.06\n",
      "\n",
      "\n",
      "=========Teynampet=========\n",
      "         Venue  Freq\n",
      "0       Office  0.23\n",
      "1     Building  0.17\n",
      "2     Hospital  0.10\n",
      "3  Event Space  0.08\n",
      "4       Church  0.06\n",
      "\n",
      "\n"
     ]
    }
   ],
   "source": [
    "num_top_venues = 5\n",
    "\n",
    "for places in chennai_5zones_prof_venues_grouped['Zone(Location)']:\n",
    "    print(\"=========\"+places+\"=========\")\n",
    "    temp = chennai_5zones_prof_venues_grouped[chennai_5zones_prof_venues_grouped['Zone(Location)'] == places].T.reset_index()\n",
    "    temp.columns = ['Venue','Freq']\n",
    "    temp = temp.iloc[1:]\n",
    "    temp['Freq'] = temp['Freq'].astype(float)\n",
    "    temp = temp.round({'Freq': 2})\n",
    "    print(temp.sort_values('Freq', ascending=False).reset_index(drop=True).head(num_top_venues))\n",
    "    print('\\n')"
   ]
  },
  {
   "cell_type": "markdown",
   "metadata": {},
   "source": [
    "#### Doing the same for other nearby venues. #####"
   ]
  },
  {
   "cell_type": "code",
   "execution_count": 49,
   "metadata": {},
   "outputs": [
    {
     "data": {
      "text/html": [
       "<div>\n",
       "<style scoped>\n",
       "    .dataframe tbody tr th:only-of-type {\n",
       "        vertical-align: middle;\n",
       "    }\n",
       "\n",
       "    .dataframe tbody tr th {\n",
       "        vertical-align: top;\n",
       "    }\n",
       "\n",
       "    .dataframe thead th {\n",
       "        text-align: right;\n",
       "    }\n",
       "</style>\n",
       "<table border=\"1\" class=\"dataframe\">\n",
       "  <thead>\n",
       "    <tr style=\"text-align: right;\">\n",
       "      <th></th>\n",
       "      <th>Zone(Location)</th>\n",
       "      <th>African Restaurant</th>\n",
       "      <th>Amphitheater</th>\n",
       "      <th>Arcade</th>\n",
       "      <th>Arts &amp; Crafts Store</th>\n",
       "      <th>Asian Restaurant</th>\n",
       "      <th>Athletics &amp; Sports</th>\n",
       "      <th>BBQ Joint</th>\n",
       "      <th>Bakery</th>\n",
       "      <th>Bar</th>\n",
       "      <th>...</th>\n",
       "      <th>Sandwich Place</th>\n",
       "      <th>Snack Place</th>\n",
       "      <th>South Indian Restaurant</th>\n",
       "      <th>Supermarket</th>\n",
       "      <th>Tea Room</th>\n",
       "      <th>Thai Restaurant</th>\n",
       "      <th>Train Station</th>\n",
       "      <th>Vegetarian / Vegan Restaurant</th>\n",
       "      <th>Vietnamese Restaurant</th>\n",
       "      <th>Women's Store</th>\n",
       "    </tr>\n",
       "  </thead>\n",
       "  <tbody>\n",
       "    <tr>\n",
       "      <th>0</th>\n",
       "      <td>Adyar</td>\n",
       "      <td>0</td>\n",
       "      <td>0</td>\n",
       "      <td>0</td>\n",
       "      <td>0</td>\n",
       "      <td>0</td>\n",
       "      <td>0</td>\n",
       "      <td>0</td>\n",
       "      <td>0</td>\n",
       "      <td>0</td>\n",
       "      <td>...</td>\n",
       "      <td>0</td>\n",
       "      <td>0</td>\n",
       "      <td>0</td>\n",
       "      <td>0</td>\n",
       "      <td>0</td>\n",
       "      <td>0</td>\n",
       "      <td>0</td>\n",
       "      <td>0</td>\n",
       "      <td>0</td>\n",
       "      <td>0</td>\n",
       "    </tr>\n",
       "    <tr>\n",
       "      <th>1</th>\n",
       "      <td>Adyar</td>\n",
       "      <td>0</td>\n",
       "      <td>0</td>\n",
       "      <td>0</td>\n",
       "      <td>0</td>\n",
       "      <td>0</td>\n",
       "      <td>0</td>\n",
       "      <td>0</td>\n",
       "      <td>0</td>\n",
       "      <td>0</td>\n",
       "      <td>...</td>\n",
       "      <td>0</td>\n",
       "      <td>0</td>\n",
       "      <td>0</td>\n",
       "      <td>0</td>\n",
       "      <td>0</td>\n",
       "      <td>0</td>\n",
       "      <td>0</td>\n",
       "      <td>0</td>\n",
       "      <td>0</td>\n",
       "      <td>0</td>\n",
       "    </tr>\n",
       "    <tr>\n",
       "      <th>2</th>\n",
       "      <td>Adyar</td>\n",
       "      <td>0</td>\n",
       "      <td>0</td>\n",
       "      <td>0</td>\n",
       "      <td>0</td>\n",
       "      <td>0</td>\n",
       "      <td>0</td>\n",
       "      <td>0</td>\n",
       "      <td>0</td>\n",
       "      <td>0</td>\n",
       "      <td>...</td>\n",
       "      <td>0</td>\n",
       "      <td>0</td>\n",
       "      <td>0</td>\n",
       "      <td>0</td>\n",
       "      <td>0</td>\n",
       "      <td>0</td>\n",
       "      <td>0</td>\n",
       "      <td>0</td>\n",
       "      <td>0</td>\n",
       "      <td>0</td>\n",
       "    </tr>\n",
       "    <tr>\n",
       "      <th>3</th>\n",
       "      <td>Adyar</td>\n",
       "      <td>0</td>\n",
       "      <td>0</td>\n",
       "      <td>0</td>\n",
       "      <td>0</td>\n",
       "      <td>0</td>\n",
       "      <td>0</td>\n",
       "      <td>0</td>\n",
       "      <td>0</td>\n",
       "      <td>0</td>\n",
       "      <td>...</td>\n",
       "      <td>0</td>\n",
       "      <td>0</td>\n",
       "      <td>0</td>\n",
       "      <td>0</td>\n",
       "      <td>0</td>\n",
       "      <td>0</td>\n",
       "      <td>0</td>\n",
       "      <td>1</td>\n",
       "      <td>0</td>\n",
       "      <td>0</td>\n",
       "    </tr>\n",
       "    <tr>\n",
       "      <th>4</th>\n",
       "      <td>Adyar</td>\n",
       "      <td>0</td>\n",
       "      <td>0</td>\n",
       "      <td>0</td>\n",
       "      <td>0</td>\n",
       "      <td>0</td>\n",
       "      <td>0</td>\n",
       "      <td>0</td>\n",
       "      <td>0</td>\n",
       "      <td>0</td>\n",
       "      <td>...</td>\n",
       "      <td>0</td>\n",
       "      <td>0</td>\n",
       "      <td>0</td>\n",
       "      <td>0</td>\n",
       "      <td>0</td>\n",
       "      <td>0</td>\n",
       "      <td>0</td>\n",
       "      <td>0</td>\n",
       "      <td>0</td>\n",
       "      <td>0</td>\n",
       "    </tr>\n",
       "  </tbody>\n",
       "</table>\n",
       "<p>5 rows × 73 columns</p>\n",
       "</div>"
      ],
      "text/plain": [
       "  Zone(Location)  African Restaurant  Amphitheater  Arcade  \\\n",
       "0          Adyar                   0             0       0   \n",
       "1          Adyar                   0             0       0   \n",
       "2          Adyar                   0             0       0   \n",
       "3          Adyar                   0             0       0   \n",
       "4          Adyar                   0             0       0   \n",
       "\n",
       "   Arts & Crafts Store  Asian Restaurant  Athletics & Sports  BBQ Joint  \\\n",
       "0                    0                 0                   0          0   \n",
       "1                    0                 0                   0          0   \n",
       "2                    0                 0                   0          0   \n",
       "3                    0                 0                   0          0   \n",
       "4                    0                 0                   0          0   \n",
       "\n",
       "   Bakery  Bar  ...  Sandwich Place  Snack Place  South Indian Restaurant  \\\n",
       "0       0    0  ...               0            0                        0   \n",
       "1       0    0  ...               0            0                        0   \n",
       "2       0    0  ...               0            0                        0   \n",
       "3       0    0  ...               0            0                        0   \n",
       "4       0    0  ...               0            0                        0   \n",
       "\n",
       "   Supermarket  Tea Room  Thai Restaurant  Train Station  \\\n",
       "0            0         0                0              0   \n",
       "1            0         0                0              0   \n",
       "2            0         0                0              0   \n",
       "3            0         0                0              0   \n",
       "4            0         0                0              0   \n",
       "\n",
       "   Vegetarian / Vegan Restaurant  Vietnamese Restaurant  Women's Store  \n",
       "0                              0                      0              0  \n",
       "1                              0                      0              0  \n",
       "2                              0                      0              0  \n",
       "3                              1                      0              0  \n",
       "4                              0                      0              0  \n",
       "\n",
       "[5 rows x 73 columns]"
      ]
     },
     "execution_count": 49,
     "metadata": {},
     "output_type": "execute_result"
    }
   ],
   "source": [
    "chennai_5zones_other_venues_onehot = pd.get_dummies(chennai_5zones_venues[['Venue_Category']], prefix=\"\", prefix_sep=\"\")\n",
    "\n",
    "#add district column back to dataframe\n",
    "chennai_5zones_other_venues_onehot['Zone(Location)'] = chennai_5zones_venues['Zone(Location)'] \n",
    "#move district column to the first column\n",
    "fixed_columns = [chennai_5zones_other_venues_onehot.columns[-1]] + list(chennai_5zones_other_venues_onehot.columns[:-1])\n",
    "chennai_5zones_other_venues_onehot = chennai_5zones_other_venues_onehot[fixed_columns]\n",
    "\n",
    "chennai_5zones_other_venues_onehot.head()"
   ]
  },
  {
   "cell_type": "code",
   "execution_count": 50,
   "metadata": {},
   "outputs": [
    {
     "data": {
      "text/plain": [
       "(209, 73)"
      ]
     },
     "execution_count": 50,
     "metadata": {},
     "output_type": "execute_result"
    }
   ],
   "source": [
    "chennai_5zones_other_venues_onehot.shape"
   ]
  },
  {
   "cell_type": "code",
   "execution_count": 51,
   "metadata": {},
   "outputs": [
    {
     "data": {
      "text/html": [
       "<div>\n",
       "<style scoped>\n",
       "    .dataframe tbody tr th:only-of-type {\n",
       "        vertical-align: middle;\n",
       "    }\n",
       "\n",
       "    .dataframe tbody tr th {\n",
       "        vertical-align: top;\n",
       "    }\n",
       "\n",
       "    .dataframe thead th {\n",
       "        text-align: right;\n",
       "    }\n",
       "</style>\n",
       "<table border=\"1\" class=\"dataframe\">\n",
       "  <thead>\n",
       "    <tr style=\"text-align: right;\">\n",
       "      <th></th>\n",
       "      <th>Zone(Location)</th>\n",
       "      <th>African Restaurant</th>\n",
       "      <th>Amphitheater</th>\n",
       "      <th>Arcade</th>\n",
       "      <th>Arts &amp; Crafts Store</th>\n",
       "      <th>Asian Restaurant</th>\n",
       "      <th>Athletics &amp; Sports</th>\n",
       "      <th>BBQ Joint</th>\n",
       "      <th>Bakery</th>\n",
       "      <th>Bar</th>\n",
       "      <th>...</th>\n",
       "      <th>Sandwich Place</th>\n",
       "      <th>Snack Place</th>\n",
       "      <th>South Indian Restaurant</th>\n",
       "      <th>Supermarket</th>\n",
       "      <th>Tea Room</th>\n",
       "      <th>Thai Restaurant</th>\n",
       "      <th>Train Station</th>\n",
       "      <th>Vegetarian / Vegan Restaurant</th>\n",
       "      <th>Vietnamese Restaurant</th>\n",
       "      <th>Women's Store</th>\n",
       "    </tr>\n",
       "  </thead>\n",
       "  <tbody>\n",
       "    <tr>\n",
       "      <th>0</th>\n",
       "      <td>Adyar</td>\n",
       "      <td>0.000000</td>\n",
       "      <td>0.000000</td>\n",
       "      <td>0.016129</td>\n",
       "      <td>0.000000</td>\n",
       "      <td>0.016129</td>\n",
       "      <td>0.000000</td>\n",
       "      <td>0.000000</td>\n",
       "      <td>0.000000</td>\n",
       "      <td>0.000000</td>\n",
       "      <td>...</td>\n",
       "      <td>0.016129</td>\n",
       "      <td>0.016129</td>\n",
       "      <td>0.000000</td>\n",
       "      <td>0.000000</td>\n",
       "      <td>0.000000</td>\n",
       "      <td>0.016129</td>\n",
       "      <td>0.000000</td>\n",
       "      <td>0.016129</td>\n",
       "      <td>0.000000</td>\n",
       "      <td>0.016129</td>\n",
       "    </tr>\n",
       "    <tr>\n",
       "      <th>1</th>\n",
       "      <td>Alandur</td>\n",
       "      <td>0.000000</td>\n",
       "      <td>0.000000</td>\n",
       "      <td>0.000000</td>\n",
       "      <td>0.000000</td>\n",
       "      <td>0.000000</td>\n",
       "      <td>0.000000</td>\n",
       "      <td>0.000000</td>\n",
       "      <td>0.038462</td>\n",
       "      <td>0.000000</td>\n",
       "      <td>...</td>\n",
       "      <td>0.000000</td>\n",
       "      <td>0.000000</td>\n",
       "      <td>0.038462</td>\n",
       "      <td>0.038462</td>\n",
       "      <td>0.000000</td>\n",
       "      <td>0.000000</td>\n",
       "      <td>0.076923</td>\n",
       "      <td>0.000000</td>\n",
       "      <td>0.000000</td>\n",
       "      <td>0.000000</td>\n",
       "    </tr>\n",
       "    <tr>\n",
       "      <th>2</th>\n",
       "      <td>Ambattur</td>\n",
       "      <td>0.000000</td>\n",
       "      <td>0.000000</td>\n",
       "      <td>0.000000</td>\n",
       "      <td>0.000000</td>\n",
       "      <td>0.076923</td>\n",
       "      <td>0.000000</td>\n",
       "      <td>0.000000</td>\n",
       "      <td>0.000000</td>\n",
       "      <td>0.000000</td>\n",
       "      <td>...</td>\n",
       "      <td>0.000000</td>\n",
       "      <td>0.000000</td>\n",
       "      <td>0.000000</td>\n",
       "      <td>0.000000</td>\n",
       "      <td>0.000000</td>\n",
       "      <td>0.000000</td>\n",
       "      <td>0.076923</td>\n",
       "      <td>0.000000</td>\n",
       "      <td>0.000000</td>\n",
       "      <td>0.000000</td>\n",
       "    </tr>\n",
       "    <tr>\n",
       "      <th>3</th>\n",
       "      <td>Perungudi</td>\n",
       "      <td>0.000000</td>\n",
       "      <td>0.000000</td>\n",
       "      <td>0.000000</td>\n",
       "      <td>0.000000</td>\n",
       "      <td>0.000000</td>\n",
       "      <td>0.047619</td>\n",
       "      <td>0.000000</td>\n",
       "      <td>0.000000</td>\n",
       "      <td>0.000000</td>\n",
       "      <td>...</td>\n",
       "      <td>0.095238</td>\n",
       "      <td>0.000000</td>\n",
       "      <td>0.047619</td>\n",
       "      <td>0.000000</td>\n",
       "      <td>0.000000</td>\n",
       "      <td>0.000000</td>\n",
       "      <td>0.000000</td>\n",
       "      <td>0.000000</td>\n",
       "      <td>0.000000</td>\n",
       "      <td>0.000000</td>\n",
       "    </tr>\n",
       "    <tr>\n",
       "      <th>4</th>\n",
       "      <td>Teynampet</td>\n",
       "      <td>0.011494</td>\n",
       "      <td>0.011494</td>\n",
       "      <td>0.000000</td>\n",
       "      <td>0.011494</td>\n",
       "      <td>0.000000</td>\n",
       "      <td>0.000000</td>\n",
       "      <td>0.011494</td>\n",
       "      <td>0.011494</td>\n",
       "      <td>0.022989</td>\n",
       "      <td>...</td>\n",
       "      <td>0.011494</td>\n",
       "      <td>0.000000</td>\n",
       "      <td>0.011494</td>\n",
       "      <td>0.000000</td>\n",
       "      <td>0.022989</td>\n",
       "      <td>0.011494</td>\n",
       "      <td>0.000000</td>\n",
       "      <td>0.000000</td>\n",
       "      <td>0.011494</td>\n",
       "      <td>0.011494</td>\n",
       "    </tr>\n",
       "  </tbody>\n",
       "</table>\n",
       "<p>5 rows × 73 columns</p>\n",
       "</div>"
      ],
      "text/plain": [
       "  Zone(Location)  African Restaurant  Amphitheater    Arcade  \\\n",
       "0          Adyar            0.000000      0.000000  0.016129   \n",
       "1        Alandur            0.000000      0.000000  0.000000   \n",
       "2       Ambattur            0.000000      0.000000  0.000000   \n",
       "3      Perungudi            0.000000      0.000000  0.000000   \n",
       "4      Teynampet            0.011494      0.011494  0.000000   \n",
       "\n",
       "   Arts & Crafts Store  Asian Restaurant  Athletics & Sports  BBQ Joint  \\\n",
       "0             0.000000          0.016129            0.000000   0.000000   \n",
       "1             0.000000          0.000000            0.000000   0.000000   \n",
       "2             0.000000          0.076923            0.000000   0.000000   \n",
       "3             0.000000          0.000000            0.047619   0.000000   \n",
       "4             0.011494          0.000000            0.000000   0.011494   \n",
       "\n",
       "     Bakery       Bar  ...  Sandwich Place  Snack Place  \\\n",
       "0  0.000000  0.000000  ...        0.016129     0.016129   \n",
       "1  0.038462  0.000000  ...        0.000000     0.000000   \n",
       "2  0.000000  0.000000  ...        0.000000     0.000000   \n",
       "3  0.000000  0.000000  ...        0.095238     0.000000   \n",
       "4  0.011494  0.022989  ...        0.011494     0.000000   \n",
       "\n",
       "   South Indian Restaurant  Supermarket  Tea Room  Thai Restaurant  \\\n",
       "0                 0.000000     0.000000  0.000000         0.016129   \n",
       "1                 0.038462     0.038462  0.000000         0.000000   \n",
       "2                 0.000000     0.000000  0.000000         0.000000   \n",
       "3                 0.047619     0.000000  0.000000         0.000000   \n",
       "4                 0.011494     0.000000  0.022989         0.011494   \n",
       "\n",
       "   Train Station  Vegetarian / Vegan Restaurant  Vietnamese Restaurant  \\\n",
       "0       0.000000                       0.016129               0.000000   \n",
       "1       0.076923                       0.000000               0.000000   \n",
       "2       0.076923                       0.000000               0.000000   \n",
       "3       0.000000                       0.000000               0.000000   \n",
       "4       0.000000                       0.000000               0.011494   \n",
       "\n",
       "   Women's Store  \n",
       "0       0.016129  \n",
       "1       0.000000  \n",
       "2       0.000000  \n",
       "3       0.000000  \n",
       "4       0.011494  \n",
       "\n",
       "[5 rows x 73 columns]"
      ]
     },
     "execution_count": 51,
     "metadata": {},
     "output_type": "execute_result"
    }
   ],
   "source": [
    "chennai_5zones_other_venues_grouped = chennai_5zones_other_venues_onehot.groupby('Zone(Location)').mean().reset_index()\n",
    "\n",
    "chennai_5zones_other_venues_grouped.head()"
   ]
  },
  {
   "cell_type": "code",
   "execution_count": 52,
   "metadata": {},
   "outputs": [
    {
     "data": {
      "text/plain": [
       "(5, 73)"
      ]
     },
     "execution_count": 52,
     "metadata": {},
     "output_type": "execute_result"
    }
   ],
   "source": [
    "chennai_5zones_other_venues_grouped.shape"
   ]
  },
  {
   "cell_type": "code",
   "execution_count": 53,
   "metadata": {},
   "outputs": [
    {
     "name": "stdout",
     "output_type": "stream",
     "text": [
      "=========Adyar=========\n",
      "                     Venue  Freq\n",
      "0        Indian Restaurant  0.27\n",
      "1              Pizza Place  0.06\n",
      "2                     Café  0.06\n",
      "3             Dessert Shop  0.05\n",
      "4  North Indian Restaurant  0.03\n",
      "\n",
      "\n",
      "=========Alandur=========\n",
      "               Venue  Freq\n",
      "0  Indian Restaurant  0.23\n",
      "1              Hotel  0.12\n",
      "2      Train Station  0.08\n",
      "3        Pizza Place  0.08\n",
      "4     Breakfast Spot  0.08\n",
      "\n",
      "\n",
      "=========Ambattur=========\n",
      "               Venue  Freq\n",
      "0     Ice Cream Shop  0.15\n",
      "1  Indian Restaurant  0.15\n",
      "2        Flea Market  0.15\n",
      "3      Movie Theater  0.15\n",
      "4          Multiplex  0.08\n",
      "\n",
      "\n",
      "=========Perungudi=========\n",
      "                Venue  Freq\n",
      "0   Indian Restaurant  0.24\n",
      "1      Sandwich Place  0.10\n",
      "2            Boutique  0.10\n",
      "3         Pizza Place  0.10\n",
      "4  Chinese Restaurant  0.05\n",
      "\n",
      "\n",
      "=========Teynampet=========\n",
      "                Venue  Freq\n",
      "0   Indian Restaurant  0.15\n",
      "1               Hotel  0.13\n",
      "2              Lounge  0.07\n",
      "3                Café  0.06\n",
      "4  Italian Restaurant  0.05\n",
      "\n",
      "\n"
     ]
    }
   ],
   "source": [
    "num_top_venues = 5\n",
    "\n",
    "for places in chennai_5zones_other_venues_grouped['Zone(Location)']:\n",
    "    print(\"=========\"+places+\"=========\")\n",
    "    temp = chennai_5zones_other_venues_grouped[chennai_5zones_other_venues_grouped['Zone(Location)'] == places].T.reset_index()\n",
    "    temp.columns = ['Venue','Freq']\n",
    "    temp = temp.iloc[1:]\n",
    "    temp['Freq'] = temp['Freq'].astype(float)\n",
    "    temp = temp.round({'Freq': 2})\n",
    "    print(temp.sort_values('Freq', ascending=False).reset_index(drop=True).head(num_top_venues))\n",
    "    print('\\n')"
   ]
  },
  {
   "cell_type": "markdown",
   "metadata": {},
   "source": [
    "##### Lets make the above analysis into a Dataframe. #####"
   ]
  },
  {
   "cell_type": "code",
   "execution_count": 54,
   "metadata": {},
   "outputs": [],
   "source": [
    "def return_most_common_venues(row, num_top_venues):\n",
    "    row_categories = row.iloc[1:]\n",
    "    row_categories_sorted = row_categories.sort_values(ascending=False)\n",
    "    \n",
    "    return row_categories_sorted.index.values[0:num_top_venues]"
   ]
  },
  {
   "cell_type": "markdown",
   "metadata": {},
   "source": [
    "##### Lets take the top 10 most common venues in the selected zones for making this Dataframe. #####"
   ]
  },
  {
   "cell_type": "code",
   "execution_count": 55,
   "metadata": {},
   "outputs": [
    {
     "data": {
      "text/html": [
       "<div>\n",
       "<style scoped>\n",
       "    .dataframe tbody tr th:only-of-type {\n",
       "        vertical-align: middle;\n",
       "    }\n",
       "\n",
       "    .dataframe tbody tr th {\n",
       "        vertical-align: top;\n",
       "    }\n",
       "\n",
       "    .dataframe thead th {\n",
       "        text-align: right;\n",
       "    }\n",
       "</style>\n",
       "<table border=\"1\" class=\"dataframe\">\n",
       "  <thead>\n",
       "    <tr style=\"text-align: right;\">\n",
       "      <th></th>\n",
       "      <th>Location</th>\n",
       "      <th>1st Most Common Venue</th>\n",
       "      <th>2nd Most Common Venue</th>\n",
       "      <th>3rd Most Common Venue</th>\n",
       "      <th>4th Most Common Venue</th>\n",
       "      <th>5th Most Common Venue</th>\n",
       "      <th>6th Most Common Venue</th>\n",
       "      <th>7th Most Common Venue</th>\n",
       "      <th>8th Most Common Venue</th>\n",
       "      <th>9th Most Common Venue</th>\n",
       "      <th>10th Most Common Venue</th>\n",
       "    </tr>\n",
       "  </thead>\n",
       "  <tbody>\n",
       "    <tr>\n",
       "      <th>0</th>\n",
       "      <td>Adyar</td>\n",
       "      <td>Indian Restaurant</td>\n",
       "      <td>Pizza Place</td>\n",
       "      <td>Café</td>\n",
       "      <td>Dessert Shop</td>\n",
       "      <td>Rock Club</td>\n",
       "      <td>Ice Cream Shop</td>\n",
       "      <td>North Indian Restaurant</td>\n",
       "      <td>Bookstore</td>\n",
       "      <td>Juice Bar</td>\n",
       "      <td>Electronics Store</td>\n",
       "    </tr>\n",
       "    <tr>\n",
       "      <th>1</th>\n",
       "      <td>Alandur</td>\n",
       "      <td>Indian Restaurant</td>\n",
       "      <td>Hotel</td>\n",
       "      <td>Pizza Place</td>\n",
       "      <td>Train Station</td>\n",
       "      <td>Café</td>\n",
       "      <td>Breakfast Spot</td>\n",
       "      <td>Burrito Place</td>\n",
       "      <td>Chinese Restaurant</td>\n",
       "      <td>Fast Food Restaurant</td>\n",
       "      <td>Supermarket</td>\n",
       "    </tr>\n",
       "    <tr>\n",
       "      <th>2</th>\n",
       "      <td>Ambattur</td>\n",
       "      <td>Movie Theater</td>\n",
       "      <td>Flea Market</td>\n",
       "      <td>Ice Cream Shop</td>\n",
       "      <td>Indian Restaurant</td>\n",
       "      <td>Department Store</td>\n",
       "      <td>Train Station</td>\n",
       "      <td>Asian Restaurant</td>\n",
       "      <td>Pizza Place</td>\n",
       "      <td>Multiplex</td>\n",
       "      <td>Clothing Store</td>\n",
       "    </tr>\n",
       "    <tr>\n",
       "      <th>3</th>\n",
       "      <td>Perungudi</td>\n",
       "      <td>Indian Restaurant</td>\n",
       "      <td>Sandwich Place</td>\n",
       "      <td>Boutique</td>\n",
       "      <td>Pizza Place</td>\n",
       "      <td>Middle Eastern Restaurant</td>\n",
       "      <td>Platform</td>\n",
       "      <td>Chinese Restaurant</td>\n",
       "      <td>Food Court</td>\n",
       "      <td>Café</td>\n",
       "      <td>Fast Food Restaurant</td>\n",
       "    </tr>\n",
       "    <tr>\n",
       "      <th>4</th>\n",
       "      <td>Teynampet</td>\n",
       "      <td>Indian Restaurant</td>\n",
       "      <td>Hotel</td>\n",
       "      <td>Lounge</td>\n",
       "      <td>Café</td>\n",
       "      <td>Italian Restaurant</td>\n",
       "      <td>Restaurant</td>\n",
       "      <td>Ice Cream Shop</td>\n",
       "      <td>Nightclub</td>\n",
       "      <td>Fast Food Restaurant</td>\n",
       "      <td>Pizza Place</td>\n",
       "    </tr>\n",
       "  </tbody>\n",
       "</table>\n",
       "</div>"
      ],
      "text/plain": [
       "    Location 1st Most Common Venue 2nd Most Common Venue  \\\n",
       "0      Adyar     Indian Restaurant           Pizza Place   \n",
       "1    Alandur     Indian Restaurant                 Hotel   \n",
       "2   Ambattur         Movie Theater           Flea Market   \n",
       "3  Perungudi     Indian Restaurant        Sandwich Place   \n",
       "4  Teynampet     Indian Restaurant                 Hotel   \n",
       "\n",
       "  3rd Most Common Venue 4th Most Common Venue      5th Most Common Venue  \\\n",
       "0                  Café          Dessert Shop                  Rock Club   \n",
       "1           Pizza Place         Train Station                       Café   \n",
       "2        Ice Cream Shop     Indian Restaurant           Department Store   \n",
       "3              Boutique           Pizza Place  Middle Eastern Restaurant   \n",
       "4                Lounge                  Café         Italian Restaurant   \n",
       "\n",
       "  6th Most Common Venue    7th Most Common Venue 8th Most Common Venue  \\\n",
       "0        Ice Cream Shop  North Indian Restaurant             Bookstore   \n",
       "1        Breakfast Spot            Burrito Place    Chinese Restaurant   \n",
       "2         Train Station         Asian Restaurant           Pizza Place   \n",
       "3              Platform       Chinese Restaurant            Food Court   \n",
       "4            Restaurant           Ice Cream Shop             Nightclub   \n",
       "\n",
       "  9th Most Common Venue 10th Most Common Venue  \n",
       "0             Juice Bar      Electronics Store  \n",
       "1  Fast Food Restaurant            Supermarket  \n",
       "2             Multiplex         Clothing Store  \n",
       "3                  Café   Fast Food Restaurant  \n",
       "4  Fast Food Restaurant            Pizza Place  "
      ]
     },
     "execution_count": 55,
     "metadata": {},
     "output_type": "execute_result"
    }
   ],
   "source": [
    "num_top_venues = 10\n",
    "\n",
    "indicators = ['st', 'nd', 'rd']\n",
    "\n",
    "# create columns according to number of top venues\n",
    "columns = ['Location']\n",
    "for ind in np.arange(num_top_venues):\n",
    "    try:\n",
    "        columns.append('{}{} Most Common Venue'.format(ind+1, indicators[ind]))\n",
    "    except:\n",
    "        columns.append('{}th Most Common Venue'.format(ind+1))\n",
    "\n",
    "# create a new dataframe\n",
    "chennai_5zones_top10_venues_sorted = pd.DataFrame(columns=columns)\n",
    "chennai_5zones_top10_venues_sorted['Location'] = chennai_5zones_other_venues_grouped['Zone(Location)']\n",
    "\n",
    "for ind in np.arange(chennai_5zones_other_venues_grouped.shape[0]):\n",
    "    chennai_5zones_top10_venues_sorted.iloc[ind, 1:] = return_most_common_venues(chennai_5zones_other_venues_grouped.iloc[ind, :], num_top_venues)\n",
    "\n",
    "\n",
    "chennai_5zones_top10_venues_sorted"
   ]
  },
  {
   "cell_type": "code",
   "execution_count": 56,
   "metadata": {},
   "outputs": [
    {
     "data": {
      "text/plain": [
       "(5, 11)"
      ]
     },
     "execution_count": 56,
     "metadata": {},
     "output_type": "execute_result"
    }
   ],
   "source": [
    "chennai_5zones_top10_venues_sorted.shape"
   ]
  },
  {
   "cell_type": "markdown",
   "metadata": {},
   "source": [
    "##### Let's cluster these zones based on the common venues using K-Means Clustering To decide the number of clusters lets use the Elbow method. #####"
   ]
  },
  {
   "cell_type": "code",
   "execution_count": 57,
   "metadata": {},
   "outputs": [
    {
     "name": "stdout",
     "output_type": "stream",
     "text": [
      "[0.16904193347127228, 0.0843944284267145, 0.04646777897428634, 0.021845373647257853, 0.0]\n"
     ]
    }
   ],
   "source": [
    "from sklearn.cluster import KMeans\n",
    "chennai_clustering = chennai_5zones_other_venues_grouped.drop('Zone(Location)', 1)\n",
    "\n",
    "sum_squared_dist=[]\n",
    "K = range(1,6)\n",
    "for k in K:\n",
    "    km = KMeans(init= 'k-means++',n_clusters=k, n_init=12, random_state=4)\n",
    "    km = km.fit(chennai_clustering)\n",
    "    sum_squared_dist.append(km.inertia_)\n",
    "\n",
    "print(sum_squared_dist)"
   ]
  },
  {
   "cell_type": "code",
   "execution_count": 58,
   "metadata": {},
   "outputs": [
    {
     "data": {
      "image/png": "[encoded data removed]",
      "text/plain": [
       "<Figure size 432x288 with 1 Axes>"
      ]
     },
     "metadata": {
      "needs_background": "light"
     },
     "output_type": "display_data"
    }
   ],
   "source": [
    "a = list(range(1,len(sum_squared_dist)+1))\n",
    "plt.plot(a,sum_squared_dist)\n",
    "plt.xlabel('No. of Clusters')\n",
    "plt.ylabel('Inertia')\n",
    "plt.title('Elbow Method to find the optimal number of clusters')\n",
    "plt.show()"
   ]
  },
  {
   "cell_type": "markdown",
   "metadata": {},
   "source": [
    "##### Here, least inertia value is required for a K-Means Clustering method. Hence 4 clusters can be used as the Elbow point. #####"
   ]
  },
  {
   "cell_type": "code",
   "execution_count": 59,
   "metadata": {},
   "outputs": [
    {
     "data": {
      "text/plain": [
       "array([1, 2, 0, 3, 2], dtype=int32)"
      ]
     },
     "execution_count": 59,
     "metadata": {},
     "output_type": "execute_result"
    }
   ],
   "source": [
    "clusters = 4\n",
    "\n",
    "kmeans_cluster = KMeans(init= 'k-means++',n_clusters=clusters, n_init=12, random_state=4).fit(chennai_clustering)\n",
    "\n",
    "kmeans_cluster.labels_"
   ]
  },
  {
   "cell_type": "markdown",
   "metadata": {},
   "source": [
    "##### Lets form a Dataframe including the avg price of the zones and their cluster label #####"
   ]
  },
  {
   "cell_type": "code",
   "execution_count": 60,
   "metadata": {},
   "outputs": [
    {
     "data": {
      "text/html": [
       "<div>\n",
       "<style scoped>\n",
       "    .dataframe tbody tr th:only-of-type {\n",
       "        vertical-align: middle;\n",
       "    }\n",
       "\n",
       "    .dataframe tbody tr th {\n",
       "        vertical-align: top;\n",
       "    }\n",
       "\n",
       "    .dataframe thead th {\n",
       "        text-align: right;\n",
       "    }\n",
       "</style>\n",
       "<table border=\"1\" class=\"dataframe\">\n",
       "  <thead>\n",
       "    <tr style=\"text-align: right;\">\n",
       "      <th></th>\n",
       "      <th>Location</th>\n",
       "      <th>1st Most Common Venue</th>\n",
       "      <th>2nd Most Common Venue</th>\n",
       "      <th>3rd Most Common Venue</th>\n",
       "      <th>4th Most Common Venue</th>\n",
       "      <th>5th Most Common Venue</th>\n",
       "      <th>6th Most Common Venue</th>\n",
       "      <th>7th Most Common Venue</th>\n",
       "      <th>8th Most Common Venue</th>\n",
       "      <th>9th Most Common Venue</th>\n",
       "      <th>10th Most Common Venue</th>\n",
       "      <th>Latitude</th>\n",
       "      <th>Longitude</th>\n",
       "      <th>Avg Price per sqft</th>\n",
       "      <th>Cluster Label</th>\n",
       "    </tr>\n",
       "  </thead>\n",
       "  <tbody>\n",
       "    <tr>\n",
       "      <th>0</th>\n",
       "      <td>Adyar</td>\n",
       "      <td>Indian Restaurant</td>\n",
       "      <td>Pizza Place</td>\n",
       "      <td>Café</td>\n",
       "      <td>Dessert Shop</td>\n",
       "      <td>Rock Club</td>\n",
       "      <td>Ice Cream Shop</td>\n",
       "      <td>North Indian Restaurant</td>\n",
       "      <td>Bookstore</td>\n",
       "      <td>Juice Bar</td>\n",
       "      <td>Electronics Store</td>\n",
       "      <td>13.006450</td>\n",
       "      <td>80.257779</td>\n",
       "      <td>12325</td>\n",
       "      <td>1</td>\n",
       "    </tr>\n",
       "    <tr>\n",
       "      <th>1</th>\n",
       "      <td>Alandur</td>\n",
       "      <td>Indian Restaurant</td>\n",
       "      <td>Hotel</td>\n",
       "      <td>Pizza Place</td>\n",
       "      <td>Train Station</td>\n",
       "      <td>Café</td>\n",
       "      <td>Breakfast Spot</td>\n",
       "      <td>Burrito Place</td>\n",
       "      <td>Chinese Restaurant</td>\n",
       "      <td>Fast Food Restaurant</td>\n",
       "      <td>Supermarket</td>\n",
       "      <td>12.994373</td>\n",
       "      <td>80.194284</td>\n",
       "      <td>7607</td>\n",
       "      <td>2</td>\n",
       "    </tr>\n",
       "    <tr>\n",
       "      <th>2</th>\n",
       "      <td>Ambattur</td>\n",
       "      <td>Movie Theater</td>\n",
       "      <td>Flea Market</td>\n",
       "      <td>Ice Cream Shop</td>\n",
       "      <td>Indian Restaurant</td>\n",
       "      <td>Department Store</td>\n",
       "      <td>Train Station</td>\n",
       "      <td>Asian Restaurant</td>\n",
       "      <td>Pizza Place</td>\n",
       "      <td>Multiplex</td>\n",
       "      <td>Clothing Store</td>\n",
       "      <td>13.119375</td>\n",
       "      <td>80.150765</td>\n",
       "      <td>4420</td>\n",
       "      <td>0</td>\n",
       "    </tr>\n",
       "    <tr>\n",
       "      <th>3</th>\n",
       "      <td>Perungudi</td>\n",
       "      <td>Indian Restaurant</td>\n",
       "      <td>Sandwich Place</td>\n",
       "      <td>Boutique</td>\n",
       "      <td>Pizza Place</td>\n",
       "      <td>Middle Eastern Restaurant</td>\n",
       "      <td>Platform</td>\n",
       "      <td>Chinese Restaurant</td>\n",
       "      <td>Food Court</td>\n",
       "      <td>Café</td>\n",
       "      <td>Fast Food Restaurant</td>\n",
       "      <td>12.971024</td>\n",
       "      <td>80.241805</td>\n",
       "      <td>6885</td>\n",
       "      <td>3</td>\n",
       "    </tr>\n",
       "    <tr>\n",
       "      <th>4</th>\n",
       "      <td>Teynampet</td>\n",
       "      <td>Indian Restaurant</td>\n",
       "      <td>Hotel</td>\n",
       "      <td>Lounge</td>\n",
       "      <td>Café</td>\n",
       "      <td>Italian Restaurant</td>\n",
       "      <td>Restaurant</td>\n",
       "      <td>Ice Cream Shop</td>\n",
       "      <td>Nightclub</td>\n",
       "      <td>Fast Food Restaurant</td>\n",
       "      <td>Pizza Place</td>\n",
       "      <td>13.044324</td>\n",
       "      <td>80.249846</td>\n",
       "      <td>12792</td>\n",
       "      <td>2</td>\n",
       "    </tr>\n",
       "  </tbody>\n",
       "</table>\n",
       "</div>"
      ],
      "text/plain": [
       "    Location 1st Most Common Venue 2nd Most Common Venue  \\\n",
       "0      Adyar     Indian Restaurant           Pizza Place   \n",
       "1    Alandur     Indian Restaurant                 Hotel   \n",
       "2   Ambattur         Movie Theater           Flea Market   \n",
       "3  Perungudi     Indian Restaurant        Sandwich Place   \n",
       "4  Teynampet     Indian Restaurant                 Hotel   \n",
       "\n",
       "  3rd Most Common Venue 4th Most Common Venue      5th Most Common Venue  \\\n",
       "0                  Café          Dessert Shop                  Rock Club   \n",
       "1           Pizza Place         Train Station                       Café   \n",
       "2        Ice Cream Shop     Indian Restaurant           Department Store   \n",
       "3              Boutique           Pizza Place  Middle Eastern Restaurant   \n",
       "4                Lounge                  Café         Italian Restaurant   \n",
       "\n",
       "  6th Most Common Venue    7th Most Common Venue 8th Most Common Venue  \\\n",
       "0        Ice Cream Shop  North Indian Restaurant             Bookstore   \n",
       "1        Breakfast Spot            Burrito Place    Chinese Restaurant   \n",
       "2         Train Station         Asian Restaurant           Pizza Place   \n",
       "3              Platform       Chinese Restaurant            Food Court   \n",
       "4            Restaurant           Ice Cream Shop             Nightclub   \n",
       "\n",
       "  9th Most Common Venue 10th Most Common Venue   Latitude  Longitude  \\\n",
       "0             Juice Bar      Electronics Store  13.006450  80.257779   \n",
       "1  Fast Food Restaurant            Supermarket  12.994373  80.194284   \n",
       "2             Multiplex         Clothing Store  13.119375  80.150765   \n",
       "3                  Café   Fast Food Restaurant  12.971024  80.241805   \n",
       "4  Fast Food Restaurant            Pizza Place  13.044324  80.249846   \n",
       "\n",
       "   Avg Price per sqft  Cluster Label  \n",
       "0               12325              1  \n",
       "1                7607              2  \n",
       "2                4420              0  \n",
       "3                6885              3  \n",
       "4               12792              2  "
      ]
     },
     "execution_count": 60,
     "metadata": {},
     "output_type": "execute_result"
    }
   ],
   "source": [
    "chennai_df_merged = pd.merge(chennai_5zones_top10_venues_sorted, df_merge, how ='inner',on = 'Location')\n",
    "chennai_df_merged['Cluster Label'] = kmeans_cluster.labels_\n",
    "chennai_df_merged"
   ]
  },
  {
   "cell_type": "markdown",
   "metadata": {},
   "source": [
    "##### Cluster 1 #####"
   ]
  },
  {
   "cell_type": "code",
   "execution_count": 61,
   "metadata": {},
   "outputs": [
    {
     "data": {
      "text/html": [
       "<div>\n",
       "<style scoped>\n",
       "    .dataframe tbody tr th:only-of-type {\n",
       "        vertical-align: middle;\n",
       "    }\n",
       "\n",
       "    .dataframe tbody tr th {\n",
       "        vertical-align: top;\n",
       "    }\n",
       "\n",
       "    .dataframe thead th {\n",
       "        text-align: right;\n",
       "    }\n",
       "</style>\n",
       "<table border=\"1\" class=\"dataframe\">\n",
       "  <thead>\n",
       "    <tr style=\"text-align: right;\">\n",
       "      <th></th>\n",
       "      <th>Location</th>\n",
       "      <th>1st Most Common Venue</th>\n",
       "      <th>2nd Most Common Venue</th>\n",
       "      <th>3rd Most Common Venue</th>\n",
       "      <th>Latitude</th>\n",
       "      <th>Longitude</th>\n",
       "      <th>Avg Price per sqft</th>\n",
       "      <th>Cluster Label</th>\n",
       "    </tr>\n",
       "  </thead>\n",
       "  <tbody>\n",
       "    <tr>\n",
       "      <th>2</th>\n",
       "      <td>Ambattur</td>\n",
       "      <td>Movie Theater</td>\n",
       "      <td>Flea Market</td>\n",
       "      <td>Ice Cream Shop</td>\n",
       "      <td>13.119375</td>\n",
       "      <td>80.150765</td>\n",
       "      <td>4420</td>\n",
       "      <td>0</td>\n",
       "    </tr>\n",
       "  </tbody>\n",
       "</table>\n",
       "</div>"
      ],
      "text/plain": [
       "   Location 1st Most Common Venue 2nd Most Common Venue 3rd Most Common Venue  \\\n",
       "2  Ambattur         Movie Theater           Flea Market        Ice Cream Shop   \n",
       "\n",
       "    Latitude  Longitude  Avg Price per sqft  Cluster Label  \n",
       "2  13.119375  80.150765                4420              0  "
      ]
     },
     "execution_count": 61,
     "metadata": {},
     "output_type": "execute_result"
    }
   ],
   "source": [
    "chenani_cluster_1 = chennai_df_merged.loc[chennai_df_merged['Cluster Label'] == 0,chennai_df_merged.columns[[0]+[1]+[2]+[3]+list(range(11, chennai_df_merged.shape[1]))]]\n",
    "chenani_cluster_1"
   ]
  },
  {
   "cell_type": "markdown",
   "metadata": {},
   "source": [
    "##### Cluster 2 #####"
   ]
  },
  {
   "cell_type": "code",
   "execution_count": 62,
   "metadata": {},
   "outputs": [
    {
     "data": {
      "text/html": [
       "<div>\n",
       "<style scoped>\n",
       "    .dataframe tbody tr th:only-of-type {\n",
       "        vertical-align: middle;\n",
       "    }\n",
       "\n",
       "    .dataframe tbody tr th {\n",
       "        vertical-align: top;\n",
       "    }\n",
       "\n",
       "    .dataframe thead th {\n",
       "        text-align: right;\n",
       "    }\n",
       "</style>\n",
       "<table border=\"1\" class=\"dataframe\">\n",
       "  <thead>\n",
       "    <tr style=\"text-align: right;\">\n",
       "      <th></th>\n",
       "      <th>Location</th>\n",
       "      <th>1st Most Common Venue</th>\n",
       "      <th>2nd Most Common Venue</th>\n",
       "      <th>3rd Most Common Venue</th>\n",
       "      <th>Latitude</th>\n",
       "      <th>Longitude</th>\n",
       "      <th>Avg Price per sqft</th>\n",
       "      <th>Cluster Label</th>\n",
       "    </tr>\n",
       "  </thead>\n",
       "  <tbody>\n",
       "    <tr>\n",
       "      <th>0</th>\n",
       "      <td>Adyar</td>\n",
       "      <td>Indian Restaurant</td>\n",
       "      <td>Pizza Place</td>\n",
       "      <td>Café</td>\n",
       "      <td>13.00645</td>\n",
       "      <td>80.257779</td>\n",
       "      <td>12325</td>\n",
       "      <td>1</td>\n",
       "    </tr>\n",
       "  </tbody>\n",
       "</table>\n",
       "</div>"
      ],
      "text/plain": [
       "  Location 1st Most Common Venue 2nd Most Common Venue 3rd Most Common Venue  \\\n",
       "0    Adyar     Indian Restaurant           Pizza Place                  Café   \n",
       "\n",
       "   Latitude  Longitude  Avg Price per sqft  Cluster Label  \n",
       "0  13.00645  80.257779               12325              1  "
      ]
     },
     "execution_count": 62,
     "metadata": {},
     "output_type": "execute_result"
    }
   ],
   "source": [
    "chenani_cluster_2 = chennai_df_merged.loc[chennai_df_merged['Cluster Label'] == 1, chennai_df_merged.columns[[0]+[1]+[2]+[3] + list(range(11, chennai_df_merged.shape[1]))]]\n",
    "chenani_cluster_2"
   ]
  },
  {
   "cell_type": "markdown",
   "metadata": {},
   "source": [
    "##### Cluster 3 #####"
   ]
  },
  {
   "cell_type": "code",
   "execution_count": 63,
   "metadata": {},
   "outputs": [
    {
     "data": {
      "text/html": [
       "<div>\n",
       "<style scoped>\n",
       "    .dataframe tbody tr th:only-of-type {\n",
       "        vertical-align: middle;\n",
       "    }\n",
       "\n",
       "    .dataframe tbody tr th {\n",
       "        vertical-align: top;\n",
       "    }\n",
       "\n",
       "    .dataframe thead th {\n",
       "        text-align: right;\n",
       "    }\n",
       "</style>\n",
       "<table border=\"1\" class=\"dataframe\">\n",
       "  <thead>\n",
       "    <tr style=\"text-align: right;\">\n",
       "      <th></th>\n",
       "      <th>Location</th>\n",
       "      <th>1st Most Common Venue</th>\n",
       "      <th>2nd Most Common Venue</th>\n",
       "      <th>3rd Most Common Venue</th>\n",
       "      <th>Latitude</th>\n",
       "      <th>Longitude</th>\n",
       "      <th>Avg Price per sqft</th>\n",
       "      <th>Cluster Label</th>\n",
       "    </tr>\n",
       "  </thead>\n",
       "  <tbody>\n",
       "    <tr>\n",
       "      <th>1</th>\n",
       "      <td>Alandur</td>\n",
       "      <td>Indian Restaurant</td>\n",
       "      <td>Hotel</td>\n",
       "      <td>Pizza Place</td>\n",
       "      <td>12.994373</td>\n",
       "      <td>80.194284</td>\n",
       "      <td>7607</td>\n",
       "      <td>2</td>\n",
       "    </tr>\n",
       "    <tr>\n",
       "      <th>4</th>\n",
       "      <td>Teynampet</td>\n",
       "      <td>Indian Restaurant</td>\n",
       "      <td>Hotel</td>\n",
       "      <td>Lounge</td>\n",
       "      <td>13.044324</td>\n",
       "      <td>80.249846</td>\n",
       "      <td>12792</td>\n",
       "      <td>2</td>\n",
       "    </tr>\n",
       "  </tbody>\n",
       "</table>\n",
       "</div>"
      ],
      "text/plain": [
       "    Location 1st Most Common Venue 2nd Most Common Venue  \\\n",
       "1    Alandur     Indian Restaurant                 Hotel   \n",
       "4  Teynampet     Indian Restaurant                 Hotel   \n",
       "\n",
       "  3rd Most Common Venue   Latitude  Longitude  Avg Price per sqft  \\\n",
       "1           Pizza Place  12.994373  80.194284                7607   \n",
       "4                Lounge  13.044324  80.249846               12792   \n",
       "\n",
       "   Cluster Label  \n",
       "1              2  \n",
       "4              2  "
      ]
     },
     "execution_count": 63,
     "metadata": {},
     "output_type": "execute_result"
    }
   ],
   "source": [
    "chenani_cluster_3 = chennai_df_merged.loc[chennai_df_merged['Cluster Label'] == 2, chennai_df_merged.columns[[0]+[1]+[2]+[3] + list(range(11, chennai_df_merged.shape[1]))]]\n",
    "chenani_cluster_3"
   ]
  },
  {
   "cell_type": "markdown",
   "metadata": {},
   "source": [
    "##### Cluster 4 #####"
   ]
  },
  {
   "cell_type": "code",
   "execution_count": 64,
   "metadata": {},
   "outputs": [
    {
     "data": {
      "text/html": [
       "<div>\n",
       "<style scoped>\n",
       "    .dataframe tbody tr th:only-of-type {\n",
       "        vertical-align: middle;\n",
       "    }\n",
       "\n",
       "    .dataframe tbody tr th {\n",
       "        vertical-align: top;\n",
       "    }\n",
       "\n",
       "    .dataframe thead th {\n",
       "        text-align: right;\n",
       "    }\n",
       "</style>\n",
       "<table border=\"1\" class=\"dataframe\">\n",
       "  <thead>\n",
       "    <tr style=\"text-align: right;\">\n",
       "      <th></th>\n",
       "      <th>Location</th>\n",
       "      <th>1st Most Common Venue</th>\n",
       "      <th>2nd Most Common Venue</th>\n",
       "      <th>3rd Most Common Venue</th>\n",
       "      <th>Latitude</th>\n",
       "      <th>Longitude</th>\n",
       "      <th>Avg Price per sqft</th>\n",
       "      <th>Cluster Label</th>\n",
       "    </tr>\n",
       "  </thead>\n",
       "  <tbody>\n",
       "    <tr>\n",
       "      <th>3</th>\n",
       "      <td>Perungudi</td>\n",
       "      <td>Indian Restaurant</td>\n",
       "      <td>Sandwich Place</td>\n",
       "      <td>Boutique</td>\n",
       "      <td>12.971024</td>\n",
       "      <td>80.241805</td>\n",
       "      <td>6885</td>\n",
       "      <td>3</td>\n",
       "    </tr>\n",
       "  </tbody>\n",
       "</table>\n",
       "</div>"
      ],
      "text/plain": [
       "    Location 1st Most Common Venue 2nd Most Common Venue  \\\n",
       "3  Perungudi     Indian Restaurant        Sandwich Place   \n",
       "\n",
       "  3rd Most Common Venue   Latitude  Longitude  Avg Price per sqft  \\\n",
       "3              Boutique  12.971024  80.241805                6885   \n",
       "\n",
       "   Cluster Label  \n",
       "3              3  "
      ]
     },
     "execution_count": 64,
     "metadata": {},
     "output_type": "execute_result"
    }
   ],
   "source": [
    "chenani_cluster_4 = chennai_df_merged.loc[chennai_df_merged['Cluster Label'] == 3, chennai_df_merged.columns[[0]+[1]+[2]+[3] + list(range(11, chennai_df_merged.shape[1]))]]\n",
    "chenani_cluster_4"
   ]
  },
  {
   "cell_type": "markdown",
   "metadata": {},
   "source": [
    "##### Let's represent these clusters on the map. #####"
   ]
  },
  {
   "cell_type": "code",
   "execution_count": 65,
   "metadata": {},
   "outputs": [
    {
     "data": {
      "text/html": [
       "<div style=\"width:100%;\"><div style=\"position:relative;width:100%;height:0;padding-bottom:60%;\"><iframe src=\"data:text/html;charset=utf-8;base64,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\" style=\"position:absolute;width:100%;height:100%;left:0;top:0;border:none !important;\" allowfullscreen webkitallowfullscreen mozallowfullscreen></iframe></div></div>"
      ],
      "text/plain": [
       "<folium.folium.Map at 0x7f813a3655f8>"
      ]
     },
     "execution_count": 65,
     "metadata": {},
     "output_type": "execute_result"
    }
   ],
   "source": [
    "chennai_clusters_map = folium.Map(location=chennai_centre, zoom_start=12)\n",
    "folium.Marker(chennai_centre, popup='Chennai').add_to(chennai_clusters_map)\n",
    "\n",
    "colors = ['blue', 'green','black','yellow' ,'red','magenta','orange','darkblue']\n",
    "\n",
    "for lat, lon, poi, cluster in zip(chennai_df_merged['Latitude'], \n",
    "                                  chennai_df_merged['Longitude'], \n",
    "                                  chennai_df_merged['Location'], \n",
    "                                  chennai_df_merged['Cluster Label']):\n",
    "\n",
    "    label = folium.Popup(str(poi) + ' Cluster ' + str(cluster), parse_html=True)\n",
    "    folium.CircleMarker(\n",
    "        [lat, lon],\n",
    "        radius=cluster*5+10,\n",
    "        popup=label,\n",
    "        color=colors[cluster],\n",
    "        fill=True,\n",
    "        fill_color=colors[cluster+4],\n",
    "        fill_opacity=0.5).add_to(chennai_clusters_map)\n",
    "       \n",
    "chennai_clusters_map"
   ]
  },
  {
   "cell_type": "markdown",
   "metadata": {},
   "source": [
    "##### Form a dataframe to come up with names for the clusters. #####"
   ]
  },
  {
   "cell_type": "code",
   "execution_count": 66,
   "metadata": {},
   "outputs": [
    {
     "data": {
      "text/html": [
       "<div>\n",
       "<style scoped>\n",
       "    .dataframe tbody tr th:only-of-type {\n",
       "        vertical-align: middle;\n",
       "    }\n",
       "\n",
       "    .dataframe tbody tr th {\n",
       "        vertical-align: top;\n",
       "    }\n",
       "\n",
       "    .dataframe thead th {\n",
       "        text-align: right;\n",
       "    }\n",
       "</style>\n",
       "<table border=\"1\" class=\"dataframe\">\n",
       "  <thead>\n",
       "    <tr style=\"text-align: right;\">\n",
       "      <th></th>\n",
       "      <th>Location</th>\n",
       "      <th>Cluster Label</th>\n",
       "      <th>1st Most Common Venue</th>\n",
       "      <th>2nd Most Common Venue</th>\n",
       "      <th>3rd Most Common Venue</th>\n",
       "      <th>Avg Price per sqft</th>\n",
       "    </tr>\n",
       "  </thead>\n",
       "  <tbody>\n",
       "    <tr>\n",
       "      <th>2</th>\n",
       "      <td>Ambattur</td>\n",
       "      <td>1</td>\n",
       "      <td>Movie Theater</td>\n",
       "      <td>Flea Market</td>\n",
       "      <td>Ice Cream Shop</td>\n",
       "      <td>4420</td>\n",
       "    </tr>\n",
       "    <tr>\n",
       "      <th>0</th>\n",
       "      <td>Adyar</td>\n",
       "      <td>2</td>\n",
       "      <td>Indian Restaurant</td>\n",
       "      <td>Pizza Place</td>\n",
       "      <td>Café</td>\n",
       "      <td>12325</td>\n",
       "    </tr>\n",
       "    <tr>\n",
       "      <th>1</th>\n",
       "      <td>Alandur</td>\n",
       "      <td>2</td>\n",
       "      <td>Indian Restaurant</td>\n",
       "      <td>Hotel</td>\n",
       "      <td>Pizza Place</td>\n",
       "      <td>7607</td>\n",
       "    </tr>\n",
       "    <tr>\n",
       "      <th>4</th>\n",
       "      <td>Teynampet</td>\n",
       "      <td>2</td>\n",
       "      <td>Indian Restaurant</td>\n",
       "      <td>Hotel</td>\n",
       "      <td>Lounge</td>\n",
       "      <td>12792</td>\n",
       "    </tr>\n",
       "    <tr>\n",
       "      <th>3</th>\n",
       "      <td>Perungudi</td>\n",
       "      <td>3</td>\n",
       "      <td>Indian Restaurant</td>\n",
       "      <td>Sandwich Place</td>\n",
       "      <td>Boutique</td>\n",
       "      <td>6885</td>\n",
       "    </tr>\n",
       "  </tbody>\n",
       "</table>\n",
       "</div>"
      ],
      "text/plain": [
       "    Location  Cluster Label 1st Most Common Venue 2nd Most Common Venue  \\\n",
       "2   Ambattur              1         Movie Theater           Flea Market   \n",
       "0      Adyar              2     Indian Restaurant           Pizza Place   \n",
       "1    Alandur              2     Indian Restaurant                 Hotel   \n",
       "4  Teynampet              2     Indian Restaurant                 Hotel   \n",
       "3  Perungudi              3     Indian Restaurant        Sandwich Place   \n",
       "\n",
       "  3rd Most Common Venue  Avg Price per sqft  \n",
       "2        Ice Cream Shop                4420  \n",
       "0                  Café               12325  \n",
       "1           Pizza Place                7607  \n",
       "4                Lounge               12792  \n",
       "3              Boutique                6885  "
      ]
     },
     "execution_count": 66,
     "metadata": {},
     "output_type": "execute_result"
    }
   ],
   "source": [
    "df_final = chennai_df_merged[['Location','Cluster Label','1st Most Common Venue','2nd Most Common Venue','3rd Most Common Venue','Avg Price per sqft']].sort_values(by='Cluster Label')\n",
    "df_final['Cluster Label'] = [1,2,2,2,3]\n",
    "df_final.head()"
   ]
  },
  {
   "cell_type": "code",
   "execution_count": 67,
   "metadata": {},
   "outputs": [
    {
     "data": {
      "text/plain": [
       "(5, 6)"
      ]
     },
     "execution_count": 67,
     "metadata": {},
     "output_type": "execute_result"
    }
   ],
   "source": [
    "df_final.shape"
   ]
  },
  {
   "cell_type": "markdown",
   "metadata": {},
   "source": [
    "## Results and Discussion  <a name=\"results\"></a>##\n",
    "**Results**\n",
    "\n",
    "* **Cluster Results Analysis**\n",
    "\n",
    "     * Cluster 1 contains zones whose common venues are not restaurants\n",
    "     * Cluster 2 contains zones whose 1st most common venue is a restaurant\n",
    "     * Cluster 3 contains zones with top 2 most common venues being restaurants\n",
    "     *  Cluster 4 again contains zones whose common venues are of other categories but has restaurants as one of the common places\n",
    "* From one hot encoding we found that ‘Adyar’,’Kodambakkam’,’Perungudi’ and ’Teynampet’ zones have ‘Office’ as the 1st frequent professional venue with ‘Perungudi’ having the highest frequency among them. This tells us that these 4 zones out of the 6 selected zones will be good for our business as our potential customers are employees.\n",
    "* Also, Indian Restaurants are the most frequent venues near the selected zones suggesting the type of cuisine customers in that area prefer. Teynampet has the most restaurants, out of all the selected zones, based on the venues explored.\n",
    "* 'Ambattur' has the least average price per sqft, followed by 'Perungudi', among the selected zones.\n",
    "\n",
    "**Discussion**\n",
    "\n",
    "Based on the clustering and exploratory data analysis it can be seen that with maximum frequency of offices and moderate restaurants in the area ‘Perungudi’ seems like a potential zone to open up our Restaurant-cum-Catering service. The pricing data also seems favorable to this. Clustering also shows these venues in cluster 3 which represents the cluster with restaurants as the frequent venues. \n",
    "Although the results seem promising as Perungudi is an area with a lot of offices in the city of Chennai, further analysis needs to be done based on the wards in these zones to get a more accurate location to open up the business. Since the clustering is done based on only the common venues obtained from Foursquare the results will need more refining. But this preliminary analysis will be of great help in the beginning stages of the business plan."
   ]
  },
  {
   "cell_type": "markdown",
   "metadata": {},
   "source": [
    "## Conclusion  <a name=\"conclusion\"></a>##\n",
    "\n",
    "The main objective of this project was to understand how to deal with real life data science projects using some of the popular Python packages such as seaborn, folium, BeautifulSoup and geocoders. I have also got a glimpse of how web scraping is done and how FourSquare can be used to acquire data of frequent venues in a selected area.\n",
    "\n",
    "The idea of opening a “Restaurant-cum-Catering service in an area which has a huge pool of office workers (‘Perungudi’) is an interesting and a potential idea to try in Chennai where Catering Services are not very well established. Although the analysis is very preliminary and requires a lot of refining based on the data used (refined ward data per each zone, pricing data), this analysis helped me understand Chennai more than I did in the 6 years that I stayed here and, as mentioned earlier, will be of great help in the beginning stages of the business plan."
   ]
  },
  {
   "cell_type": "code",
   "execution_count": null,
   "metadata": {},
   "outputs": [],
   "source": []
  }
 ],
 "metadata": {
  "kernelspec": {
   "display_name": "Python",
   "language": "python",
   "name": "conda-env-python-py"
  },
  "language_info": {
   "codemirror_mode": {
    "name": "ipython",
    "version": 3
   },
   "file_extension": ".py",
   "mimetype": "text/x-python",
   "name": "python",
   "nbconvert_exporter": "python",
   "pygments_lexer": "ipython3",
   "version": "3.6.7"
  }
 },
 "nbformat": 4,
 "nbformat_minor": 4
}
